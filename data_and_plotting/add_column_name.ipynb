{
 "cells": [
  {
   "cell_type": "code",
   "execution_count": 2,
   "id": "b52b186d-0740-4e66-a322-d2d00d9ebb6d",
   "metadata": {},
   "outputs": [],
   "source": [
    "import numpy as np\n",
    "import glob\n",
    "import pandas as pd"
   ]
  },
  {
   "cell_type": "code",
   "execution_count": 26,
   "id": "601160dd-ff18-4b07-a103-57ab9f4369a0",
   "metadata": {},
   "outputs": [],
   "source": [
    "files = glob.glob(\"combined_data/*VCCA*.csv\")"
   ]
  },
  {
   "cell_type": "code",
   "execution_count": 27,
   "id": "f4f0d81d-1364-4b7e-aa4e-462b0b950c29",
   "metadata": {},
   "outputs": [
    {
     "data": {
      "text/plain": [
       "25"
      ]
     },
     "execution_count": 27,
     "metadata": {},
     "output_type": "execute_result"
    }
   ],
   "source": [
    "len(files)"
   ]
  },
  {
   "cell_type": "code",
   "execution_count": 5,
   "id": "e931ebcb-6c97-4dea-b04f-baa9a6092b6b",
   "metadata": {},
   "outputs": [],
   "source": [
    "for fname in files:\n",
    "    with open(fname, \"r\") as f:\n",
    "        new_header = f.readline()[0:-1] + \",num_pert\\n\"\n",
    "        old_data = f.readlines()\n",
    "        new_contents = new_header + \"\".join(old_data)\n",
    "        \n",
    "    with open(fname, \"w\") as f:\n",
    "        f.write(new_contents)"
   ]
  },
  {
   "cell_type": "code",
   "execution_count": 24,
   "id": "091bc0b2-e62a-431a-aaf9-2e319be77320",
   "metadata": {},
   "outputs": [],
   "source": [
    "for fname in files[2:]:\n",
    "    with open(fname, \"r\") as f:\n",
    "        split_header = f.readline().split(\",\")\n",
    "        new_header = [split_header[0]] + [\"sidx\"] + split_header[1:]\n",
    "        new_header = \",\".join(new_header)\n",
    "        new_data = \"\"\n",
    "        count = 0\n",
    "        for idx, line in enumerate(f.readlines()):\n",
    "            split_line = line.split(\",\")\n",
    "            new_line = [split_line[0]] + [str(count)] + split_line[1:]\n",
    "            new_line = \",\".join(new_line)\n",
    "            new_data += new_line\n",
    "            if idx % 2 == 1:\n",
    "                count += 1\n",
    "        new_contents = new_header + new_data\n",
    "        \n",
    "    with open(fname, \"w\") as f:\n",
    "        f.write(new_contents)"
   ]
  },
  {
   "cell_type": "code",
   "execution_count": 29,
   "id": "4d2ad775-9797-4ccc-9805-35a7e638ca0c",
   "metadata": {},
   "outputs": [],
   "source": [
    "for fname in files:\n",
    "    with open(fname, \"r\") as f:\n",
    "        split_header = f.readline().split(\",\")\n",
    "        new_header = split_header[0:2] + [\"T\"] + split_header[2:]\n",
    "        new_header = \",\".join(new_header)\n",
    "        new_data = \"\"\n",
    "        for idx, line in enumerate(f.readlines()):\n",
    "            split_line = line.split(\",\")\n",
    "            new_line = split_line[0:2] + [\"-1\"] + split_line[2:]\n",
    "            new_line = \",\".join(new_line)\n",
    "            new_data += new_line\n",
    "        new_contents = new_header + new_data\n",
    "        \n",
    "    with open(fname, \"w\") as f:\n",
    "        f.write(new_contents)"
   ]
  },
  {
   "cell_type": "code",
   "execution_count": 19,
   "id": "5239a442-c038-4076-bfcf-9dadee28eb9f",
   "metadata": {},
   "outputs": [
    {
     "data": {
      "text/plain": [
       "'ns,sidx,re,R,numerical_DHS,opt_DHS,num_iterations,num_func_evals,num_pert\\n'"
      ]
     },
     "execution_count": 19,
     "metadata": {},
     "output_type": "execute_result"
    }
   ],
   "source": [
    "new_header"
   ]
  },
  {
   "cell_type": "code",
   "execution_count": 6,
   "id": "8afb7fac-d3c2-4a15-8e9f-903153a67c4d",
   "metadata": {},
   "outputs": [],
   "source": [
    "\"\"\"\n",
    "for fname in files:\n",
    "    new_file_str = \"\"\n",
    "    with open(fname, \"r\") as f:\n",
    "        for idx, line in enumerate(f.readlines()):\n",
    "            if idx < 2:\n",
    "                new_line = \",\".join(line.split(\",\")[0:9])\n",
    "                new_file_str += new_line\n",
    "            else:\n",
    "                new_line = \",\".join(line.split(\",\")[0:9])\n",
    "                new_file_str += \"\\n\" + new_line\n",
    "    with open(fname, \"w\") as f:\n",
    "        f.write(new_file_str)\n",
    "\"\"\""
   ]
  }
 ],
 "metadata": {
  "kernelspec": {
   "display_name": "Python 3 (ipykernel)",
   "language": "python",
   "name": "python3"
  },
  "language_info": {
   "codemirror_mode": {
    "name": "ipython",
    "version": 3
   },
   "file_extension": ".py",
   "mimetype": "text/x-python",
   "name": "python",
   "nbconvert_exporter": "python",
   "pygments_lexer": "ipython3",
   "version": "3.10.4"
  }
 },
 "nbformat": 4,
 "nbformat_minor": 5
}
