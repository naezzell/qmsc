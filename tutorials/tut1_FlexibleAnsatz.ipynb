{
 "cells": [
  {
   "cell_type": "code",
   "execution_count": 1,
   "id": "9d2ef5d8-cb4e-4731-aa06-1e57b4f1bfb4",
   "metadata": {},
   "outputs": [],
   "source": [
    "# class imports from QMSC\n",
    "from qmsc.ansatz import FlexibleAnsatz"
   ]
  },
  {
   "cell_type": "markdown",
   "id": "704baaea-a2c7-4f6d-b74a-55add419c23a",
   "metadata": {},
   "source": [
    "# Building an ansatz with FlexibleAnsatz\n",
    "* A `FlexbileAnsatz` object is instantiated with the # of qubits ansatz is over, i.e.\n",
    "`ansatz = FlexibleAnsatz(2)`\n",
    "    * class member data `ansatz.cwa` contains ansatz information in the form `[('name1', param_list1, qubit_list1), ('name2', param_list2, qubit_list2)]`\n",
    "* Basic way to add elements is with `insert_x` methods where `x` is an ansatz type\n",
    "    * Takes as argument qubits to build `x` over\n",
    "    * Optinally takes `loc` as location to place elements"
   ]
  },
  {
   "cell_type": "code",
   "execution_count": 2,
   "id": "878b07e2-854f-45f2-b363-3d7874a2c946",
   "metadata": {},
   "outputs": [
    {
     "name": "stdout",
     "output_type": "stream",
     "text": [
      "Printing ansatz.cwa\n",
      "[('G', [0], [0, 1]), ('G2', [0], [0, 1]), ('G', [0], [0, 1])]\n",
      "===================================\n",
      "Default print returns in more readable new-line delimited string.\n",
      "G([0])_([0, 1])\n",
      "G2([0])_([0, 1])\n",
      "G([0])_([0, 1])\n",
      "\n"
     ]
    }
   ],
   "source": [
    "ns = 1\n",
    "na = 1\n",
    "ansatz = FlexibleAnsatz(ns + na)\n",
    "ansatz.insert_givens_layers([0, 1])\n",
    "print(\"Printing ansatz.cwa\")\n",
    "print(ansatz.cwa)\n",
    "print(\"===================================\")\n",
    "print(\"Default print returns in more readable new-line delimited string.\")\n",
    "print(ansatz)"
   ]
  },
  {
   "cell_type": "markdown",
   "id": "79f0fb50-0e75-4039-adfe-6f7cb29aff7c",
   "metadata": {},
   "source": [
    "## The `FlexibleAnsatz` class has many useful methods `get` used below"
   ]
  },
  {
   "cell_type": "code",
   "execution_count": 3,
   "id": "40367308-f4c5-4b2d-bb05-30c0437fe8ec",
   "metadata": {},
   "outputs": [
    {
     "data": {
      "text/plain": [
       "[0, 1, 2, 3]"
      ]
     },
     "execution_count": 3,
     "metadata": {},
     "output_type": "execute_result"
    }
   ],
   "source": [
    "ansatz.get_insertion_locations()"
   ]
  },
  {
   "cell_type": "code",
   "execution_count": 4,
   "id": "06bd3cf5-314f-4ae8-b6db-9782f1d52b38",
   "metadata": {},
   "outputs": [
    {
     "data": {
      "text/plain": [
       "['G', 'G2', 'G']"
      ]
     },
     "execution_count": 4,
     "metadata": {},
     "output_type": "execute_result"
    }
   ],
   "source": [
    "ansatz.get_instructions()"
   ]
  },
  {
   "cell_type": "code",
   "execution_count": 5,
   "id": "dc935b05-449d-4e30-8976-f85a359e3297",
   "metadata": {},
   "outputs": [
    {
     "data": {
      "text/plain": [
       "3"
      ]
     },
     "execution_count": 5,
     "metadata": {},
     "output_type": "execute_result"
    }
   ],
   "source": [
    "ansatz.get_num_instructions()"
   ]
  },
  {
   "cell_type": "code",
   "execution_count": 6,
   "id": "9d336fd6-5554-4619-b9a4-793a3261fd74",
   "metadata": {},
   "outputs": [
    {
     "data": {
      "text/plain": [
       "3"
      ]
     },
     "execution_count": 6,
     "metadata": {},
     "output_type": "execute_result"
    }
   ],
   "source": [
    "ansatz.get_num_parameters()"
   ]
  },
  {
   "cell_type": "code",
   "execution_count": 7,
   "id": "0d4496fd-a2b8-42a9-ba80-7afc5879e7f6",
   "metadata": {},
   "outputs": [
    {
     "data": {
      "text/plain": [
       "['G', 'G2', 'G']"
      ]
     },
     "execution_count": 7,
     "metadata": {},
     "output_type": "execute_result"
    }
   ],
   "source": [
    "ansatz.get_instructions()"
   ]
  },
  {
   "cell_type": "markdown",
   "id": "21b81168-30f3-497d-86c4-baf56bf57a6c",
   "metadata": {},
   "source": [
    "## We can insert a new gate motif--say an arbitrary one qubit gate via Euler decomposition on qubit 1--in the middle of the above motif and then initialize some random parameters\n",
    "* Editorial note: That this method takes as argument an integer but before the `insert_givens_layer` used a list is a testament to this not being \"production-level\" code. Sorry!\n",
    "* We could say the same about the default behavior: For Givens, it defaulted to making angles 0--here it defaulted to random angles."
   ]
  },
  {
   "cell_type": "code",
   "execution_count": 8,
   "id": "7a9a75d8-d275-4bea-bd4d-4bb963c07c26",
   "metadata": {},
   "outputs": [
    {
     "name": "stdout",
     "output_type": "stream",
     "text": [
      "G([0])_([0, 1])\n",
      "rz([0.39841959800056326])_([1])\n",
      "ry([1.163376283479179])_([1])\n",
      "rz([3.5358645708979624])_([1])\n",
      "G2([0])_([0, 1])\n",
      "G([0])_([0, 1])\n",
      "\n"
     ]
    }
   ],
   "source": [
    "ansatz.insert_arb1q(1, loc=1)\n",
    "print(ansatz)"
   ]
  },
  {
   "cell_type": "code",
   "execution_count": 9,
   "id": "0c7cd319-4204-40c3-9da9-8a0d1c3ebc4b",
   "metadata": {},
   "outputs": [
    {
     "name": "stdout",
     "output_type": "stream",
     "text": [
      "G([0])_([0, 1])\n",
      "rz([1])_([1])\n",
      "ry([2])_([1])\n",
      "rz([3])_([1])\n",
      "G2([4])_([0, 1])\n",
      "G([5])_([0, 1])\n",
      "\n"
     ]
    }
   ],
   "source": [
    "ansatz.update_parameters([0, 1, 2, 3, 4, 5])\n",
    "print(ansatz)"
   ]
  },
  {
   "cell_type": "code",
   "execution_count": 10,
   "id": "a1bfacec-b884-41f0-a2d6-0707dd2b700d",
   "metadata": {},
   "outputs": [
    {
     "name": "stdout",
     "output_type": "stream",
     "text": [
      "G([2.5446847062526103])_([0, 1])\n",
      "rz([5.224698257232423])_([1])\n",
      "ry([5.186739502800468])_([1])\n",
      "rz([3.4684616095443426])_([1])\n",
      "G2([0.7914025654961377])_([0, 1])\n",
      "G([4.532332766967361])_([0, 1])\n",
      "\n"
     ]
    }
   ],
   "source": [
    "ansatz.resample_parameters()\n",
    "print(ansatz)"
   ]
  },
  {
   "cell_type": "markdown",
   "id": "e766d7dc-3c83-453b-b912-22c09040c241",
   "metadata": {
    "tags": []
   },
   "source": [
    "## Convert to a circuit for `qiskit` style control"
   ]
  },
  {
   "cell_type": "code",
   "execution_count": 11,
   "id": "c868d9b9-c3c0-442f-8b64-06989d88e0a2",
   "metadata": {},
   "outputs": [
    {
     "name": "stdout",
     "output_type": "stream",
     "text": [
      "Printing circuit in default `abstract form`\n",
      "     ┌──────────┐                                          ┌──────────┐»\n",
      "q_0: ┤0         ├──────────────────────────────────────────┤0         ├»\n",
      "     │  Unitary │┌────────────┐┌────────────┐┌────────────┐│  Unitary │»\n",
      "q_1: ┤1         ├┤ Rz(5.2247) ├┤ Ry(5.1867) ├┤ Rz(3.4685) ├┤1         ├»\n",
      "     └──────────┘└────────────┘└────────────┘└────────────┘└──────────┘»\n",
      "«     ┌──────────┐\n",
      "«q_0: ┤0         ├\n",
      "«     │  Unitary │\n",
      "«q_1: ┤1         ├\n",
      "«     └──────────┘\n",
      "===================================\n",
      "Printing circuit after unraveling abstracted gates.\n",
      "global phase: 4.385\n",
      "        ┌───────────────────┐            ┌────────────────────┐         »\n",
      "q_0: ───┤ U3(π/2,-π/2,3π/8) ├─────■──────┤ U3(1.8693,-π,-π/2) ├──────■──»\n",
      "     ┌──┴───────────────────┴──┐┌─┴─┐┌───┴────────────────────┴───┐┌─┴─┐»\n",
      "q_1: ┤ U3(0.0013233,-π/2,-π/8) ├┤ X ├┤ U3(1.5717,0.29846,-1.5695) ├┤ X ├»\n",
      "     └─────────────────────────┘└───┘└────────────────────────────┘└───┘»\n",
      "«        ┌─────────────────┐   ┌─────────────────┐                 »\n",
      "«q_0: ───┤ U3(π/2,-3π/8,0) ├───┤ U3(π/2,π/2,π/8) ├─────────────────»\n",
      "«     ┌──┴─────────────────┴──┐└──┬────────────┬─┘┌───────────────┐»\n",
      "«q_1: ┤ U3(1.5721,-7π/8,-π/2) ├───┤ U1(5.2247) ├──┤ R(5.1867,π/2) ├»\n",
      "«     └───────────────────────┘   └────────────┘  └───────────────┘»\n",
      "«                                                   »\n",
      "«q_0: ───────────────────────────────────────────■──»\n",
      "«     ┌────────────┐┌─────────────────────────┐┌─┴─┐»\n",
      "«q_1: ┤ U1(3.4685) ├┤ U3(0.0013233,-π/2,3π/8) ├┤ X ├»\n",
      "«     └────────────┘└─────────────────────────┘└───┘»\n",
      "«         ┌────────────────────┐           ┌───────────────┐    »\n",
      "«q_0: ────┤ U3(2.7459,-π,-π/2) ├─────■─────┤ U3(π/2,π/8,0) ├────»\n",
      "«     ┌───┴────────────────────┴──┐┌─┴─┐┌──┴───────────────┴───┐»\n",
      "«q_1: ┤ U3(1.5709,1.1751,-1.5703) ├┤ X ├┤ U3(1.5721,5π/8,-π/2) ├»\n",
      "«     └───────────────────────────┘└───┘└──────────────────────┘»\n",
      "«       ┌──────────────────┐           ┌────────────────────┐         »\n",
      "«q_0: ──┤ U3(π/2,π/2,7π/8) ├────■──────┤ U3(2.2662,-π,-π/2) ├──────■──»\n",
      "«     ┌─┴──────────────────┴─┐┌─┴─┐┌───┴────────────────────┴───┐┌─┴─┐»\n",
      "«q_1: ┤ U3(3.1403,π/2,-5π/8) ├┤ X ├┤ U3(1.5713,0.69537,-1.5698) ├┤ X ├»\n",
      "«     └──────────────────────┘└───┘└────────────────────────────┘└───┘»\n",
      "«        ┌────────────────┐  \n",
      "«q_0: ───┤ U3(π/2,π/8,-π) ├──\n",
      "«     ┌──┴────────────────┴─┐\n",
      "«q_1: ┤ U3(1.5695,5π/8,π/2) ├\n",
      "«     └─────────────────────┘\n"
     ]
    }
   ],
   "source": [
    "ansatz_circ = ansatz.build_circ(2)\n",
    "print(\"Printing circuit in default `abstract form`\")\n",
    "print(ansatz_circ.draw())\n",
    "print(\"===================================\")\n",
    "print(\"Printing circuit after unraveling abstracted gates.\")\n",
    "print(ansatz_circ.decompose().draw())"
   ]
  },
  {
   "cell_type": "markdown",
   "id": "c504b381-f3b7-4c0a-ba1a-6b8484353d0b",
   "metadata": {},
   "source": [
    "#### We can also choose to change ordering of qubits from ansatz to circuit--this can help deal with native qubit topology on a device compared to ansatz"
   ]
  },
  {
   "cell_type": "code",
   "execution_count": 12,
   "id": "3605453a-222b-4174-9f37-3a8d68eb8031",
   "metadata": {},
   "outputs": [
    {
     "name": "stdout",
     "output_type": "stream",
     "text": [
      "     ┌──────────┐┌────────────┐┌────────────┐┌────────────┐┌──────────┐»\n",
      "q_0: ┤1         ├┤ Rz(5.2247) ├┤ Ry(5.1867) ├┤ Rz(3.4685) ├┤1         ├»\n",
      "     │  Unitary │└────────────┘└────────────┘└────────────┘│  Unitary │»\n",
      "q_1: ┤0         ├──────────────────────────────────────────┤0         ├»\n",
      "     └──────────┘                                          └──────────┘»\n",
      "«     ┌──────────┐\n",
      "«q_0: ┤1         ├\n",
      "«     │  Unitary │\n",
      "«q_1: ┤0         ├\n",
      "«     └──────────┘\n"
     ]
    }
   ],
   "source": [
    "ansatz_circ = ansatz.build_circ(2, qubit_mapping = {0: 1, 1:0})\n",
    "print(ansatz_circ.draw())"
   ]
  },
  {
   "cell_type": "markdown",
   "id": "a6f0826f-7c81-4651-8137-5fc20a52455d",
   "metadata": {},
   "source": [
    "## More advanced feature 1: Adding an identity perturbation"
   ]
  },
  {
   "cell_type": "code",
   "execution_count": 13,
   "id": "1e157918-a279-429a-bb64-5ad2fe518136",
   "metadata": {},
   "outputs": [
    {
     "name": "stdout",
     "output_type": "stream",
     "text": [
      "G([2.5446847062526103])_([0, 1])\n",
      "rz([5.224698257232423])_([1])\n",
      "ry([5.186739502800468])_([1])\n",
      "rz([3.4684616095443426])_([1])\n",
      "G2([0.7914025654961377])_([0, 1])\n",
      "G([4.532332766967361])_([0, 1])\n",
      "\n",
      "===================================\n",
      "printed ansatz after adding identity perturbation\n",
      "G([2.5446847062526103])_([0, 1])\n",
      "cnot(None)_([1, 0])\n",
      "rz([0])_([1])\n",
      "rx([0])_([1])\n",
      "rz([0])_([1])\n",
      "rx([0])_([0])\n",
      "rz([0])_([0])\n",
      "rx([0])_([0])\n",
      "cnot(None)_([1, 0])\n",
      "rz([5.224698257232423])_([1])\n",
      "ry([5.186739502800468])_([1])\n",
      "rz([3.4684616095443426])_([1])\n",
      "G2([0.7914025654961377])_([0, 1])\n",
      "G([4.532332766967361])_([0, 1])\n",
      "\n"
     ]
    }
   ],
   "source": [
    "print(ansatz)\n",
    "ansatz.insert_random_idres()\n",
    "print(\"===================================\")\n",
    "print(\"printed ansatz after adding identity perturbation\")\n",
    "print(ansatz)"
   ]
  },
  {
   "cell_type": "markdown",
   "id": "12f583e2-40e3-4938-92d4-66c54c344159",
   "metadata": {},
   "source": [
    "## More advanced feature 2: Removing contiguous gates which are collectively identity"
   ]
  },
  {
   "cell_type": "code",
   "execution_count": 14,
   "id": "41686abd-254b-41c6-a60e-44f9b36d1f3f",
   "metadata": {},
   "outputs": [
    {
     "name": "stdout",
     "output_type": "stream",
     "text": [
      "G([2.5446847062526103])_([0, 1])\n",
      "cnot(None)_([1, 0])\n",
      "rz([0])_([1])\n",
      "rx([0])_([1])\n",
      "rz([0])_([1])\n",
      "rx([0])_([0])\n",
      "rz([0])_([0])\n",
      "rx([0])_([0])\n",
      "cnot(None)_([1, 0])\n",
      "rz([5.224698257232423])_([1])\n",
      "ry([5.186739502800468])_([1])\n",
      "rz([3.4684616095443426])_([1])\n",
      "G2([0.7914025654961377])_([0, 1])\n",
      "G([4.532332766967361])_([0, 1])\n",
      "\n",
      "===================================\n",
      "printed ansatz after removing identity perturbation\n",
      "G([2.5446847062526103])_([0, 1])\n",
      "rz([5.224698257232423])_([1])\n",
      "ry([5.186739502800468])_([1])\n",
      "rz([3.4684616095443426])_([1])\n",
      "G2([0.7914025654961377])_([0, 1])\n",
      "G([4.532332766967361])_([0, 1])\n",
      "\n"
     ]
    }
   ],
   "source": [
    "print(ansatz)\n",
    "ansatz.remove_identity_elements()\n",
    "print(\"===================================\")\n",
    "print(\"printed ansatz after removing identity perturbation\")\n",
    "print(ansatz)"
   ]
  },
  {
   "cell_type": "markdown",
   "id": "0a1ea592-5311-4f6a-8e8f-70559497e617",
   "metadata": {},
   "source": [
    "## More advanced feature 3: Adding an identity perturbation before/after instruction"
   ]
  },
  {
   "cell_type": "code",
   "execution_count": 17,
   "id": "f401431b-2394-457a-aa8f-6d1689545f79",
   "metadata": {},
   "outputs": [
    {
     "name": "stdout",
     "output_type": "stream",
     "text": [
      "G([2.5446847062526103])_([0, 1])\n",
      "rz([5.224698257232423])_([1])\n",
      "ry([5.186739502800468])_([1])\n",
      "rz([3.4684616095443426])_([1])\n",
      "G2([0.7914025654961377])_([0, 1])\n",
      "G([4.532332766967361])_([0, 1])\n",
      "\n",
      "===================================\n",
      "printed ansatz after adding identity perturbation\n",
      "G([2.5446847062526103])_([0, 1])\n",
      "rz([5.224698257232423])_([1])\n",
      "ry([5.186739502800468])_([1])\n",
      "cnot(None)_([1, 0])\n",
      "rz([0])_([1])\n",
      "rx([0])_([1])\n",
      "rz([0])_([1])\n",
      "rx([0])_([0])\n",
      "rz([0])_([0])\n",
      "rx([0])_([0])\n",
      "cnot(None)_([1, 0])\n",
      "rz([3.4684616095443426])_([1])\n",
      "G2([0.7914025654961377])_([0, 1])\n",
      "G([4.532332766967361])_([0, 1])\n",
      "\n"
     ]
    }
   ],
   "source": [
    "print(ansatz)\n",
    "ansatz.insert_random_idres_after_loc(after_loc=3)\n",
    "print(\"===================================\")\n",
    "print(\"printed ansatz after adding identity perturbation\")\n",
    "print(ansatz)"
   ]
  },
  {
   "cell_type": "code",
   "execution_count": 18,
   "id": "39b2767c-23b2-4c66-aeac-9cdfc464081e",
   "metadata": {},
   "outputs": [
    {
     "name": "stdout",
     "output_type": "stream",
     "text": [
      "G([2.5446847062526103])_([0, 1])\n",
      "rz([5.224698257232423])_([1])\n",
      "ry([5.186739502800468])_([1])\n",
      "cnot(None)_([1, 0])\n",
      "rz([0])_([1])\n",
      "rx([0])_([1])\n",
      "rz([0])_([1])\n",
      "rx([0])_([0])\n",
      "rz([0])_([0])\n",
      "rx([0])_([0])\n",
      "cnot(None)_([1, 0])\n",
      "rz([3.4684616095443426])_([1])\n",
      "G2([0.7914025654961377])_([0, 1])\n",
      "G([4.532332766967361])_([0, 1])\n",
      "\n",
      "===================================\n",
      "printed ansatz after adding identity perturbation\n",
      "rz([0])_([1])\n",
      "ry([0])_([1])\n",
      "rz([0])_([1])\n",
      "rz([0])_([0])\n",
      "ry([0])_([0])\n",
      "rz([0])_([0])\n",
      "G([2.5446847062526103])_([0, 1])\n",
      "rz([5.224698257232423])_([1])\n",
      "ry([5.186739502800468])_([1])\n",
      "cnot(None)_([1, 0])\n",
      "rz([0])_([1])\n",
      "rx([0])_([1])\n",
      "rz([0])_([1])\n",
      "rx([0])_([0])\n",
      "rz([0])_([0])\n",
      "rx([0])_([0])\n",
      "cnot(None)_([1, 0])\n",
      "rz([3.4684616095443426])_([1])\n",
      "G2([0.7914025654961377])_([0, 1])\n",
      "G([4.532332766967361])_([0, 1])\n",
      "\n"
     ]
    }
   ],
   "source": [
    "print(ansatz)\n",
    "ansatz.insert_random_idres_before_loc(before_loc=2)\n",
    "print(\"===================================\")\n",
    "print(\"printed ansatz after adding identity perturbation\")\n",
    "print(ansatz)"
   ]
  },
  {
   "cell_type": "code",
   "execution_count": null,
   "id": "7d1e9183-8871-4d27-90da-0746060846f5",
   "metadata": {},
   "outputs": [],
   "source": []
  }
 ],
 "metadata": {
  "kernelspec": {
   "display_name": "Python 3 (ipykernel)",
   "language": "python",
   "name": "python3"
  },
  "language_info": {
   "codemirror_mode": {
    "name": "ipython",
    "version": 3
   },
   "file_extension": ".py",
   "mimetype": "text/x-python",
   "name": "python",
   "nbconvert_exporter": "python",
   "pygments_lexer": "ipython3",
   "version": "3.10.4"
  }
 },
 "nbformat": 4,
 "nbformat_minor": 5
}
