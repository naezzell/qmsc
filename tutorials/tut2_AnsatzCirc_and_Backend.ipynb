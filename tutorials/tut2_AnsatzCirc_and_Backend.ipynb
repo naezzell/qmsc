{
 "cells": [
  {
   "cell_type": "code",
   "execution_count": 44,
   "id": "c75869bb-d227-4559-a4d8-39f3d9f41562",
   "metadata": {},
   "outputs": [],
   "source": [
    "import numpy as np\n",
    "import qiskit\n",
    "# class imports from QMSC\n",
    "from qmsc.circuit import AnsatzCirc\n",
    "from qmsc.backend import IBMQBackend"
   ]
  },
  {
   "cell_type": "markdown",
   "id": "8278727b-d94d-4dff-9d7c-b65ccd7b0954",
   "metadata": {},
   "source": [
    "# Basic useage of AnsatzCirc\n",
    "* Inherits from `QuantumCircuit` the `qiskit` class\n",
    "    * This means, all same init + methods normally availible with `QuantumCircuit` still work"
   ]
  },
  {
   "cell_type": "code",
   "execution_count": 37,
   "id": "d9f86eea-e85e-485e-bdbb-7ee0382790a0",
   "metadata": {},
   "outputs": [
    {
     "data": {
      "text/html": [
       "<pre style=\"word-wrap: normal;white-space: pre;background: #fff0;line-height: 1.1;font-family: &quot;Courier New&quot;,Courier,monospace\">     ┌───┐\n",
       "q_0: ┤ X ├\n",
       "     └───┘\n",
       "q_1: ─────\n",
       "          \n",
       "q_2: ─────\n",
       "          \n",
       "c: 2/═════\n",
       "          </pre>"
      ],
      "text/plain": [
       "     ┌───┐\n",
       "q_0: ┤ X ├\n",
       "     └───┘\n",
       "q_1: ─────\n",
       "          \n",
       "q_2: ─────\n",
       "          \n",
       "c: 2/═════\n",
       "          "
      ]
     },
     "execution_count": 37,
     "metadata": {},
     "output_type": "execute_result"
    }
   ],
   "source": [
    "n = 3 # number of qubits\n",
    "m = 2 # number of classical (measurement) registers\n",
    "circ = AnsatzCirc(n, m, name = \"name of circuit is an optional arg\")\n",
    "circ.x(0)\n",
    "circ.draw()"
   ]
  },
  {
   "cell_type": "markdown",
   "id": "d763b5d8-958b-486f-a105-5a983ada2050",
   "metadata": {},
   "source": [
    "## Also can add basic ansatz circuit elements\n",
    "But in general, we recommend created an ansatz with the `FlexibleAnsatz` class and then converting it to a `AnsatzCirc` once it's ready"
   ]
  },
  {
   "cell_type": "code",
   "execution_count": 38,
   "id": "85a29721-c3cc-4586-aae3-ceb70882fda2",
   "metadata": {},
   "outputs": [
    {
     "data": {
      "text/html": [
       "<pre style=\"word-wrap: normal;white-space: pre;background: #fff0;line-height: 1.1;font-family: &quot;Courier New&quot;,Courier,monospace\">         ┌───┐     ┌───────────┐┌─────────────┐┌──────────────┐┌───┐»\n",
       "q_0: ────┤ X ├─────┤ Rz(5.426) ├┤ Ry(0.65252) ├┤ Rz(0.047952) ├┤ X ├»\n",
       "     ┌───┴───┴────┐└┬──────────┤└┬───────────┬┘└──────────────┘└─┬─┘»\n",
       "q_1: ┤ Rz(1.2929) ├─┤ Ry(5.32) ├─┤ Rz(6.138) ├───────────────────■──»\n",
       "     └────────────┘ └──────────┘ └───────────┘                      »\n",
       "q_2: ───────────────────────────────────────────────────────────────»\n",
       "                                                                    »\n",
       "c: 2/═══════════════════════════════════════════════════════════════»\n",
       "                                                                    »\n",
       "«     ┌────────────┐                     ┌───┐ ┌────────────┐┌────────────┐»\n",
       "«q_0: ┤ Rz(0.6722) ├──■──────────────────┤ X ├─┤ Rz(0.5944) ├┤ Ry(5.1353) ├»\n",
       "«     ├────────────┤┌─┴─┐┌──────────────┐└─┬─┘┌┴────────────┤├────────────┤»\n",
       "«q_1: ┤ Ry(4.5314) ├┤ X ├┤ Ry(0.070716) ├──■──┤ Rz(0.86764) ├┤ Ry(5.3171) ├»\n",
       "«     └────────────┘└───┘└──────────────┘     └─────────────┘└────────────┘»\n",
       "«q_2: ─────────────────────────────────────────────────────────────────────»\n",
       "«                                                                          »\n",
       "«c: 2/═════════════════════════════════════════════════════════════════════»\n",
       "«                                                                          »\n",
       "«     ┌───────────┐ \n",
       "«q_0: ┤ Rz(0.244) ├─\n",
       "«     ├───────────┴┐\n",
       "«q_1: ┤ Rz(5.9992) ├\n",
       "«     └────────────┘\n",
       "«q_2: ──────────────\n",
       "«                   \n",
       "«c: 2/══════════════\n",
       "«                   </pre>"
      ],
      "text/plain": [
       "         ┌───┐     ┌───────────┐┌─────────────┐┌──────────────┐┌───┐»\n",
       "q_0: ────┤ X ├─────┤ Rz(5.426) ├┤ Ry(0.65252) ├┤ Rz(0.047952) ├┤ X ├»\n",
       "     ┌───┴───┴────┐└┬──────────┤└┬───────────┬┘└──────────────┘└─┬─┘»\n",
       "q_1: ┤ Rz(1.2929) ├─┤ Ry(5.32) ├─┤ Rz(6.138) ├───────────────────■──»\n",
       "     └────────────┘ └──────────┘ └───────────┘                      »\n",
       "q_2: ───────────────────────────────────────────────────────────────»\n",
       "                                                                    »\n",
       "c: 2/═══════════════════════════════════════════════════════════════»\n",
       "                                                                    »\n",
       "«     ┌────────────┐                     ┌───┐ ┌────────────┐┌────────────┐»\n",
       "«q_0: ┤ Rz(0.6722) ├──■──────────────────┤ X ├─┤ Rz(0.5944) ├┤ Ry(5.1353) ├»\n",
       "«     ├────────────┤┌─┴─┐┌──────────────┐└─┬─┘┌┴────────────┤├────────────┤»\n",
       "«q_1: ┤ Ry(4.5314) ├┤ X ├┤ Ry(0.070716) ├──■──┤ Rz(0.86764) ├┤ Ry(5.3171) ├»\n",
       "«     └────────────┘└───┘└──────────────┘     └─────────────┘└────────────┘»\n",
       "«q_2: ─────────────────────────────────────────────────────────────────────»\n",
       "«                                                                          »\n",
       "«c: 2/═════════════════════════════════════════════════════════════════════»\n",
       "«                                                                          »\n",
       "«     ┌───────────┐ \n",
       "«q_0: ┤ Rz(0.244) ├─\n",
       "«     ├───────────┴┐\n",
       "«q_1: ┤ Rz(5.9992) ├\n",
       "«     └────────────┘\n",
       "«q_2: ──────────────\n",
       "«                   \n",
       "«c: 2/══════════════\n",
       "«                   "
      ]
     },
     "execution_count": 38,
     "metadata": {},
     "output_type": "execute_result"
    }
   ],
   "source": [
    "pvec = np.random.normal(size=15) % (2 * np.pi)\n",
    "circ.add_arb_2q_gate(pvec, [0, 1])\n",
    "circ.draw()"
   ]
  },
  {
   "cell_type": "markdown",
   "id": "f4fdfc7e-15e8-49a5-88b8-e5c6f5f625ca",
   "metadata": {},
   "source": [
    "## Can ask for resulting unitary or statevector\n",
    "This just combines methods availible to `qiskit` in an easier and more intutive way\n",
    "* Both have optional method `reverse` which is a `bool` and defaults to `False`\n",
    "    * When `False`, gives usual answer from Qiskit where basis vectors are ordered as $|q_3, q_2, q_1, q_0\\rangle$ (least important bit to most important)\n",
    "    * When `True` gives standard answer accepted by Quantum Info community, $|q_0, q_1, q_2, q_3\\rangle$"
   ]
  },
  {
   "cell_type": "code",
   "execution_count": 39,
   "id": "3d31dce3-db85-4540-9b6b-55c847420524",
   "metadata": {},
   "outputs": [
    {
     "name": "stdout",
     "output_type": "stream",
     "text": [
      "udg * u = I is True\n",
      "u * udg = I is True\n"
     ]
    }
   ],
   "source": [
    "# returns qiskit Operator object which has basic methods like `adjoint`\n",
    "u = circ.get_unitary(reverse = False)\n",
    "# check whether actually unitary\n",
    "res1 = np.isclose(np.identity(2**3), np.matmul(u.adjoint(), u)).all()\n",
    "print(f\"udg * u = I is {res1}\")\n",
    "res2 = np.isclose(np.identity(2**3), np.matmul(u, u.adjoint())).all()\n",
    "print(f\"u * udg = I is {res2}\")"
   ]
  },
  {
   "cell_type": "code",
   "execution_count": 40,
   "id": "c8573714-ede9-4180-8805-3bf72a905587",
   "metadata": {},
   "outputs": [
    {
     "name": "stdout",
     "output_type": "stream",
     "text": [
      "Qiskit version of statevector with reverse = False\n",
      "------------------------------------\n",
      "Statevector([-0.19977205-0.40299918j,  0.6339046 -0.02862231j,\n",
      "             -0.23707119+0.55533606j,  0.05572074-0.16529613j,\n",
      "              0.        +0.j        ,  0.        +0.j        ,\n",
      "              0.        -0.j        ,  0.        -0.j        ],\n",
      "            dims=(2, 2, 2))\n",
      "We can cast to a dictionary to make reading easier with `to_dict`\n",
      "------------------------------------\n",
      "{'000': (-0.19977205440658574-0.40299918464681944j), '001': (0.6339046032016977-0.02862230877354552j), '010': (-0.23707118655247145+0.5553360638002743j), '011': (0.055720736218206016-0.16529612589852946j)}\n",
      "=======================================\n",
      "Normal version of statevector with reverse = True\n",
      "Statevector([-0.19977205-0.40299918j,  0.        +0.j        ,\n",
      "             -0.23707119+0.55533606j,  0.        -0.j        ,\n",
      "              0.6339046 -0.02862231j,  0.        +0.j        ,\n",
      "              0.05572074-0.16529613j,  0.        -0.j        ],\n",
      "            dims=(2, 2, 2))\n",
      "We can cast to a dictionary to make reading easier with `to_dict`\n",
      "{'000': (-0.19977205440658574-0.40299918464681944j), '010': (-0.23707118655247145+0.5553360638002743j), '100': (0.6339046032016977-0.02862230877354552j), '110': (0.055720736218206016-0.16529612589852946j)}\n"
     ]
    }
   ],
   "source": [
    "# returns qiskit Statevector object which has basic methods with examples used below\n",
    "qiskit_statevector = circ.get_statevector()\n",
    "print(\"Qiskit version of statevector with reverse = False\")\n",
    "print(\"------------------------------------\")\n",
    "print(qiskit_statevector)\n",
    "print(\"We can cast to a dictionary to make reading easier with `to_dict`\")\n",
    "print(\"------------------------------------\")\n",
    "print(qiskit_statevector.to_dict())\n",
    "print(\"=======================================\")\n",
    "print(\"Normal version of statevector with reverse = True\")\n",
    "normal_statevector = circ.get_statevector(reverse = True)\n",
    "print(normal_statevector)\n",
    "print(\"We can cast to a dictionary to make reading easier with `to_dict`\")\n",
    "print(normal_statevector.to_dict())"
   ]
  },
  {
   "cell_type": "code",
   "execution_count": 41,
   "id": "4acdc77b-8a1f-4434-adfc-c140306c2d54",
   "metadata": {},
   "outputs": [
    {
     "data": {
      "text/plain": [
       "{'000': 0.2023172165478291,\n",
       " '010': 0.36460089125057915,\n",
       " '100': 0.40265428251983004,\n",
       " '110': 0.030427609681761402}"
      ]
     },
     "execution_count": 41,
     "metadata": {},
     "output_type": "execute_result"
    }
   ],
   "source": [
    "normal_statevector.probabilities_dict()"
   ]
  },
  {
   "cell_type": "code",
   "execution_count": 42,
   "id": "aae30717-6e11-431f-83cc-3ecd12b66744",
   "metadata": {},
   "outputs": [
    {
     "data": {
      "text/plain": [
       "{'000': 210, '010': 345, '100': 424, '110': 21}"
      ]
     },
     "execution_count": 42,
     "metadata": {},
     "output_type": "execute_result"
    }
   ],
   "source": [
    "normal_statevector.sample_counts(1000)"
   ]
  },
  {
   "cell_type": "code",
   "execution_count": 43,
   "id": "b3a864cb-6cc5-43d3-ab07-148266f8b56b",
   "metadata": {},
   "outputs": [
    {
     "data": {
      "text/plain": [
       "{'000': 231, '010': 342, '100': 392, '110': 35}"
      ]
     },
     "execution_count": 43,
     "metadata": {},
     "output_type": "execute_result"
    }
   ],
   "source": [
    "normal_statevector.sample_counts(1000)"
   ]
  },
  {
   "cell_type": "markdown",
   "id": "5818bf89-37c3-4add-bd79-ed27b2e7917e",
   "metadata": {},
   "source": [
    "#### We can also turn into a density matrix easily with `qiskit.quantum_info.DensityMatrix` class"
   ]
  },
  {
   "cell_type": "code",
   "execution_count": 46,
   "id": "05466a17-b5d7-4c05-8213-5d853cdfb448",
   "metadata": {},
   "outputs": [
    {
     "name": "stdout",
     "output_type": "stream",
     "text": [
      "{'000|000': (0.20231721654782914+0j), '010|000': (-0.1764397829382905+0.2064801212353476j), '100|000': (-0.11510165778094635-0.2611809756597006j), '110|000': (0.055482758015026924-0.0554769579200564j), '000|010': (-0.1764397829382905-0.2064801212353476j), '010|010': (0.3646008912505791+0j), '100|010': (-0.1661755167332769+0.34524456246408997j), '110|010': (-0.1050046809687513-0.00824321437581917j), '000|100': (-0.11510165778094635+0.2611809756597006j), '010|100': (-0.1661755167332769-0.34524456246408997j), '100|100': (0.40265428251983004+0j), '110|100': (0.04005278793704692+0.10318711898135842j), '000|110': (0.055482758015026924+0.0554769579200564j), '010|110': (-0.1050046809687513+0.00824321437581917j), '100|110': (0.04005278793704692-0.10318711898135842j), '110|110': (0.0304276096817614+0j)}\n"
     ]
    }
   ],
   "source": [
    "pure_sigma = qiskit.quantum_info.DensityMatrix(normal_statevector)\n",
    "print(pure_sigma.to_dict())"
   ]
  },
  {
   "cell_type": "code",
   "execution_count": 47,
   "id": "f3afbcb2-3d62-489d-a04d-d291cfbb1aa7",
   "metadata": {},
   "outputs": [
    {
     "name": "stdout",
     "output_type": "stream",
     "text": [
      "(0.9999999999999996+0j)\n"
     ]
    }
   ],
   "source": [
    "print(pure_sigma.trace())"
   ]
  },
  {
   "cell_type": "markdown",
   "id": "e9a3b735-e8aa-4aed-9d6b-af2d026f6a40",
   "metadata": {},
   "source": [
    "# Loading a backend and integrating with AnsatzCirc\n",
    "To load in a backend, you need an IBM account where you can access the\n",
    "* The `strname` of the the backend\n",
    "* Your account's: `hub`\n",
    "* `group`\n",
    "* `project`\n",
    "* `token`\n",
    "\n",
    "Obviously, I will not actually run this part, as I don't want to share my account information...\n",
    "\n",
    "Instead, I will fake run things and post the Markdown versions of results below."
   ]
  },
  {
   "cell_type": "markdown",
   "id": "da589eec-c877-49e8-974e-bb42995102a1",
   "metadata": {},
   "source": [
    "### Loading the Backend\n",
    "```\n",
    "backend_name = \"ibmq_example\"\n",
    "hub = \"ibm-q-research-or-whatever\"\n",
    "group = \"perhaps-your-uni\"\n",
    "project = \"the-funds\"\n",
    "token = \"your-token\"\n",
    "backend = IBMQBackend(backend, hub, group, project, token)\n",
    "```\n",
    "where the hub, group, project, and token info can be obtained by going to IBM quantum > account settings > providers. Then click the three vertical dots and select copy Qiskit provider code. If typing this is annoys you, you can hardcode your account as an __init__ option."
   ]
  },
  {
   "cell_type": "markdown",
   "id": "e060c845-2ecf-4508-8b03-a4eed6a87d58",
   "metadata": {},
   "source": [
    "### Useful custom method: Printing backend properties\n",
    "An important functon to be aware of when running experiments is\n",
    "```\n",
    "print(backend.get_readable_props_str())\n",
    "```\n",
    "which gives a human readable summary of the backend properties which can be saved to a txt file easily. For jakarta, for example, the result as of this tutorial are\n",
    "```\n",
    "\n",
    "Backend Properties\n",
    "---\n",
    "Experiment Date: 2022-07-07 12:06:44\n",
    "Backend Name: ibmq_jakarta\n",
    "Version: 1.0.34\n",
    "Last Update Date: 2022-07-07 08:21:07-07:00\n",
    "\n",
    "Gate Info\n",
    "---\n",
    "name, gate_error(), gate_length(ns)\n",
    "id, 0.0003199501648000584, 35.55555555555556\n",
    "id, 0.00020741584099435536, 35.55555555555556\n",
    "id, 0.00020747484772500605, 35.55555555555556\n",
    "id, 0.0002035022703507296, 35.55555555555556\n",
    "id, 0.0010525762631233982, 35.55555555555556\n",
    "id, 0.0002491638513245879, 35.55555555555556\n",
    "id, 0.00020354933384976543, 35.55555555555556\n",
    "rz, 0, 0\n",
    "rz, 0, 0\n",
    "rz, 0, 0\n",
    "rz, 0, 0\n",
    "rz, 0, 0\n",
    "rz, 0, 0\n",
    "rz, 0, 0\n",
    "sx, 0.0003199501648000584, 35.55555555555556\n",
    "sx, 0.00020741584099435536, 35.55555555555556\n",
    "sx, 0.00020747484772500605, 35.55555555555556\n",
    "sx, 0.0002035022703507296, 35.55555555555556\n",
    "sx, 0.0010525762631233982, 35.55555555555556\n",
    "sx, 0.0002491638513245879, 35.55555555555556\n",
    "sx, 0.00020354933384976543, 35.55555555555556\n",
    "x, 0.0003199501648000584, 35.55555555555556\n",
    "x, 0.00020741584099435536, 35.55555555555556\n",
    "x, 0.00020747484772500605, 35.55555555555556\n",
    "x, 0.0002035022703507296, 35.55555555555556\n",
    "x, 0.0010525762631233982, 35.55555555555556\n",
    "x, 0.0002491638513245879, 35.55555555555556\n",
    "x, 0.00020354933384976543, 35.55555555555556\n",
    "cx, 0.017376502926994886, 504.88888888888886\n",
    "cx, 0.017376502926994886, 540.4444444444445\n",
    "cx, 0.007410021627299507, 384\n",
    "cx, 0.007410021627299507, 419.55555555555554\n",
    "cx, 0.006437586645274163, 277.3333333333333\n",
    "cx, 0.006437586645274163, 312.88888888888886\n",
    "cx, 0.008834249450477588, 291.55555555555554\n",
    "cx, 0.008834249450477588, 327.1111111111111\n",
    "cx, 0.00980800779616306, 248.88888888888889\n",
    "cx, 0.00980800779616306, 284.44444444444446\n",
    "cx, 0.007000849427907713, 234.66666666666666\n",
    "cx, 0.007000849427907713, 270.22222222222223\n",
    "reset, 7342.222222222222\n",
    "reset, 7342.222222222222\n",
    "reset, 7342.222222222222\n",
    "reset, 7342.222222222222\n",
    "reset, 7342.222222222222\n",
    "reset, 7342.222222222222\n",
    "reset, 7342.222222222222\n",
    "\n",
    "Qubit Info\n",
    "---\n",
    "qubit, T1(us), T2(us), frequency(GHz), anharmonicity(GHz), readout_error(), prob_meas0_prep1(), prob_meas1_prep0(), readout_length(ns)\n",
    "0, 179.27108623920228, 46.48443007226778, 5.236537333392189, -0.339883615358574, 0.03959999999999997, 0.05479999999999996, 0.0244, 5351.11111111111\n",
    "1, 136.6107664533625, 28.38193214382445, 5.014431945688961, -0.3432005583724651, 0.035599999999999965, 0.03739999999999999, 0.0338, 5351.11111111111\n",
    "2, 115.41307756584426, 26.005733303914802, 5.108468919342932, -0.3416150041672664, 0.024499999999999966, 0.0388, 0.010199999999999987, 5351.11111111111\n",
    "3, 130.6752912614701, 43.29522100023257, 5.178135251335165, -0.3411171247904715, 0.017800000000000038, 0.0268, 0.00880000000000003, 5351.11111111111\n",
    "4, 43.33845082911979, 50.386887681694404, 5.213062099531775, -0.3392533874360392, 0.1964999999999999, 0.29479999999999995, 0.0982, 5351.11111111111\n",
    "5, 69.68705534461373, 49.38499263027378, 5.063262326256089, -0.3412893561600795, 0.040100000000000025, 0.050799999999999956, 0.0294, 5351.11111111111\n",
    "6, 99.3803716167542, 23.117838725006226, 5.300667969846487, -0.3383638923290693, 0.049900000000000055, 0.0364, 0.06340000000000001, 5351.11111111111\n",
    "```"
   ]
  },
  {
   "cell_type": "markdown",
   "id": "3925cdd1-2fe9-4f85-9f82-fdd2b8782665",
   "metadata": {},
   "source": [
    "### Linking backend to a circuit\n",
    "By linking a baceknd to a circuit, we get access to useful methods...\n",
    "```\n",
    "circ = AnsatzCirc(3, 2, name = \"link with backend example\", ibmq_backend = backend)\n",
    "t_circ = circ.get_transpiled_circ()\n",
    "backend.submit_job(t_circ)\n",
    "```"
   ]
  },
  {
   "cell_type": "code",
   "execution_count": null,
   "id": "683a4000-ea94-47cd-96d8-7cff554b9f6a",
   "metadata": {},
   "outputs": [],
   "source": []
  }
 ],
 "metadata": {
  "kernelspec": {
   "display_name": "Python 3 (ipykernel)",
   "language": "python",
   "name": "python3"
  },
  "language_info": {
   "codemirror_mode": {
    "name": "ipython",
    "version": 3
   },
   "file_extension": ".py",
   "mimetype": "text/x-python",
   "name": "python",
   "nbconvert_exporter": "python",
   "pygments_lexer": "ipython3",
   "version": "3.10.4"
  }
 },
 "nbformat": 4,
 "nbformat_minor": 5
}
