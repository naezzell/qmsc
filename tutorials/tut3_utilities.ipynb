{
 "cells": [
  {
   "cell_type": "code",
   "execution_count": 1,
   "id": "452d58f2-c15b-40d9-8be2-8becc22feecd",
   "metadata": {},
   "outputs": [],
   "source": [
    "import numpy as np\n",
    "import qmsc.qstate as qstate\n",
    "import qmsc.hamiltonian as ham"
   ]
  },
  {
   "cell_type": "markdown",
   "id": "7f860441-8718-4bb1-8339-f07bfaade818",
   "metadata": {},
   "source": [
    "# Brief usage of `qstate` and `ham` utilities"
   ]
  },
  {
   "cell_type": "markdown",
   "id": "a2d6ba50-4b90-4bf8-a031-1e8341902a09",
   "metadata": {},
   "source": [
    "## We start by generating various classes of random states with `qstate`\n",
    "* Returns a qutip density matrix (we choose this before realizing there was `qiskit.quantum_info.DensityMatrix`\n",
    "* n -- number of qubits"
   ]
  },
  {
   "cell_type": "code",
   "execution_count": 2,
   "id": "cc095686-c4b2-48d1-b5c3-cb786b35417d",
   "metadata": {},
   "outputs": [
    {
     "data": {
      "text/latex": [
       "Quantum object: dims = [[2], [2]], shape = (2, 2), type = oper, isherm = True\\begin{equation*}\\left(\\begin{array}{*{11}c}0.917 & (-0.205-0.025j)\\\\(-0.205+0.025j) & 0.083\\\\\\end{array}\\right)\\end{equation*}"
      ],
      "text/plain": [
       "Quantum object: dims = [[2], [2]], shape = (2, 2), type = oper, isherm = True\n",
       "Qobj data =\n",
       "[[ 0.91689883+0.j         -0.2050216 -0.02485402j]\n",
       " [-0.2050216 +0.02485402j  0.08310117+0.j        ]]"
      ]
     },
     "execution_count": 2,
     "metadata": {},
     "output_type": "execute_result"
    }
   ],
   "source": [
    "# number of qubits is n\n",
    "n = 1\n",
    "bures_state = qstate.utils.gen_bures_rand_mixed_state(n)\n",
    "bures_state"
   ]
  },
  {
   "cell_type": "code",
   "execution_count": 3,
   "id": "2de47407-6294-4a08-a90c-aeda90953f5c",
   "metadata": {},
   "outputs": [
    {
     "data": {
      "text/latex": [
       "Quantum object: dims = [[2], [2]], shape = (2, 2), type = oper, isherm = True\\begin{equation*}\\left(\\begin{array}{*{11}c}0.543 & (-0.223-0.087j)\\\\(-0.223+0.087j) & 0.457\\\\\\end{array}\\right)\\end{equation*}"
      ],
      "text/plain": [
       "Quantum object: dims = [[2], [2]], shape = (2, 2), type = oper, isherm = True\n",
       "Qobj data =\n",
       "[[ 0.543153  +0.j        -0.22252131-0.0870147j]\n",
       " [-0.22252131+0.0870147j  0.456847  +0.j       ]]"
      ]
     },
     "execution_count": 3,
     "metadata": {},
     "output_type": "execute_result"
    }
   ],
   "source": [
    "hilbert_schmidt_state = qstate.utils.gen_hs_rand_mixed_state(n)\n",
    "hilbert_schmidt_state"
   ]
  },
  {
   "cell_type": "code",
   "execution_count": 4,
   "id": "bdef065a-bf2a-47f5-a5ad-1f2f1f8ad1db",
   "metadata": {},
   "outputs": [
    {
     "data": {
      "text/latex": [
       "Quantum object: dims = [[2, 2], [2, 2]], shape = (4, 4), type = oper, isherm = True\\begin{equation*}\\left(\\begin{array}{*{11}c}0.499 & 0.0 & 0.0 & 0.499\\\\0.0 & 0.001 & -7.077\\times10^{-04} & 0.0\\\\0.0 & -7.077\\times10^{-04} & 0.001 & 0.0\\\\0.499 & 0.0 & 0.0 & 0.499\\\\\\end{array}\\right)\\end{equation*}"
      ],
      "text/plain": [
       "Quantum object: dims = [[2, 2], [2, 2]], shape = (4, 4), type = oper, isherm = True\n",
       "Qobj data =\n",
       "[[ 0.4986067   0.          0.          0.49860526]\n",
       " [ 0.          0.0013933  -0.00070769  0.        ]\n",
       " [ 0.         -0.00070769  0.0013933   0.        ]\n",
       " [ 0.49860526  0.          0.          0.4986067 ]]"
      ]
     },
     "execution_count": 4,
     "metadata": {},
     "output_type": "execute_result"
    }
   ],
   "source": [
    "n = 2\n",
    "temp = 0.5\n",
    "xy_thermal_state = qstate.utils.gen_xy_chain_thermal_state(n, temp, rand=1)\n",
    "xy_thermal_state"
   ]
  },
  {
   "cell_type": "markdown",
   "id": "2102c600-6e30-44a0-ae2f-edbb82c2ae0f",
   "metadata": {},
   "source": [
    "## We can then do various things with `qstate` random states like\n",
    "* Getting purification vector\n",
    "* Get dictionary rep of vector\n",
    "* Diagonlaizing the state"
   ]
  },
  {
   "cell_type": "code",
   "execution_count": 5,
   "id": "60645eff-cc6f-4305-81de-246ebdc6a26e",
   "metadata": {},
   "outputs": [
    {
     "data": {
      "text/latex": [
       "Quantum object: dims = [[2, 2], [1, 1]], shape = (4, 1), type = ket\\begin{equation*}\\left(\\begin{array}{*{11}c}0.941\\\\(-0.175-0.021j)\\\\(-0.175+0.021j)\\\\0.228\\\\\\end{array}\\right)\\end{equation*}"
      ],
      "text/plain": [
       "Quantum object: dims = [[2, 2], [1, 1]], shape = (4, 1), type = ket\n",
       "Qobj data =\n",
       "[[ 0.94110678+0.j        ]\n",
       " [-0.17539883-0.02126296j]\n",
       " [-0.17539883+0.02126296j]\n",
       " [ 0.22778127+0.j        ]]"
      ]
     },
     "execution_count": 5,
     "metadata": {},
     "output_type": "execute_result"
    }
   ],
   "source": [
    "bures_purification = qstate.utils.gen_purification_from_rho(bures_state)\n",
    "bures_purification"
   ]
  },
  {
   "cell_type": "code",
   "execution_count": 6,
   "id": "b7f6fd27-6425-4426-9c1e-ba875d1132ef",
   "metadata": {},
   "outputs": [
    {
     "data": {
      "text/latex": [
       "Quantum object: dims = [[2], [2]], shape = (2, 2), type = oper, isherm = True\\begin{equation*}\\left(\\begin{array}{*{11}c}0.917 & (-0.205-0.025j)\\\\(-0.205+0.025j) & 0.083\\\\\\end{array}\\right)\\end{equation*}"
      ],
      "text/plain": [
       "Quantum object: dims = [[2], [2]], shape = (2, 2), type = oper, isherm = True\n",
       "Qobj data =\n",
       "[[ 0.91689883+0.j         -0.2050216 -0.02485402j]\n",
       " [-0.2050216 +0.02485402j  0.08310117+0.j        ]]"
      ]
     },
     "execution_count": 6,
     "metadata": {},
     "output_type": "execute_result"
    }
   ],
   "source": [
    "bures_purification.ptrace(0)"
   ]
  },
  {
   "cell_type": "code",
   "execution_count": 7,
   "id": "717cb258-0608-4f2a-82d0-c549bb9ef524",
   "metadata": {},
   "outputs": [
    {
     "data": {
      "text/plain": [
       "{(0, 0): array([0.94110678+0.j]),\n",
       " (0, 1): array([-0.17539883-0.02126296j]),\n",
       " (1, 0): array([-0.17539883+0.02126296j]),\n",
       " (1, 1): array([0.22778127+0.j])}"
      ]
     },
     "execution_count": 7,
     "metadata": {},
     "output_type": "execute_result"
    }
   ],
   "source": [
    "# kind of awkward, but it expects an array not a Qutip object--again not production quality\n",
    "qstate.utils.get_dict_rep_of_vec(np.array(bures_purification))"
   ]
  },
  {
   "cell_type": "code",
   "execution_count": 8,
   "id": "ef207363-42a1-4340-82d7-9b42e88e5d8a",
   "metadata": {},
   "outputs": [
    {
     "data": {
      "text/plain": [
       "(array([1.44447520e-06, 6.85605492e-04, 2.10098659e-03, 9.97211963e-01]),\n",
       " array([Quantum object: dims = [[2, 2], [1, 1]], shape = (4, 1), type = ket\n",
       "        Qobj data =\n",
       "        [[-0.70710678]\n",
       "         [ 0.        ]\n",
       "         [ 0.        ]\n",
       "         [ 0.70710678]]                                                    ,\n",
       "        Quantum object: dims = [[2, 2], [1, 1]], shape = (4, 1), type = ket\n",
       "        Qobj data =\n",
       "        [[0.        ]\n",
       "         [0.70710678]\n",
       "         [0.70710678]\n",
       "         [0.        ]]                                                     ,\n",
       "        Quantum object: dims = [[2, 2], [1, 1]], shape = (4, 1), type = ket\n",
       "        Qobj data =\n",
       "        [[ 0.        ]\n",
       "         [-0.70710678]\n",
       "         [ 0.70710678]\n",
       "         [ 0.        ]]                                                    ,\n",
       "        Quantum object: dims = [[2, 2], [1, 1]], shape = (4, 1), type = ket\n",
       "        Qobj data =\n",
       "        [[0.70710678]\n",
       "         [0.        ]\n",
       "         [0.        ]\n",
       "         [0.70710678]]                                                     ],\n",
       "       dtype=object))"
      ]
     },
     "execution_count": 8,
     "metadata": {},
     "output_type": "execute_result"
    }
   ],
   "source": [
    "xy_thermal_state.eigenstates()"
   ]
  },
  {
   "cell_type": "markdown",
   "id": "e481dd03-0e02-40b1-80ef-dd8481615395",
   "metadata": {},
   "source": [
    "## Finally, we can also generate random unitaries (Clifford or Haar)\n",
    "Note: Of course, this is not directly related to a quantum state, but we do not have a \"unitary\" utils. One can then generate a random Clifford or Haar random states from these, however."
   ]
  },
  {
   "cell_type": "code",
   "execution_count": 9,
   "id": "4ca7c758-0b8e-4b5a-8fc1-960aa7d829ba",
   "metadata": {},
   "outputs": [
    {
     "data": {
      "text/plain": [
       "array([[ 0. -0.5j,  0. +0.5j,  0.5+0.j , -0.5+0.j ],\n",
       "       [-0.5+0.j ,  0.5+0.j ,  0. +0.5j,  0. -0.5j],\n",
       "       [ 0. +0.5j,  0. +0.5j, -0.5+0.j , -0.5+0.j ],\n",
       "       [-0.5+0.j , -0.5+0.j ,  0. +0.5j,  0. +0.5j]])"
      ]
     },
     "execution_count": 9,
     "metadata": {},
     "output_type": "execute_result"
    }
   ],
   "source": [
    "cliff_uni = qstate.utils.gen_cliff_random_unitary(2)\n",
    "cliff_uni"
   ]
  },
  {
   "cell_type": "code",
   "execution_count": 10,
   "id": "b53414ba-4d0d-4590-a7e9-ba571ed0a141",
   "metadata": {},
   "outputs": [
    {
     "data": {
      "text/plain": [
       "array([[-0.13092099-0.0674058j ,  0.65085164+0.44197815j,\n",
       "         0.25332772+0.11839564j,  0.00456053-0.53023613j],\n",
       "       [ 0.02850265-0.23425988j, -0.13766605+0.0242372j ,\n",
       "         0.23012428-0.87120628j,  0.26344043-0.2083557j ],\n",
       "       [ 0.22537828+0.5354759j ,  0.46363306+0.00666374j,\n",
       "        -0.23030345-0.18679054j,  0.5170514 +0.30364062j],\n",
       "       [-0.45873217+0.61209562j, -0.31877307-0.21187683j,\n",
       "         0.13081705+0.06932881j,  0.2037901 -0.45270929j]])"
      ]
     },
     "execution_count": 10,
     "metadata": {},
     "output_type": "execute_result"
    }
   ],
   "source": [
    "haar_uni = qstate.utils.gen_haar_random_unitary(2)\n",
    "haar_uni"
   ]
  },
  {
   "cell_type": "markdown",
   "id": "516a0e73-3471-4357-9d80-5c633f0e011f",
   "metadata": {},
   "source": [
    "## `ham` utilties\n",
    "The most important useage of this collection of utilities is generating the thermal states as above. But, we can also use this to generate the random Hamiltonian and analyze it instead."
   ]
  },
  {
   "cell_type": "code",
   "execution_count": 16,
   "id": "f53083d7-e5b7-4b84-b948-bfdc0825e7e1",
   "metadata": {},
   "outputs": [
    {
     "data": {
      "text/plain": [
       "array([[0.+0.j, 0.+0.j, 0.+0.j, 0.+0.j],\n",
       "       [0.+0.j, 0.+0.j, 2.+0.j, 0.+0.j],\n",
       "       [0.+0.j, 2.+0.j, 0.+0.j, 0.+0.j],\n",
       "       [0.+0.j, 0.+0.j, 0.+0.j, 0.+0.j]])"
      ]
     },
     "execution_count": 16,
     "metadata": {},
     "output_type": "execute_result"
    }
   ],
   "source": [
    "n = 2\n",
    "xy_ham = ham.utils.make_xy_chain_hamiltonian(2, rand=0)\n",
    "xy_ham"
   ]
  },
  {
   "cell_type": "code",
   "execution_count": 20,
   "id": "4056411a-3896-46a9-9307-5635f2f99973",
   "metadata": {},
   "outputs": [
    {
     "data": {
      "text/plain": [
       "(array([-2.+0.j,  0.+0.j,  0.+0.j,  2.+0.j]),\n",
       " array([[-0.        -0.j,  1.        +0.j,  0.        +0.j,\n",
       "         -0.        -0.j],\n",
       "        [-0.70710678-0.j,  0.        +0.j,  0.        +0.j,\n",
       "          0.70710678-0.j],\n",
       "        [ 0.70710678+0.j,  0.        +0.j,  0.        +0.j,\n",
       "          0.70710678+0.j],\n",
       "        [-0.        -0.j,  0.        +0.j,  1.        +0.j,\n",
       "         -0.        -0.j]]))"
      ]
     },
     "execution_count": 20,
     "metadata": {},
     "output_type": "execute_result"
    }
   ],
   "source": [
    "ham.utils.get_sorted_eig_decomp(xy_ham)"
   ]
  },
  {
   "cell_type": "code",
   "execution_count": 17,
   "id": "ddc83b60-d984-4309-ad3c-1c9e0cbff318",
   "metadata": {},
   "outputs": [
    {
     "data": {
      "text/plain": [
       "[array([-0.        -0.j, -0.70710678-0.j,  0.70710678+0.j, -0.        -0.j])]"
      ]
     },
     "execution_count": 17,
     "metadata": {},
     "output_type": "execute_result"
    }
   ],
   "source": [
    "# gets states in the ground-state subspace\n",
    "ham.utils.get_ground_subspace(xy_ham)"
   ]
  },
  {
   "cell_type": "code",
   "execution_count": 18,
   "id": "a2c0fe75-8005-4c32-a428-6ded6b3ad4b3",
   "metadata": {},
   "outputs": [
    {
     "data": {
      "text/plain": [
       "[array([1.+0.j, 0.+0.j, 0.+0.j, 0.+0.j]),\n",
       " array([0.+0.j, 0.+0.j, 0.+0.j, 1.+0.j])]"
      ]
     },
     "execution_count": 18,
     "metadata": {},
     "output_type": "execute_result"
    }
   ],
   "source": [
    "# get states in the 1st excited state subspace\n",
    "ham.utils.get_first_exc_subspace(xy_ham)"
   ]
  },
  {
   "cell_type": "code",
   "execution_count": 19,
   "id": "96390970-ef03-477a-913c-388e0ea8c22e",
   "metadata": {},
   "outputs": [
    {
     "data": {
      "text/plain": [
       "[array([-0.        -0.j, -0.70710678-0.j,  0.70710678+0.j, -0.        -0.j]),\n",
       " array([1.+0.j, 0.+0.j, 0.+0.j, 0.+0.j]),\n",
       " array([0.+0.j, 0.+0.j, 0.+0.j, 1.+0.j])]"
      ]
     },
     "execution_count": 19,
     "metadata": {},
     "output_type": "execute_result"
    }
   ],
   "source": [
    "# get states in both ground-state and 1st excited state subspace\n",
    "ham.utils.get_one_exc_subspace(xy_ham)"
   ]
  },
  {
   "cell_type": "code",
   "execution_count": 28,
   "id": "e29ef993-001c-45d1-b784-53f69f60ee1a",
   "metadata": {},
   "outputs": [
    {
     "data": {
      "text/plain": [
       "array([[ 0.        +0.j,  0.        +0.j,  0.        +0.j,\n",
       "        -0.04698609+0.j],\n",
       "       [ 0.        +0.j,  0.        +0.j,  1.30901332+0.j,\n",
       "         0.        +0.j],\n",
       "       [ 0.        +0.j,  1.30901332+0.j,  0.        +0.j,\n",
       "         0.        +0.j],\n",
       "       [-0.04698609+0.j,  0.        +0.j,  0.        +0.j,\n",
       "         0.        +0.j]])"
      ]
     },
     "execution_count": 28,
     "metadata": {},
     "output_type": "execute_result"
    }
   ],
   "source": [
    "n = 3\n",
    "xy_ham = ham.utils.make_xy_chain_hamiltonian(2, rand=1)\n",
    "xy_ham"
   ]
  },
  {
   "cell_type": "code",
   "execution_count": 29,
   "id": "37577e0f-a2ff-444a-a494-95c679a51a35",
   "metadata": {},
   "outputs": [
    {
     "data": {
      "text/plain": [
       "(array([-1.30901332+0.j, -0.04698609+0.j,  0.04698609+0.j,  1.30901332+0.j]),\n",
       " array([[ 0.        +0.j,  0.70710678+0.j, -0.70710678+0.j,\n",
       "         -0.        -0.j],\n",
       "        [ 0.70710678+0.j,  0.        +0.j,  0.        +0.j,\n",
       "          0.70710678+0.j],\n",
       "        [-0.70710678+0.j,  0.        +0.j,  0.        +0.j,\n",
       "          0.70710678-0.j],\n",
       "        [ 0.        +0.j,  0.70710678+0.j,  0.70710678+0.j,\n",
       "         -0.        -0.j]]))"
      ]
     },
     "execution_count": 29,
     "metadata": {},
     "output_type": "execute_result"
    }
   ],
   "source": [
    "ham.utils.get_sorted_eig_decomp(xy_ham)"
   ]
  },
  {
   "cell_type": "code",
   "execution_count": 30,
   "id": "4fd41a19-75a4-4888-a212-87cee1d690e4",
   "metadata": {},
   "outputs": [
    {
     "data": {
      "text/plain": [
       "[array([ 0.        +0.j,  0.70710678+0.j, -0.70710678+0.j,  0.        +0.j])]"
      ]
     },
     "execution_count": 30,
     "metadata": {},
     "output_type": "execute_result"
    }
   ],
   "source": [
    "# gets states in the ground-state subspace\n",
    "ham.utils.get_ground_subspace(xy_ham)"
   ]
  },
  {
   "cell_type": "code",
   "execution_count": 31,
   "id": "dae801cc-8e2a-4711-9ae6-7ce0107e73ee",
   "metadata": {},
   "outputs": [
    {
     "data": {
      "text/plain": [
       "[array([0.70710678+0.j, 0.        +0.j, 0.        +0.j, 0.70710678+0.j])]"
      ]
     },
     "execution_count": 31,
     "metadata": {},
     "output_type": "execute_result"
    }
   ],
   "source": [
    "# get states in the 1st excited state subspace\n",
    "ham.utils.get_first_exc_subspace(xy_ham)"
   ]
  },
  {
   "cell_type": "code",
   "execution_count": 32,
   "id": "342aa213-2b93-44b5-8577-28ae18b1e9a0",
   "metadata": {},
   "outputs": [
    {
     "data": {
      "text/plain": [
       "[array([ 0.        +0.j,  0.70710678+0.j, -0.70710678+0.j,  0.        +0.j]),\n",
       " array([0.70710678+0.j, 0.        +0.j, 0.        +0.j, 0.70710678+0.j])]"
      ]
     },
     "execution_count": 32,
     "metadata": {},
     "output_type": "execute_result"
    }
   ],
   "source": [
    "# get states in both ground-state and 1st excited state subspace\n",
    "ham.utils.get_one_exc_subspace(xy_ham)"
   ]
  }
 ],
 "metadata": {
  "kernelspec": {
   "display_name": "Python 3 (ipykernel)",
   "language": "python",
   "name": "python3"
  },
  "language_info": {
   "codemirror_mode": {
    "name": "ipython",
    "version": 3
   },
   "file_extension": ".py",
   "mimetype": "text/x-python",
   "name": "python",
   "nbconvert_exporter": "python",
   "pygments_lexer": "ipython3",
   "version": "3.10.4"
  }
 },
 "nbformat": 4,
 "nbformat_minor": 5
}
