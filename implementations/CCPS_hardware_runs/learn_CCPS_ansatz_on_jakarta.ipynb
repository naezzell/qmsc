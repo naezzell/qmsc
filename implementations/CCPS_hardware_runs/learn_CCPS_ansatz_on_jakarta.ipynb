{
 "cells": [
  {
   "cell_type": "code",
   "execution_count": 1,
   "id": "6af2eea9-6ef7-44da-9b39-d1be505b3a3b",
   "metadata": {},
   "outputs": [
    {
     "name": "stderr",
     "output_type": "stream",
     "text": [
      "/var/folders/2w/_70fq7w11c36fkhz8pnqp8gw0000gp/T/ipykernel_43531/667825247.py:10: DeprecationWarning: The qiskit.ignis package is deprecated and has been supersceded by the qiskit-experiments project. Refer to the migration guide: https://github.com/Qiskit/qiskit-ignis#migration-guide on how to migrate to the new project.\n",
      "  from qiskit.ignis.verification.tomography import state_tomography_circuits, StateTomographyFitter\n"
     ]
    }
   ],
   "source": [
    "import itertools\n",
    "import sys\n",
    "import copy\n",
    "import time\n",
    "import numpy as np\n",
    "import scipy\n",
    "import qiskit\n",
    "from qiskit import transpile\n",
    "from qiskit import QuantumRegister, ClassicalRegister, Aer, transpile\n",
    "from qiskit.ignis.verification.tomography import state_tomography_circuits, StateTomographyFitter\n",
    "import h5py\n",
    "import vcg\n",
    "import vcg.qstate as qstate\n",
    "import vcg.circuit as vcgc\n",
    "from vcg.circuit import VcgCirc, AnsatzCirc\n",
    "from vcg.cost import Cost\n",
    "from vcg.ansatz import FlexibleAnsatz\n",
    "from vcg.backend import IBMQBackend\n",
    "import noisyopt\n",
    "import qutip\n",
    "import matplotlib.pyplot as plt\n",
    "import matplotlib\n",
    "import pickle"
   ]
  },
  {
   "cell_type": "code",
   "execution_count": 2,
   "id": "2b2a64aa-9ed6-4c44-9e3b-92ac283fb1d6",
   "metadata": {},
   "outputs": [],
   "source": [
    "matplotlib.style.use(\"../style.mplstyle\")"
   ]
  },
  {
   "cell_type": "markdown",
   "id": "50984813-4d10-4f5e-a3b0-5d4e30e24a05",
   "metadata": {},
   "source": [
    "# Init various problem paramters and load Backend"
   ]
  },
  {
   "cell_type": "code",
   "execution_count": 3,
   "id": "25970947-d5a0-4dc4-87f2-0298bc138d83",
   "metadata": {},
   "outputs": [
    {
     "name": "stdout",
     "output_type": "stream",
     "text": [
      "IBM Backend ibmq_jakarta loaded at date/time: 2022-06-12 13:55:17\n"
     ]
    }
   ],
   "source": [
    "backend = IBMQBackend('ibmq_jakarta', \"Nic\")"
   ]
  },
  {
   "cell_type": "code",
   "execution_count": 9,
   "id": "257fa4c0-64b4-446b-b9aa-f117ba1bc528",
   "metadata": {},
   "outputs": [],
   "source": [
    "b_qubits = [q for q in range(backend.get_number_qubits())]\n",
    "rho_qubits = [0, 1]\n",
    "n = len(rho_qubits)\n",
    "trace_out = [q for q in b_qubits if q not in rho_qubits]"
   ]
  },
  {
   "cell_type": "markdown",
   "id": "739b2fef-69c1-437d-8def-cc3e4aa809dd",
   "metadata": {},
   "source": [
    "# Functions to create cost evaluation circuits"
   ]
  },
  {
   "cell_type": "code",
   "execution_count": 10,
   "id": "58e0f10d-0f26-4361-b00a-ce4b105ed6a6",
   "metadata": {},
   "outputs": [
    {
     "data": {
      "text/html": [
       "<pre style=\"word-wrap: normal;white-space: pre;background: #fff0;line-height: 1.1;font-family: &quot;Courier New&quot;,Courier,monospace\">     ┌───┐ ░ ┌───┐ ░ ┌───┐ ░ ┌───┐ ░ ┌───┐ ░ ┌───┐ ░ ┌───┐ ░ ┌───┐ ░ ┌───┐ ░ »\n",
       "q_0: ┤ H ├─░─┤ I ├─░─┤ I ├─░─┤ I ├─░─┤ I ├─░─┤ I ├─░─┤ I ├─░─┤ I ├─░─┤ I ├─░─»\n",
       "     └───┘ ░ └───┘ ░ └───┘ ░ └───┘ ░ └───┘ ░ └───┘ ░ └───┘ ░ └───┘ ░ └───┘ ░ »\n",
       "q_1: ──────░───────░───────░───────░───────░───────░───────░───────░───────░─»\n",
       "           ░       ░       ░       ░       ░       ░       ░       ░       ░ »\n",
       "q_2: ──────░───────░───────░───────░───────░───────░───────░───────░───────░─»\n",
       "           ░       ░       ░       ░       ░       ░       ░       ░       ░ »\n",
       "q_3: ──────░───────░───────░───────░───────░───────░───────░───────░───────░─»\n",
       "           ░       ░       ░       ░       ░       ░       ░       ░       ░ »\n",
       "q_4: ──────░───────░───────░───────░───────░───────░───────░───────░───────░─»\n",
       "           ░       ░       ░       ░       ░       ░       ░       ░       ░ »\n",
       "q_5: ──────░───────░───────░───────░───────░───────░───────░───────░───────░─»\n",
       "           ░       ░       ░       ░       ░       ░       ░       ░       ░ »\n",
       "q_6: ──────░───────░───────░───────░───────░───────░───────░───────░───────░─»\n",
       "           ░       ░       ░       ░       ░       ░       ░       ░       ░ »\n",
       "«     ┌───┐ ░ ┌───┐ ░ ┌───┐ ░ ┌───┐ ░ ┌───┐ ░ ┌───┐ ░ ┌───┐ ░ ┌───┐ ░ ┌───┐ ░ »\n",
       "«q_0: ┤ I ├─░─┤ I ├─░─┤ I ├─░─┤ I ├─░─┤ I ├─░─┤ I ├─░─┤ I ├─░─┤ I ├─░─┤ I ├─░─»\n",
       "«     └───┘ ░ └───┘ ░ └───┘ ░ └───┘ ░ └───┘ ░ └───┘ ░ └───┘ ░ └───┘ ░ └───┘ ░ »\n",
       "«q_1: ──────░───────░───────░───────░───────░───────░───────░───────░───────░─»\n",
       "«           ░       ░       ░       ░       ░       ░       ░       ░       ░ »\n",
       "«q_2: ──────░───────░───────░───────░───────░───────░───────░───────░───────░─»\n",
       "«           ░       ░       ░       ░       ░       ░       ░       ░       ░ »\n",
       "«q_3: ──────░───────░───────░───────░───────░───────░───────░───────░───────░─»\n",
       "«           ░       ░       ░       ░       ░       ░       ░       ░       ░ »\n",
       "«q_4: ──────░───────░───────░───────░───────░───────░───────░───────░───────░─»\n",
       "«           ░       ░       ░       ░       ░       ░       ░       ░       ░ »\n",
       "«q_5: ──────░───────░───────░───────░───────░───────░───────░───────░───────░─»\n",
       "«           ░       ░       ░       ░       ░       ░       ░       ░       ░ »\n",
       "«q_6: ──────░───────░───────░───────░───────░───────░───────░───────░───────░─»\n",
       "«           ░       ░       ░       ░       ░       ░       ░       ░       ░ »\n",
       "«     ┌───┐ ░ ┌───┐ ░ ┌───┐ ░       ░ \n",
       "«q_0: ┤ I ├─░─┤ I ├─░─┤ I ├─░───■───░─\n",
       "«     └───┘ ░ └───┘ ░ └───┘ ░ ┌─┴─┐ ░ \n",
       "«q_1: ──────░───────░───────░─┤ X ├─░─\n",
       "«           ░       ░       ░ └───┘ ░ \n",
       "«q_2: ──────░───────░───────░───────░─\n",
       "«           ░       ░       ░       ░ \n",
       "«q_3: ──────░───────░───────░───────░─\n",
       "«           ░       ░       ░       ░ \n",
       "«q_4: ──────░───────░───────░───────░─\n",
       "«           ░       ░       ░       ░ \n",
       "«q_5: ──────░───────░───────░───────░─\n",
       "«           ░       ░       ░       ░ \n",
       "«q_6: ──────░───────░───────░───────░─\n",
       "«           ░       ░       ░       ░ </pre>"
      ],
      "text/plain": [
       "     ┌───┐ ░ ┌───┐ ░ ┌───┐ ░ ┌───┐ ░ ┌───┐ ░ ┌───┐ ░ ┌───┐ ░ ┌───┐ ░ ┌───┐ ░ »\n",
       "q_0: ┤ H ├─░─┤ I ├─░─┤ I ├─░─┤ I ├─░─┤ I ├─░─┤ I ├─░─┤ I ├─░─┤ I ├─░─┤ I ├─░─»\n",
       "     └───┘ ░ └───┘ ░ └───┘ ░ └───┘ ░ └───┘ ░ └───┘ ░ └───┘ ░ └───┘ ░ └───┘ ░ »\n",
       "q_1: ──────░───────░───────░───────░───────░───────░───────░───────░───────░─»\n",
       "           ░       ░       ░       ░       ░       ░       ░       ░       ░ »\n",
       "q_2: ──────░───────░───────░───────░───────░───────░───────░───────░───────░─»\n",
       "           ░       ░       ░       ░       ░       ░       ░       ░       ░ »\n",
       "q_3: ──────░───────░───────░───────░───────░───────░───────░───────░───────░─»\n",
       "           ░       ░       ░       ░       ░       ░       ░       ░       ░ »\n",
       "q_4: ──────░───────░───────░───────░───────░───────░───────░───────░───────░─»\n",
       "           ░       ░       ░       ░       ░       ░       ░       ░       ░ »\n",
       "q_5: ──────░───────░───────░───────░───────░───────░───────░───────░───────░─»\n",
       "           ░       ░       ░       ░       ░       ░       ░       ░       ░ »\n",
       "q_6: ──────░───────░───────░───────░───────░───────░───────░───────░───────░─»\n",
       "           ░       ░       ░       ░       ░       ░       ░       ░       ░ »\n",
       "«     ┌───┐ ░ ┌───┐ ░ ┌───┐ ░ ┌───┐ ░ ┌───┐ ░ ┌───┐ ░ ┌───┐ ░ ┌───┐ ░ ┌───┐ ░ »\n",
       "«q_0: ┤ I ├─░─┤ I ├─░─┤ I ├─░─┤ I ├─░─┤ I ├─░─┤ I ├─░─┤ I ├─░─┤ I ├─░─┤ I ├─░─»\n",
       "«     └───┘ ░ └───┘ ░ └───┘ ░ └───┘ ░ └───┘ ░ └───┘ ░ └───┘ ░ └───┘ ░ └───┘ ░ »\n",
       "«q_1: ──────░───────░───────░───────░───────░───────░───────░───────░───────░─»\n",
       "«           ░       ░       ░       ░       ░       ░       ░       ░       ░ »\n",
       "«q_2: ──────░───────░───────░───────░───────░───────░───────░───────░───────░─»\n",
       "«           ░       ░       ░       ░       ░       ░       ░       ░       ░ »\n",
       "«q_3: ──────░───────░───────░───────░───────░───────░───────░───────░───────░─»\n",
       "«           ░       ░       ░       ░       ░       ░       ░       ░       ░ »\n",
       "«q_4: ──────░───────░───────░───────░───────░───────░───────░───────░───────░─»\n",
       "«           ░       ░       ░       ░       ░       ░       ░       ░       ░ »\n",
       "«q_5: ──────░───────░───────░───────░───────░───────░───────░───────░───────░─»\n",
       "«           ░       ░       ░       ░       ░       ░       ░       ░       ░ »\n",
       "«q_6: ──────░───────░───────░───────░───────░───────░───────░───────░───────░─»\n",
       "«           ░       ░       ░       ░       ░       ░       ░       ░       ░ »\n",
       "«     ┌───┐ ░ ┌───┐ ░ ┌───┐ ░       ░ \n",
       "«q_0: ┤ I ├─░─┤ I ├─░─┤ I ├─░───■───░─\n",
       "«     └───┘ ░ └───┘ ░ └───┘ ░ ┌─┴─┐ ░ \n",
       "«q_1: ──────░───────░───────░─┤ X ├─░─\n",
       "«           ░       ░       ░ └───┘ ░ \n",
       "«q_2: ──────░───────░───────░───────░─\n",
       "«           ░       ░       ░       ░ \n",
       "«q_3: ──────░───────░───────░───────░─\n",
       "«           ░       ░       ░       ░ \n",
       "«q_4: ──────░───────░───────░───────░─\n",
       "«           ░       ░       ░       ░ \n",
       "«q_5: ──────░───────░───────░───────░─\n",
       "«           ░       ░       ░       ░ \n",
       "«q_6: ──────░───────░───────░───────░─\n",
       "«           ░       ░       ░       ░ "
      ]
     },
     "execution_count": 10,
     "metadata": {},
     "output_type": "execute_result"
    }
   ],
   "source": [
    "def make_hadamard_rho_circ(h_qubits, num_ids, device):\n",
    "    \"\"\"\n",
    "    Applies hadamard to [h_qubit] followed by [num_ids]\n",
    "    identities.\n",
    "    Transpiles circuit to native gates on [device].\n",
    "    \"\"\"\n",
    "    n_device = device.get_number_qubits()\n",
    "    qubits = list(range(n_device))\n",
    "    circ = AnsatzCirc(n_device)\n",
    "    circ.h(h_qubits[0])\n",
    "    circ.barrier(qubits)\n",
    "    for _ in range(num_ids):\n",
    "        circ.id(h_qubits[0])\n",
    "        circ.barrier(qubits)\n",
    "    circ.cnot(h_qubits[0], h_qubits[1])\n",
    "    circ.barrier(qubits)\n",
    "    \n",
    "    #t_circ = transpile(circ, device.backend, optimization_level=0)\n",
    "    \n",
    "    return circ\n",
    "\n",
    "rho_prep_circ = make_hadamard_rho_circ(rho_qubits, 20, backend)\n",
    "rho_prep_circ.draw()"
   ]
  },
  {
   "cell_type": "code",
   "execution_count": 11,
   "id": "8dcc95b4-66f1-4226-8204-a1b1c3ac5c9b",
   "metadata": {},
   "outputs": [
    {
     "data": {
      "text/plain": [
       "1.0"
      ]
     },
     "execution_count": 11,
     "metadata": {},
     "output_type": "execute_result"
    }
   ],
   "source": [
    "# generate \\sigma from this\n",
    "# copying necessary to not add 'get_statevector' tag to circuit in place\n",
    "circ = copy.deepcopy(rho_prep_circ)\n",
    "phi = circ.get_statevector()\n",
    "rho = qiskit.quantum_info.partial_trace(phi, trace_out)\n",
    "rp = np.real(rho.purity())\n",
    "rp"
   ]
  },
  {
   "cell_type": "code",
   "execution_count": 12,
   "id": "7cbb68ef-23c2-4e02-8990-960064a02ea6",
   "metadata": {},
   "outputs": [
    {
     "name": "stdout",
     "output_type": "stream",
     "text": [
      "DensityMatrix([[0.5+0.j, 0. +0.j, 0. +0.j, 0.5+0.j],\n",
      "               [0. +0.j, 0. +0.j, 0. +0.j, 0. +0.j],\n",
      "               [0. +0.j, 0. +0.j, 0. +0.j, 0. +0.j],\n",
      "               [0.5+0.j, 0. +0.j, 0. +0.j, 0.5+0.j]],\n",
      "              dims=(2, 2))\n"
     ]
    }
   ],
   "source": [
    "rho"
   ]
  },
  {
   "cell_type": "code",
   "execution_count": 13,
   "id": "eea45724-e237-41eb-8ca4-5b6f90f61b22",
   "metadata": {},
   "outputs": [
    {
     "data": {
      "text/plain": [
       "True"
      ]
     },
     "execution_count": 13,
     "metadata": {},
     "output_type": "execute_result"
    }
   ],
   "source": [
    "def make_sigma_ansatz_circuits(pvec, ansatz, rho_qubits, device, n):\n",
    "    \"\"\"\n",
    "    Creates circuit.\n",
    "    \"\"\"\n",
    "    # build the ansatz circuit on [n] qubits\n",
    "    ansatz.update_parameters(pvec)\n",
    "    ansatz_circ = ansatz.build_circ(n)\n",
    "    \n",
    "    # build circuit for [device]\n",
    "    n_device = device.get_number_qubits()\n",
    "    qubits = list(range(n_device))\n",
    "    u_circ = AnsatzCirc(n_device)\n",
    "    udg_circ = AnsatzCirc(n_device)\n",
    "    \n",
    "    # compose u_circ across [u_qubits] then transpile\n",
    "    u_circ.compose(ansatz_circ, rho_qubits, inplace=True)\n",
    "    udg_circ.compose(u_circ.inverse(), qubits, inplace=True)\n",
    "    \n",
    "    return u_circ, udg_circ\n",
    "\n",
    "# test that u is generated properly\n",
    "ansatz = FlexibleAnsatz(n, 'hef2d')\n",
    "pvec = np.random.random(15)\n",
    "u_circ, udg_circ = make_sigma_ansatz_circuits(pvec, ansatz, rho_qubits, backend, n)\n",
    "circ = ansatz.build_circ(n)\n",
    "u = u_circ.get_unitary(True)\n",
    "udg = udg_circ.get_unitary(True)\n",
    "check_id = np.isclose(np.matmul(u, udg), np.identity(2**backend.get_number_qubits())).all()\n",
    "check_id"
   ]
  },
  {
   "cell_type": "code",
   "execution_count": 14,
   "id": "925f0fa5-e85b-4186-a726-9c64fa7e3a7f",
   "metadata": {},
   "outputs": [
    {
     "name": "stdout",
     "output_type": "stream",
     "text": [
      "DensityMatrix([[ 0.33842964+0.j        ,  0.00262691-0.07814677j,\n",
      "                 0.03949108+0.01024071j, -0.05703476+0.08305754j],\n",
      "               [ 0.00262691+0.07814677j,  0.13557093+0.j        ,\n",
      "                 0.03065478+0.03460821j, -0.02629246-0.07120772j],\n",
      "               [ 0.03949108-0.01024071j,  0.03065478-0.03460821j,\n",
      "                 0.27135342+0.j        , -0.0585717 -0.11686558j],\n",
      "               [-0.05703476-0.08305754j, -0.02629246+0.07120772j,\n",
      "                -0.0585717 +0.11686558j,  0.25464601+0.j        ]],\n",
      "              dims=(2, 2))\n"
     ]
    }
   ],
   "source": [
    "# generate \\sigma from this\n",
    "prob_vec = qstate.utils.generate_random_prob_vec(2**n)\n",
    "def compute_sigma(prob_vec, ansatz, n):\n",
    "    \"\"\"\n",
    "    Computes sigma for verification/debugging\n",
    "    purposes.\n",
    "    \"\"\"\n",
    "    sigma = qiskit.quantum_info.Operator(np.zeros((2**n, 2**n)))\n",
    "    circ = ansatz.build_circ(n)\n",
    "    u = circ.get_unitary(True)\n",
    "    for j, p in enumerate(prob_vec):\n",
    "        phi = np.zeros(2**n)\n",
    "        phi[j] = 1\n",
    "        phi = np.matmul(u, phi)\n",
    "        phiphi = qiskit.quantum_info.DensityMatrix(phi)\n",
    "        sigma += p * phiphi\n",
    "        \n",
    "    return qiskit.quantum_info.DensityMatrix(sigma)\n",
    "\n",
    "sigma = compute_sigma(prob_vec, ansatz, n)\n",
    "sigma"
   ]
  },
  {
   "cell_type": "code",
   "execution_count": 15,
   "id": "e6a909d4-0f98-4b79-89e7-6ddced24bf7d",
   "metadata": {},
   "outputs": [],
   "source": [
    "def make_ccps_cross_circ(rho_prep_circ, udg_circ, rho_qubits, device):\n",
    "    \"\"\"\n",
    "    Create circuits of the form\n",
    "    \"\"\"\n",
    "    # generate circuit and append rho preparation\n",
    "    n_device = device.get_number_qubits()\n",
    "    circ = AnsatzCirc(n_device, len(rho_qubits))\n",
    "    circ.compose(rho_prep_circ, inplace = True)\n",
    "        \n",
    "    # apply Udg circuit\n",
    "    circ.compose(udg_circ, inplace = True)\n",
    "    \n",
    "    # apply measurements\n",
    "    for idx, q in enumerate(rho_qubits):\n",
    "        circ.measure(q, idx)\n",
    "        \n",
    "    return circ"
   ]
  },
  {
   "cell_type": "code",
   "execution_count": 16,
   "id": "c64db1f2-0e90-4d59-9cd8-919acdc69814",
   "metadata": {},
   "outputs": [
    {
     "name": "stdout",
     "output_type": "stream",
     "text": [
      "ideal overlap: 0.23950306910847674\n",
      "100000 shot overlap: 0.23988814967227287\n"
     ]
    }
   ],
   "source": [
    "ideal_overlap = np.real(np.trace(np.matmul(sigma, rho)))\n",
    "print(f\"ideal overlap: {ideal_overlap}\")\n",
    "\n",
    "cross_circ = make_ccps_cross_circ(rho_prep_circ, udg_circ, rho_qubits, backend)\n",
    "\n",
    "def compute_cross_shot_cost(cross_circ, prob_vec, rho_qubits, shots):\n",
    "    \"\"\"\n",
    "    Computes shot cost.\n",
    "    \"\"\"\n",
    "    psi = cross_circ.get_statevector()\n",
    "    counts = psi.sample_counts(shots, rho_qubits)\n",
    "    overlap = 0.0\n",
    "    basis_states = list(map(list, itertools.product(['0', '1'], repeat=n)))[0:len(prob_vec)]\n",
    "    for i, bs in enumerate(basis_states):\n",
    "        bin_str = ''.join(bs)\n",
    "        # reverse order for qiskit ordering\n",
    "        bin_str = bin_str[::-1]\n",
    "        q_shots = counts.get(bin_str)\n",
    "        if q_shots is not None:\n",
    "            overlap += (prob_vec[i] * (q_shots / shots))\n",
    "            \n",
    "    return overlap\n",
    "\n",
    "shots = int(1e5)\n",
    "shot_overlap = compute_cross_shot_cost(cross_circ, prob_vec, rho_qubits, shots)\n",
    "\n",
    "print(f\"{shots} shot overlap: {shot_overlap}\")"
   ]
  },
  {
   "cell_type": "code",
   "execution_count": 33,
   "id": "8ae95116-fdb8-4e9e-b6fa-a2692cb0434f",
   "metadata": {},
   "outputs": [],
   "source": [
    "def compute_msl_shot_and_ideal_cost(pvec, ansatz, prob_vec, rho_prep_circ, rho, rp, rho_qubits,\n",
    "                                    n, device, hardware=False, shot_list=None,\n",
    "                                    exact_list=None):\n",
    "    \"\"\"\n",
    "    Computes shot cost as well as exact cost from direct simulation.\n",
    "    \"\"\"\n",
    "    # ========================================\n",
    "    # build pre-requisite circuits\n",
    "    # ========================================\n",
    "    ansatz.update_parameters(pvec)\n",
    "    # U and Udg to prepare sigma\n",
    "    u_circ, udg_circ = make_sigma_ansatz_circuits(pvec, ansatz, rho_qubits, device, n)\n",
    "    # cross term circuit\n",
    "    cross_circ = make_ccps_cross_circ(rho_prep_circ, udg_circ, rho_qubits, device)\n",
    "    cross_t_circ = transpile(cross_circ, device.backend, optimization_level=0)\n",
    "    \n",
    "    # ========================================\n",
    "    # compute shot cost (across 10k shots)\n",
    "    # ========================================\n",
    "    shots = int(1e4)\n",
    "    gauges = 2\n",
    "    sp_value = sum([p**2 for p in prob_vec])\n",
    "    # compute via simualtor\n",
    "    if hardware == False:\n",
    "        # submit simulator job\n",
    "        cross_estimate = compute_cross_shot_cost(cross_circ, prob_vec, rho_qubits, shots * gauges)\n",
    "    # compute on device in real experiment\n",
    "    else:\n",
    "        # submit hardware job to [device]\n",
    "        #print(\"before submission\")\n",
    "        circ_submissions = [cross_t_circ for _ in range(gauges)]\n",
    "        job = device.submit_job(circ_submissions, 'hardware', shots)\n",
    "        result = job.result()\n",
    "        count_list = result.get_counts()\n",
    "        #print(count_list)\n",
    "        # compute cross cost term\n",
    "        q_vec = np.array([0 for j in range(len(prob_vec))])\n",
    "        basis_states = list(map(list, itertools.product(['0', '1'], repeat=n)))[0:len(prob_vec)]\n",
    "        for counts in count_list:\n",
    "            for i, bs in enumerate(basis_states):\n",
    "                bin_str = ''.join(bs)\n",
    "                # reverse order for qiskit ordering\n",
    "                bin_str = bin_str[::-1]\n",
    "                q_vec[i] += counts.get(bin_str)\n",
    "        q_vec = q_vec / (1e4 * gauges)\n",
    "        cross_estimate = sum(np.array(prob_vec) * q_vec)\n",
    "\n",
    "    # evaluate total shot cost\n",
    "    #print(f\"sp_shot_value: {sp_value}\")\n",
    "    #print(f\"cross_shot_value: {cross_estimate}\")\n",
    "    shot_cost = rp + sp_value - 2 * cross_estimate\n",
    "        \n",
    "    if shot_list is not None:\n",
    "        shot_list.append(shot_cost)\n",
    "        \n",
    "    # ========================================\n",
    "    # compute idealzied cost from matrices\n",
    "    # ========================================\n",
    "    sigma = compute_sigma(prob_vec, ansatz, n)\n",
    "    sp = np.real(sigma.purity())\n",
    "    # compute idealized cost\n",
    "    cross_term = np.real(np.trace(np.matmul(rho, sigma)))\n",
    "    #print(f\"sp_exact_value: {sp}\")\n",
    "    #print(f\"cross_exact_value: {cross_term}\")\n",
    "    exact_cost = rp + sp - 2 * cross_term\n",
    "    \n",
    "    if exact_list is not None:\n",
    "        exact_list.append(exact_cost)\n",
    "        \n",
    "    if hardware == False:        \n",
    "        return shot_cost, exact_cost\n",
    "    else:\n",
    "        return shot_cost, exact_cost, job"
   ]
  },
  {
   "cell_type": "code",
   "execution_count": 18,
   "id": "e6ed31f1-737a-4b85-8be0-5986f5be57a7",
   "metadata": {
    "tags": []
   },
   "outputs": [
    {
     "name": "stdout",
     "output_type": "stream",
     "text": [
      "0.8786668803512442 0.8782197039594117\n"
     ]
    }
   ],
   "source": [
    "list1 = []\n",
    "list2 = []\n",
    "shot_cost, exact_cost = compute_msl_shot_and_ideal_cost(pvec, ansatz, prob_vec, rho_prep_circ,\n",
    "                                                        rho, rp, rho_qubits, n, backend,\n",
    "                                                        False, list1, list2)\n",
    "print(shot_cost, exact_cost)"
   ]
  },
  {
   "cell_type": "markdown",
   "id": "0605720e-dd85-4178-9ea3-3e10b5e31278",
   "metadata": {},
   "source": [
    "## We need to perform tomography to find out rho in the first place actually..."
   ]
  },
  {
   "cell_type": "code",
   "execution_count": 19,
   "id": "0e6a0336-f706-43c0-8900-aa4818e86751",
   "metadata": {},
   "outputs": [],
   "source": [
    "def get_rolling_mins(costs, window=10):\n",
    "    \"\"\"\n",
    "    \n",
    "    \"\"\"\n",
    "    mins = []\n",
    "    bins = int(np.floor(len(costs) / window))\n",
    "    for b in range(bins):\n",
    "        cost_window = costs[b * window:(b + 1) * window]\n",
    "        mins.append(min(cost_window))\n",
    "        \n",
    "    cost_window = costs[(bins + 1) * window:]\n",
    "    if cost_window != []:\n",
    "        mins.append(min(cost_window))\n",
    "    \n",
    "    return np.array(mins)\n",
    "\n",
    "def compute_optimal_DHS(rho, R):\n",
    "    \"\"\"\n",
    "    Computes D^*_HS when learning [rho]\n",
    "    with a rank [R] approximation.\n",
    "    \"\"\"\n",
    "    # compute \\lambda's and sort them\n",
    "    lam = np.sort(np.real(np.linalg.eigvals(rho)))\n",
    "    d = len(lam)\n",
    "    # compute lowest d - R lowest and R highest\n",
    "    low_lam = np.array(lam[0:d-R])\n",
    "    high_lam = np.array(lam[d-R:])\n",
    "    N = (1 - np.sum(high_lam)) / R\n",
    "    # compute cost\n",
    "    #opt_DHS = np.sum(low_lam) + (1/R) * (1 - np.sum(high_lam))**2\n",
    "    opt_DHS = np.sum(low_lam**2) +  R * N**2\n",
    "    \n",
    "    return opt_DHS\n",
    "\n",
    "def make_rho_purity_tomography_experiment(rho_prep_circ, rho_qubits, device):\n",
    "    \"\"\"\n",
    "    Creates the circuit we want to make...\n",
    "    \"\"\"\n",
    "    # generate circuit and append sigma preparation\n",
    "    qr = QuantumRegister(device.get_number_qubits())\n",
    "    circ = AnsatzCirc(qr)\n",
    "    circ.compose(rho_prep_circ, inplace = True)\n",
    "        \n",
    "    # transpile all\n",
    "    sig_register = [qr[q] for q in  rho_qubits]\n",
    "    tomography_circs = state_tomography_circuits(circ, sig_register)\n",
    "    t_circs = []\n",
    "    for circ in tomography_circs:\n",
    "        tc = transpile(circ, device.backend, optimization_level=0)\n",
    "        t_circs.append(tc)\n",
    "        \n",
    "    return t_circs\n",
    "\n",
    "def compute_rho_with_tomography(rho_prep_circ, rho_qubits, n, device):\n",
    "    \"\"\"\n",
    "    Finds target state \\rho using tomography.\n",
    "    \"\"\"\n",
    "    # Generate tomography circuits\n",
    "    qr = QuantumRegister(device.get_number_qubits())\n",
    "    state_prep_circ = AnsatzCirc(qr)\n",
    "    state_prep_circ.compose(rho_prep_circ, inplace = True)\n",
    "    measure_qubits = [qr[q] for q in rho_qubits]\n",
    "    tomography_circs = state_tomography_circuits(state_prep_circ, measure_qubits)\n",
    "    # transpile them\n",
    "    t_circs = []\n",
    "    for circ in tomography_circs:\n",
    "        tc = transpile(circ, device.backend, optimization_level=0)\n",
    "        t_circs.append(tc)\n",
    "    # perform state tomography to obtain \\sigma\n",
    "    job = backend.submit_job(t_circs)\n",
    "    result = job.result()\n",
    "    tomo_fitter = StateTomographyFitter(result, t_circs)\n",
    "    rho = tomo_fitter.fit(method='lstsq')\n",
    "    rho = qiskit.quantum_info.DensityMatrix(rho)\n",
    "    \n",
    "    return rho\n",
    "\n",
    "rp_circs = make_rho_purity_tomography_experiment(rho_prep_circ, rho_qubits, backend)"
   ]
  },
  {
   "cell_type": "markdown",
   "id": "0624c2d5-38d5-4193-9a5c-d880ee587777",
   "metadata": {},
   "source": [
    "# Perform the R = 4 optimization"
   ]
  },
  {
   "cell_type": "code",
   "execution_count": 34,
   "id": "e68d6702-abb5-455f-9a56-d172b48b3e31",
   "metadata": {
    "tags": []
   },
   "outputs": [
    {
     "name": "stdout",
     "output_type": "stream",
     "text": [
      "DensityMatrix([[ 4.68508881e-01+0.j        ,  4.12521383e-03-0.00197849j,\n",
      "                 8.47625005e-03+0.00271471j,  4.19611780e-01+0.00749501j],\n",
      "               [ 4.12521383e-03+0.00197849j,  3.18705174e-02+0.j        ,\n",
      "                 2.35600396e-04-0.00445093j, -1.81767429e-03-0.00882022j],\n",
      "               [ 8.47625005e-03-0.00271471j,  2.35600396e-04+0.00445093j,\n",
      "                 3.84592971e-02+0.j        ,  1.12837218e-02-0.01774889j],\n",
      "               [ 4.19611780e-01-0.00749501j, -1.81767429e-03+0.00882022j,\n",
      "                 1.12837218e-02+0.01774889j,  4.61161305e-01+0.j        ]],\n",
      "              dims=(2, 2))\n",
      "0.7882125300667382\n"
     ]
    }
   ],
   "source": [
    "rho = compute_rho_with_tomography(rho_prep_circ, rho_qubits, n, backend)\n",
    "print(rho)\n",
    "rp = np.real(rho.purity())\n",
    "print(rp)"
   ]
  },
  {
   "cell_type": "markdown",
   "id": "bde7496b-da3c-450f-923e-d90253d076de",
   "metadata": {},
   "source": [
    "### First do it classically with shots to verify things will work"
   ]
  },
  {
   "cell_type": "code",
   "execution_count": 35,
   "id": "adc635f7-c484-496c-b4d5-fa08bb331b00",
   "metadata": {},
   "outputs": [
    {
     "data": {
      "text/plain": [
       "<matplotlib.legend.Legend at 0x7f828a9a7130>"
      ]
     },
     "execution_count": 35,
     "metadata": {},
     "output_type": "execute_result"
    },
    {
     "data": {
      "image/png": "[encoded data removed]",
      "text/plain": [
       "<Figure size 432x288 with 1 Axes>"
      ]
     },
     "metadata": {
      "needs_background": "light"
     },
     "output_type": "display_data"
    }
   ],
   "source": [
    "R = 4\n",
    "ansatz = FlexibleAnsatz(n, 'hef2d')\n",
    "an_np = ansatz.get_num_parameters()\n",
    "scl = []\n",
    "ecl = []\n",
    "on_hardware = False\n",
    "\n",
    "def cost(params):\n",
    "    pvec = params[0:an_np]\n",
    "    prob_vec = params[an_np:]\n",
    "    c = compute_msl_shot_and_ideal_cost(pvec, ansatz, prob_vec, rho_prep_circ,\n",
    "                                        rho, rp, rho_qubits, n, backend,\n",
    "                                        on_hardware, scl, ecl)[0]\n",
    "    \n",
    "    return c\n",
    "\n",
    "a0 = list(np.random.normal(size=an_np) % (2 * np.pi))\n",
    "p0 = list(qstate.utils.generate_random_prob_vec(R))\n",
    "x0 = a0 + p0\n",
    "result = scipy.optimize.minimize(cost, x0, method=\"Powell\")\n",
    "\n",
    "plt.plot(get_rolling_mins(scl) , label=\"shot cost\")\n",
    "plt.plot(get_rolling_mins(ecl), label=\"exact cost\")\n",
    "#plt.axhline(compute_optimal_DHS(rho, R), 0, 10, label=\"ideal\", color=\"g\", linestyle=\"--\")\n",
    "plt.yscale(\"log\")\n",
    "plt.xlabel(r\"$n_{f} / 10$\")\n",
    "plt.ylabel(\"Cost\")\n",
    "plt.legend()"
   ]
  },
  {
   "cell_type": "code",
   "execution_count": 24,
   "id": "8569992b-d6be-43c5-82f2-7e2f1ca1838f",
   "metadata": {},
   "outputs": [
    {
     "data": {
      "text/plain": [
       "0.01"
      ]
     },
     "execution_count": 24,
     "metadata": {},
     "output_type": "execute_result"
    }
   ],
   "source": [
    "np.sqrt(10**(-4))"
   ]
  },
  {
   "cell_type": "markdown",
   "id": "89cf8752-ec2a-4996-9d8e-45a84ab4c1fe",
   "metadata": {},
   "source": [
    "## Now actually do the real thing"
   ]
  },
  {
   "cell_type": "code",
   "execution_count": 36,
   "id": "74c30302-37eb-4cd9-a0d9-dd263e116947",
   "metadata": {
    "tags": []
   },
   "outputs": [
    {
     "name": "stderr",
     "output_type": "stream",
     "text": [
      "\n",
      "KeyboardInterrupt\n",
      "\n"
     ]
    }
   ],
   "source": [
    "R = 4\n",
    "ansatz = FlexibleAnsatz(n, 'hef2d')\n",
    "an_np = ansatz.get_num_parameters()\n",
    "scl = []\n",
    "ecl = []\n",
    "on_hardware = True\n",
    "\n",
    "def cost(params):\n",
    "    pvec = params[0:an_np]\n",
    "    prob_vec = params[an_np:]\n",
    "    c = compute_msl_shot_and_ideal_cost(pvec, ansatz, prob_vec, rho_prep_circ,\n",
    "                                        rho, rp, rho_qubits, n, backend,\n",
    "                                        on_hardware, scl, ecl)[0]\n",
    "    \n",
    "    return c\n",
    "\n",
    "a0 = list(np.random.normal(size=an_np) % (2 * np.pi))\n",
    "p0 = list(qstate.utils.generate_random_prob_vec(R))\n",
    "x0 = a0 + p0\n",
    "result = scipy.optimize.minimize(cost, x0, method=\"Powell\")\n",
    "\n",
    "plt.plot(get_rolling_mins(scl) , label=\"shot cost\")\n",
    "#plt.plot(get_rolling_mins(ecl), label=\"exact cost\")\n",
    "#plt.axhline(compute_optimal_DHS(rho, R), 0, 10, label=\"ideal\", color=\"g\", linestyle=\"--\")\n",
    "plt.yscale(\"log\")\n",
    "plt.xlabel(r\"$n_{f} / 10$\")\n",
    "plt.ylabel(\"Cost\")\n",
    "plt.legend()"
   ]
  },
  {
   "cell_type": "code",
   "execution_count": 47,
   "id": "2f868b40-ea5d-4fa3-8658-8b10c4c3673c",
   "metadata": {},
   "outputs": [
    {
     "data": {
      "text/plain": [
       "<matplotlib.legend.Legend at 0x7f82d3622f40>"
      ]
     },
     "execution_count": 47,
     "metadata": {},
     "output_type": "execute_result"
    },
    {
     "data": {
      "image/png": "[encoded data removed]",
      "text/plain": [
       "<Figure size 432x288 with 1 Axes>"
      ]
     },
     "metadata": {
      "needs_background": "light"
     },
     "output_type": "display_data"
    }
   ],
   "source": [
    "plt.plot(get_rolling_mins(scl) + 0.085 , label=\"shot cost\")\n",
    "plt.plot(get_rolling_mins(ecl), label=\"exact cost\")\n",
    "#plt.axhline(compute_optimal_DHS(rho, R), 0, 10, label=\"ideal\", color=\"g\", linestyle=\"--\")\n",
    "plt.yscale(\"log\")\n",
    "plt.xlabel(r\"$n_{f} / 10$\")\n",
    "plt.ylabel(\"Cost\")\n",
    "plt.legend()"
   ]
  },
  {
   "cell_type": "code",
   "execution_count": 48,
   "id": "2fa3380f-4e26-4cff-a586-a5d3d76a326c",
   "metadata": {},
   "outputs": [
    {
     "name": "stderr",
     "output_type": "stream",
     "text": [
      "/var/folders/2w/_70fq7w11c36fkhz8pnqp8gw0000gp/T/ipykernel_43531/1578741264.py:22: DeprecationWarning: The `backends` provider attribute is deprecated. Please use `provider.backend` (singular) instead. You can continue to use `provider.backends()` to retrieve all backends.\n",
      "  pickle.dump(data_dict, f)\n",
      "/var/folders/2w/_70fq7w11c36fkhz8pnqp8gw0000gp/T/ipykernel_43531/1578741264.py:22: DeprecationWarning: The `backends` provider attribute is deprecated. Please use `provider.backend` (singular) instead. You can continue to use `provider.backends()` to retrieve all backends.\n",
      "  pickle.dump(data_dict, f)\n"
     ]
    }
   ],
   "source": [
    "ucirc, _ = make_sigma_ansatz_circuits(result.x[0:an_np], ansatz, rho_qubits, backend, n)\n",
    "ansatz.update_parameters(result.x[0:an_np])\n",
    "sigma = compute_sigma(result.x[an_np:], ansatz, n)\n",
    "\n",
    "data_dict = {}\n",
    "data_dict[\"backend\"] = backend\n",
    "data_dict[\"backend_name\"] = backend.backend.name()\n",
    "data_dict[\"rho\"] = rho\n",
    "data_dict[\"rho_circ\"] = rho_prep_circ\n",
    "data_dict[\"sigma\"] = sigma\n",
    "data_dict[\"final_cost\"] = np.real(rho.purity() + sigma.purity() - 2 * np.trace(np.matmul(rho, sigma)))\n",
    "data_dict[\"sigma_ansatz\"] = ansatz\n",
    "data_dict[\"shot_costs\"] = scl\n",
    "data_dict[\"exact_costs\"] = ecl\n",
    "data_dict[\"plot_offset\"] = 0.085\n",
    "data_dict[\"window\"] = 10\n",
    "data_dict[\"data\"] = \"14 June 2022\"\n",
    "data_dict[\"optimal_cost\"] = compute_optimal_DHS(rho, R)\n",
    "\n",
    "fname = f\"pickled_runs/jakarta_2q_ghz_prep_run_rank_{R}_approx.pkl\"\n",
    "with open(fname, 'wb') as f:\n",
    "    pickle.dump(data_dict, f)"
   ]
  },
  {
   "cell_type": "code",
   "execution_count": 58,
   "id": "c3b76362-634c-402d-8705-da355809ad62",
   "metadata": {},
   "outputs": [],
   "source": [
    "#with open(fname, 'rb') as f:\n",
    "#    blah = pickle.load(f)\n",
    "\n",
    "fname = \"csv_runs/jakarta_2q_ghz_prep_run_rank_{R}_approx.csv\"\n",
    "with open(fname, 'w') as f:\n",
    "    for j in range(len(ecl)):\n",
    "        if j == 0:\n",
    "            line = f\"{scl[j]},{ecl[j]}\"\n",
    "        else:\n",
    "            line = f\"\\n{scl[j]},{ecl[j]}\"\n",
    "        f.write(line)"
   ]
  },
  {
   "cell_type": "markdown",
   "id": "4e9f9ceb-0459-486c-bb0e-b2444c13c30a",
   "metadata": {},
   "source": [
    "# Perform the R = 2 optimization"
   ]
  },
  {
   "cell_type": "code",
   "execution_count": 59,
   "id": "cd3b9407-f0b6-4b82-b41f-ae20cf5706f9",
   "metadata": {
    "collapsed": true,
    "jupyter": {
     "outputs_hidden": true
    },
    "tags": []
   },
   "outputs": [
    {
     "ename": "KeyboardInterrupt",
     "evalue": "",
     "output_type": "error",
     "traceback": [
      "\u001b[0;31m---------------------------------------------------------------------------\u001b[0m",
      "\u001b[0;31mKeyboardInterrupt\u001b[0m                         Traceback (most recent call last)",
      "Input \u001b[0;32mIn [59]\u001b[0m, in \u001b[0;36m<module>\u001b[0;34m\u001b[0m\n\u001b[0;32m----> 1\u001b[0m rho \u001b[38;5;241m=\u001b[39m \u001b[43mcompute_rho_with_tomography\u001b[49m\u001b[43m(\u001b[49m\u001b[43mrho_prep_circ\u001b[49m\u001b[43m,\u001b[49m\u001b[43m \u001b[49m\u001b[43mrho_qubits\u001b[49m\u001b[43m,\u001b[49m\u001b[43m \u001b[49m\u001b[43mn\u001b[49m\u001b[43m,\u001b[49m\u001b[43m \u001b[49m\u001b[43mbackend\u001b[49m\u001b[43m)\u001b[49m\n\u001b[1;32m      2\u001b[0m \u001b[38;5;28mprint\u001b[39m(rho)\n\u001b[1;32m      3\u001b[0m rp \u001b[38;5;241m=\u001b[39m np\u001b[38;5;241m.\u001b[39mreal(rho\u001b[38;5;241m.\u001b[39mpurity())\n",
      "Input \u001b[0;32mIn [19]\u001b[0m, in \u001b[0;36mcompute_rho_with_tomography\u001b[0;34m(rho_prep_circ, rho_qubits, n, device)\u001b[0m\n\u001b[1;32m     69\u001b[0m \u001b[38;5;66;03m# perform state tomography to obtain \\sigma\u001b[39;00m\n\u001b[1;32m     70\u001b[0m job \u001b[38;5;241m=\u001b[39m backend\u001b[38;5;241m.\u001b[39msubmit_job(t_circs)\n\u001b[0;32m---> 71\u001b[0m result \u001b[38;5;241m=\u001b[39m \u001b[43mjob\u001b[49m\u001b[38;5;241;43m.\u001b[39;49m\u001b[43mresult\u001b[49m\u001b[43m(\u001b[49m\u001b[43m)\u001b[49m\n\u001b[1;32m     72\u001b[0m tomo_fitter \u001b[38;5;241m=\u001b[39m StateTomographyFitter(result, t_circs)\n\u001b[1;32m     73\u001b[0m rho \u001b[38;5;241m=\u001b[39m tomo_fitter\u001b[38;5;241m.\u001b[39mfit(method\u001b[38;5;241m=\u001b[39m\u001b[38;5;124m'\u001b[39m\u001b[38;5;124mlstsq\u001b[39m\u001b[38;5;124m'\u001b[39m)\n",
      "File \u001b[0;32m~/opt/anaconda3/envs/vcg2/lib/python3.9/site-packages/qiskit/providers/ibmq/job/ibmqjob.py:276\u001b[0m, in \u001b[0;36mIBMQJob.result\u001b[0;34m(self, timeout, wait, partial, refresh)\u001b[0m\n\u001b[1;32m    226\u001b[0m \u001b[38;5;124;03m\"\"\"Return the result of the job.\u001b[39;00m\n\u001b[1;32m    227\u001b[0m \n\u001b[1;32m    228\u001b[0m \u001b[38;5;124;03mNote:\u001b[39;00m\n\u001b[0;32m   (...)\u001b[0m\n\u001b[1;32m    273\u001b[0m \u001b[38;5;124;03m        with the server.\u001b[39;00m\n\u001b[1;32m    274\u001b[0m \u001b[38;5;124;03m\"\"\"\u001b[39;00m\n\u001b[1;32m    275\u001b[0m \u001b[38;5;66;03m# pylint: disable=arguments-differ\u001b[39;00m\n\u001b[0;32m--> 276\u001b[0m \u001b[38;5;28;01mif\u001b[39;00m \u001b[38;5;129;01mnot\u001b[39;00m \u001b[38;5;28;43mself\u001b[39;49m\u001b[38;5;241;43m.\u001b[39;49m\u001b[43m_wait_for_completion\u001b[49m\u001b[43m(\u001b[49m\u001b[43mtimeout\u001b[49m\u001b[38;5;241;43m=\u001b[39;49m\u001b[43mtimeout\u001b[49m\u001b[43m,\u001b[49m\u001b[43m \u001b[49m\u001b[43mwait\u001b[49m\u001b[38;5;241;43m=\u001b[39;49m\u001b[43mwait\u001b[49m\u001b[43m,\u001b[49m\n\u001b[1;32m    277\u001b[0m \u001b[43m                                 \u001b[49m\u001b[43mrequired_status\u001b[49m\u001b[38;5;241;43m=\u001b[39;49m\u001b[43m(\u001b[49m\u001b[43mJobStatus\u001b[49m\u001b[38;5;241;43m.\u001b[39;49m\u001b[43mDONE\u001b[49m\u001b[43m,\u001b[49m\u001b[43m)\u001b[49m\u001b[43m)\u001b[49m:\n\u001b[1;32m    278\u001b[0m     \u001b[38;5;28;01mif\u001b[39;00m \u001b[38;5;28mself\u001b[39m\u001b[38;5;241m.\u001b[39m_status \u001b[38;5;129;01mis\u001b[39;00m JobStatus\u001b[38;5;241m.\u001b[39mCANCELLED:\n\u001b[1;32m    279\u001b[0m         \u001b[38;5;28;01mraise\u001b[39;00m IBMQJobInvalidStateError(\u001b[38;5;124m'\u001b[39m\u001b[38;5;124mUnable to retrieve result for job \u001b[39m\u001b[38;5;132;01m{}\u001b[39;00m\u001b[38;5;124m. \u001b[39m\u001b[38;5;124m'\u001b[39m\n\u001b[1;32m    280\u001b[0m                                        \u001b[38;5;124m'\u001b[39m\u001b[38;5;124mJob was cancelled.\u001b[39m\u001b[38;5;124m'\u001b[39m\u001b[38;5;241m.\u001b[39mformat(\u001b[38;5;28mself\u001b[39m\u001b[38;5;241m.\u001b[39mjob_id()))\n",
      "File \u001b[0;32m~/opt/anaconda3/envs/vcg2/lib/python3.9/site-packages/qiskit/providers/ibmq/job/ibmqjob.py:911\u001b[0m, in \u001b[0;36mIBMQJob._wait_for_completion\u001b[0;34m(self, timeout, wait, required_status, status_queue)\u001b[0m\n\u001b[1;32m    908\u001b[0m     \u001b[38;5;28;01mreturn\u001b[39;00m \u001b[38;5;28mself\u001b[39m\u001b[38;5;241m.\u001b[39m_status \u001b[38;5;129;01min\u001b[39;00m required_status\n\u001b[1;32m    910\u001b[0m \u001b[38;5;28;01mtry\u001b[39;00m:\n\u001b[0;32m--> 911\u001b[0m     status_response \u001b[38;5;241m=\u001b[39m \u001b[38;5;28;43mself\u001b[39;49m\u001b[38;5;241;43m.\u001b[39;49m\u001b[43m_api_client\u001b[49m\u001b[38;5;241;43m.\u001b[39;49m\u001b[43mjob_final_status\u001b[49m\u001b[43m(\u001b[49m\n\u001b[1;32m    912\u001b[0m \u001b[43m        \u001b[49m\u001b[38;5;28;43mself\u001b[39;49m\u001b[38;5;241;43m.\u001b[39;49m\u001b[43mjob_id\u001b[49m\u001b[43m(\u001b[49m\u001b[43m)\u001b[49m\u001b[43m,\u001b[49m\u001b[43m \u001b[49m\u001b[43mtimeout\u001b[49m\u001b[38;5;241;43m=\u001b[39;49m\u001b[43mtimeout\u001b[49m\u001b[43m,\u001b[49m\u001b[43m \u001b[49m\u001b[43mwait\u001b[49m\u001b[38;5;241;43m=\u001b[39;49m\u001b[43mwait\u001b[49m\u001b[43m,\u001b[49m\u001b[43m \u001b[49m\u001b[43mstatus_queue\u001b[49m\u001b[38;5;241;43m=\u001b[39;49m\u001b[43mstatus_queue\u001b[49m\u001b[43m)\u001b[49m\n\u001b[1;32m    913\u001b[0m \u001b[38;5;28;01mexcept\u001b[39;00m UserTimeoutExceededError:\n\u001b[1;32m    914\u001b[0m     \u001b[38;5;28;01mraise\u001b[39;00m IBMQJobTimeoutError(\n\u001b[1;32m    915\u001b[0m         \u001b[38;5;124m'\u001b[39m\u001b[38;5;124mTimeout while waiting for job \u001b[39m\u001b[38;5;132;01m{}\u001b[39;00m\u001b[38;5;124m.\u001b[39m\u001b[38;5;124m'\u001b[39m\u001b[38;5;241m.\u001b[39mformat(\u001b[38;5;28mself\u001b[39m\u001b[38;5;241m.\u001b[39m_job_id)) \u001b[38;5;28;01mfrom\u001b[39;00m \u001b[38;5;28mNone\u001b[39m\n",
      "File \u001b[0;32m~/opt/anaconda3/envs/vcg2/lib/python3.9/site-packages/qiskit/providers/ibmq/api/clients/account.py:361\u001b[0m, in \u001b[0;36mAccountClient.job_final_status\u001b[0;34m(self, job_id, timeout, wait, status_queue)\u001b[0m\n\u001b[1;32m    359\u001b[0m start_time \u001b[38;5;241m=\u001b[39m time\u001b[38;5;241m.\u001b[39mtime()\n\u001b[1;32m    360\u001b[0m \u001b[38;5;28;01mtry\u001b[39;00m:\n\u001b[0;32m--> 361\u001b[0m     status_response \u001b[38;5;241m=\u001b[39m \u001b[38;5;28;43mself\u001b[39;49m\u001b[38;5;241;43m.\u001b[39;49m\u001b[43m_job_final_status_websocket\u001b[49m\u001b[43m(\u001b[49m\n\u001b[1;32m    362\u001b[0m \u001b[43m        \u001b[49m\u001b[43mjob_id\u001b[49m\u001b[38;5;241;43m=\u001b[39;49m\u001b[43mjob_id\u001b[49m\u001b[43m,\u001b[49m\u001b[43m \u001b[49m\u001b[43mtimeout\u001b[49m\u001b[38;5;241;43m=\u001b[39;49m\u001b[43mtimeout\u001b[49m\u001b[43m,\u001b[49m\u001b[43m \u001b[49m\u001b[43mstatus_queue\u001b[49m\u001b[38;5;241;43m=\u001b[39;49m\u001b[43mstatus_queue\u001b[49m\u001b[43m)\u001b[49m\n\u001b[1;32m    363\u001b[0m \u001b[38;5;28;01mexcept\u001b[39;00m WebsocketTimeoutError \u001b[38;5;28;01mas\u001b[39;00m ex:\n\u001b[1;32m    364\u001b[0m     logger\u001b[38;5;241m.\u001b[39minfo(\u001b[38;5;124m'\u001b[39m\u001b[38;5;124mTimeout checking job status using websocket, \u001b[39m\u001b[38;5;124m'\u001b[39m\n\u001b[1;32m    365\u001b[0m                 \u001b[38;5;124m'\u001b[39m\u001b[38;5;124mretrying using HTTP: \u001b[39m\u001b[38;5;132;01m%s\u001b[39;00m\u001b[38;5;124m'\u001b[39m, ex)\n",
      "File \u001b[0;32m~/opt/anaconda3/envs/vcg2/lib/python3.9/site-packages/qiskit/providers/ibmq/api/clients/account.py:414\u001b[0m, in \u001b[0;36mAccountClient._job_final_status_websocket\u001b[0;34m(self, job_id, timeout, status_queue)\u001b[0m\n\u001b[1;32m    411\u001b[0m     timer\u001b[38;5;241m.\u001b[39mstart()\n\u001b[1;32m    413\u001b[0m \u001b[38;5;28;01mtry\u001b[39;00m:\n\u001b[0;32m--> 414\u001b[0m     \u001b[38;5;28;01mreturn\u001b[39;00m \u001b[43mws_client\u001b[49m\u001b[38;5;241;43m.\u001b[39;49m\u001b[43mget_job_status\u001b[49m\u001b[43m(\u001b[49m\u001b[43m)\u001b[49m\n\u001b[1;32m    415\u001b[0m \u001b[38;5;28;01mfinally\u001b[39;00m:\n\u001b[1;32m    416\u001b[0m     \u001b[38;5;28;01mif\u001b[39;00m timer:\n",
      "File \u001b[0;32m~/opt/anaconda3/envs/vcg2/lib/python3.9/site-packages/qiskit/providers/ibmq/api/clients/websocket.py:194\u001b[0m, in \u001b[0;36mWebsocketClient.get_job_status\u001b[0;34m(self, retries, backoff_factor)\u001b[0m\n\u001b[1;32m    159\u001b[0m \u001b[38;5;124;03m\"\"\"Return the status of a job.\u001b[39;00m\n\u001b[1;32m    160\u001b[0m \n\u001b[1;32m    161\u001b[0m \u001b[38;5;124;03mRead status messages from the server, which are issued at regular\u001b[39;00m\n\u001b[0;32m   (...)\u001b[0m\n\u001b[1;32m    191\u001b[0m \u001b[38;5;124;03m    WebsocketTimeoutError: If the timeout has been reached.\u001b[39;00m\n\u001b[1;32m    192\u001b[0m \u001b[38;5;124;03m\"\"\"\u001b[39;00m\n\u001b[1;32m    193\u001b[0m url \u001b[38;5;241m=\u001b[39m \u001b[38;5;124m'\u001b[39m\u001b[38;5;132;01m{}\u001b[39;00m\u001b[38;5;124m/jobs/\u001b[39m\u001b[38;5;132;01m{}\u001b[39;00m\u001b[38;5;124m/status/v/1\u001b[39m\u001b[38;5;124m'\u001b[39m\u001b[38;5;241m.\u001b[39mformat(\u001b[38;5;28mself\u001b[39m\u001b[38;5;241m.\u001b[39m_websocket_url, \u001b[38;5;28mself\u001b[39m\u001b[38;5;241m.\u001b[39m_job_id)\n\u001b[0;32m--> 194\u001b[0m \u001b[38;5;28;01mreturn\u001b[39;00m \u001b[38;5;28;43mself\u001b[39;49m\u001b[38;5;241;43m.\u001b[39;49m\u001b[43mstream\u001b[49m\u001b[43m(\u001b[49m\u001b[43murl\u001b[49m\u001b[38;5;241;43m=\u001b[39;49m\u001b[43murl\u001b[49m\u001b[43m,\u001b[49m\u001b[43m \u001b[49m\u001b[43mretries\u001b[49m\u001b[38;5;241;43m=\u001b[39;49m\u001b[43mretries\u001b[49m\u001b[43m,\u001b[49m\u001b[43m \u001b[49m\u001b[43mbackoff_factor\u001b[49m\u001b[38;5;241;43m=\u001b[39;49m\u001b[43mbackoff_factor\u001b[49m\u001b[43m)\u001b[49m\n",
      "File \u001b[0;32m~/opt/anaconda3/envs/vcg2/lib/python3.9/site-packages/qiskit/providers/ibmq/api/clients/base.py:219\u001b[0m, in \u001b[0;36mBaseWebsocketClient.stream\u001b[0;34m(self, url, retries, backoff_factor)\u001b[0m\n\u001b[1;32m    216\u001b[0m     backoff_time \u001b[38;5;241m=\u001b[39m \u001b[38;5;28mself\u001b[39m\u001b[38;5;241m.\u001b[39m_backoff_time(backoff_factor, \u001b[38;5;28mself\u001b[39m\u001b[38;5;241m.\u001b[39m_current_retry)\n\u001b[1;32m    217\u001b[0m     logger\u001b[38;5;241m.\u001b[39minfo(\u001b[38;5;124m'\u001b[39m\u001b[38;5;124mRetrying get_job_status via websocket after \u001b[39m\u001b[38;5;132;01m%s\u001b[39;00m\u001b[38;5;124m seconds: \u001b[39m\u001b[38;5;124m'\u001b[39m\n\u001b[1;32m    218\u001b[0m                 \u001b[38;5;124m'\u001b[39m\u001b[38;5;124mAttempt #\u001b[39m\u001b[38;5;132;01m%s\u001b[39;00m\u001b[38;5;124m'\u001b[39m, backoff_time, \u001b[38;5;28mself\u001b[39m\u001b[38;5;241m.\u001b[39m_current_retry)\n\u001b[0;32m--> 219\u001b[0m     \u001b[43mtime\u001b[49m\u001b[38;5;241;43m.\u001b[39;49m\u001b[43msleep\u001b[49m\u001b[43m(\u001b[49m\u001b[43mbackoff_time\u001b[49m\u001b[43m)\u001b[49m\n\u001b[1;32m    221\u001b[0m \u001b[38;5;66;03m# Execution should not reach here, sanity check.\u001b[39;00m\n\u001b[1;32m    222\u001b[0m exception_message \u001b[38;5;241m=\u001b[39m \u001b[38;5;124m'\u001b[39m\u001b[38;5;124mMax retries exceeded: Failed to establish a websocket \u001b[39m\u001b[38;5;124m'\u001b[39m \\\n\u001b[1;32m    223\u001b[0m                     \u001b[38;5;124m'\u001b[39m\u001b[38;5;124mconnection due to a network error.\u001b[39m\u001b[38;5;124m'\u001b[39m\n",
      "\u001b[0;31mKeyboardInterrupt\u001b[0m: "
     ]
    }
   ],
   "source": [
    "rho = compute_rho_with_tomography(rho_prep_circ, rho_qubits, n, backend)\n",
    "print(rho)\n",
    "rp = np.real(rho.purity())\n",
    "print(rp)"
   ]
  },
  {
   "cell_type": "markdown",
   "id": "d5feef2f-d29c-485a-92f8-24d7a6a45c4b",
   "metadata": {},
   "source": [
    "### First do it classically with shots to verify things will work"
   ]
  },
  {
   "cell_type": "code",
   "execution_count": 16,
   "id": "9d9d5785-f481-4f2e-bdd1-ea506190baa8",
   "metadata": {},
   "outputs": [
    {
     "data": {
      "text/plain": [
       "<matplotlib.legend.Legend at 0x7fe188292a60>"
      ]
     },
     "execution_count": 16,
     "metadata": {},
     "output_type": "execute_result"
    },
    {
     "data": {
      "image/png": "[encoded data removed]",
      "text/plain": [
       "<Figure size 432x288 with 1 Axes>"
      ]
     },
     "metadata": {
      "needs_background": "light"
     },
     "output_type": "display_data"
    }
   ],
   "source": [
    "R = 2\n",
    "ansatz = FlexibleAnsatz(n)\n",
    "ansatz.insert_arb1q(0)\n",
    "an_np = ansatz.get_num_parameters()\n",
    "scl = []\n",
    "ecl = []\n",
    "on_hardware = False\n",
    "\n",
    "def cost(params):\n",
    "    pvec = params[0:an_np]\n",
    "    prob_vec = params[an_np:]\n",
    "    c = compute_msl_shot_and_ideal_cost(pvec, ansatz, prob_vec, rho_prep_circ,\n",
    "                                        rho, rp, rho_qubits, n, backend,\n",
    "                                        on_hardware, scl, ecl)[0]\n",
    "    \n",
    "    return c\n",
    "\n",
    "a0 = list(np.random.normal(size=an_np) % (2 * np.pi))\n",
    "p0 = list(qstate.utils.generate_random_prob_vec(R))\n",
    "x0 = a0 + p0\n",
    "result = scipy.optimize.minimize(cost, x0, method=\"Powell\")\n",
    "\n",
    "plt.plot(get_rolling_mins(scl), label=\"shot cost\")\n",
    "plt.plot(get_rolling_mins(ecl), label=\"exact cost\")\n",
    "#plt.axhline(compute_optimal_DHS(rho, R), 0, 10, label=\"ideal\", color=\"g\", linestyle=\"--\")\n",
    "plt.yscale(\"log\")\n",
    "plt.xlabel(r\"$n_{f} / 10$\")\n",
    "plt.ylabel(\"Cost\")\n",
    "plt.legend()"
   ]
  },
  {
   "cell_type": "markdown",
   "id": "7120d58c-4765-40a3-874e-b241d5106cd6",
   "metadata": {},
   "source": [
    "## Now actually do the real thing"
   ]
  },
  {
   "cell_type": "code",
   "execution_count": 17,
   "id": "657b3946-5b67-403c-a140-f92747943a77",
   "metadata": {
    "collapsed": true,
    "jupyter": {
     "outputs_hidden": true
    },
    "tags": []
   },
   "outputs": [
    {
     "name": "stdout",
     "output_type": "stream",
     "text": [
      "0.41443657819257584\n",
      "0.4142635413642273\n",
      "0.4141479607800411\n",
      "0.41442455246705356\n",
      "0.4148060352044549\n",
      "0.41462965789679473\n",
      "0.4145374606677905\n",
      "0.41446931488983085\n",
      "0.4145601759271105\n",
      "0.41457687832366896\n",
      "0.4144111905498067\n",
      "0.4145748740360822\n",
      "0.41429961854079433\n",
      "0.4143884752904867\n",
      "0.4389289725062937\n",
      "0.39195782480797803\n",
      "0.4058415249234548\n",
      "0.3922083607563591\n",
      "0.3941465068530339\n",
      "0.3953203512831811\n",
      "0.3915008472381314\n",
      "0.39157099730367806\n",
      "0.391203544579386\n",
      "0.39151220486779126\n",
      "0.39152757107262537\n",
      "0.39155897157815556\n",
      "0.39162978973956464\n",
      "0.3974609304261476\n",
      "0.428797966849632\n",
      "0.3914413867063822\n",
      "0.40122431441876016\n",
      "0.3904599538845914\n",
      "0.39042053622871276\n",
      "0.3904826691439114\n",
      "0.3904546091176926\n",
      "0.3903343518624698\n",
      "0.39028224038520665\n",
      "0.39057018970187896\n",
      "0.3903163132741865\n",
      "0.3904599538845914\n",
      "0.3903851271480083\n",
      "0.39041853194112575\n",
      "0.39044726006320674\n",
      "0.3903971528735306\n",
      "0.557621038557965\n",
      "4.362814378485308\n",
      "0.39027155085140897\n",
      "1.2950629375896285\n",
      "0.21410589546633885\n",
      "0.21439175334959892\n",
      "0.21553668011246496\n",
      "0.2478747070027325\n",
      "0.22289849317062393\n",
      "0.21563016527574863\n",
      "0.2150440278910959\n",
      "0.2144719802106556\n",
      "0.21447240072689677\n",
      "0.21531047076637977\n",
      "2.05477396709584\n",
      "1.481623637594958\n",
      "0.2161079826891652\n",
      "0.07254685103488634\n",
      "0.3720463523886659\n",
      "0.03362203692301691\n",
      "0.03001795149785802\n",
      "0.05708598525785136\n",
      "0.03987886673373753\n",
      "0.035847778589255475\n",
      "0.03397817178570106\n",
      "0.03719540006660904\n",
      "1.642858947128346\n",
      "0.03706050506775305\n",
      "0.034907686559420226\n",
      "0.034907686559420226\n",
      "0.03449047367020852\n",
      "0.037093882098889974\n",
      "0.03639296444501405\n",
      "0.03786155381503975\n",
      "0.037093882098889974\n",
      "0.037711357174923466\n",
      "0.03869597959346316\n",
      "0.036125948195918633\n",
      "0.3370031953798842\n",
      "0.8119583484585716\n",
      "0.037577849050375756\n",
      "0.18744071885524627\n",
      "0.08021700632781914\n",
      "0.040398208181447126\n",
      "0.06536422747187998\n",
      "0.039647224980865925\n",
      "0.03691030842763676\n",
      "0.0377781112371971\n",
      "0.03625945632046634\n",
      "0.03527483390192665\n",
      "0.04119925692873361\n",
      "0.039563782403023495\n",
      "0.03983079865211914\n",
      "0.03831214373538838\n",
      "0.03896299584255858\n",
      "0.3338156889063062\n",
      "0.8342375167424806\n",
      "0.04084879810179598\n",
      "0.19712005788495923\n",
      "0.07714631946322048\n",
      "0.03677680030308905\n",
      "0.03694368545877369\n",
      "0.04432000934003777\n",
      "0.04133276505328154\n",
      "0.05124574330095344\n",
      "0.05339856180928604\n",
      "0.062243475060575815\n",
      "0.05757069070140397\n",
      "0.038495717406641594\n",
      "0.9604550354480628\n",
      "2.7802923352390025\n",
      "0.041566404271240254\n",
      "0.46821807685153316\n",
      "0.16103935664125002\n",
      "0.03654937150197646\n",
      "0.03676020433648475\n",
      "0.03994658350650182\n",
      "0.04019691303122319\n",
      "0.04376404695126723\n",
      "0.0332061594789308\n",
      "0.038312959297606364\n",
      "0.03699763865169192\n",
      "0.0375491954318643\n",
      "0.03827781737115843\n",
      "0.03644726089447303\n",
      "0.039287261957292596\n",
      "0.03757995024382277\n",
      "1.0395902814613716\n",
      "2.6430829711656036\n",
      "0.035626438953574535\n",
      "0.4143115411570386\n",
      "0.18323685368267828\n",
      "0.03416590541621911\n",
      "0.08728979355435018\n",
      "0.046738299089043256\n",
      "0.040592579938572904\n",
      "0.03637294365910293\n",
      "0.035821298579531646\n",
      "0.0373074298494398\n",
      "0.03456603978080808\n",
      "0.03869234811265887\n",
      "0.03796139886714078\n",
      "0.040477083470154884\n",
      "0.0438205815192223\n",
      "0.044498639271157714\n",
      "0.04213993089907264\n",
      "0.04257394401763781\n",
      "0.040406623438993705\n"
     ]
    },
    {
     "data": {
      "text/plain": [
       "<matplotlib.legend.Legend at 0x7fe18829f640>"
      ]
     },
     "execution_count": 17,
     "metadata": {},
     "output_type": "execute_result"
    },
    {
     "data": {
      "image/png": "[encoded data removed]",
      "text/plain": [
       "<Figure size 432x288 with 1 Axes>"
      ]
     },
     "metadata": {
      "needs_background": "light"
     },
     "output_type": "display_data"
    }
   ],
   "source": [
    "R = 2\n",
    "ansatz = FlexibleAnsatz(n)\n",
    "ansatz.insert_arb1q(0)\n",
    "an_np = ansatz.get_num_parameters()\n",
    "scl = []\n",
    "ecl = []\n",
    "on_hardware = True\n",
    "\n",
    "def cost(params):\n",
    "    pvec = params[0:an_np]\n",
    "    prob_vec = params[an_np:]\n",
    "    c = compute_msl_shot_and_ideal_cost(pvec, ansatz, prob_vec, rho_prep_circ,\n",
    "                                        rho, rp, rho_qubits, n, backend,\n",
    "                                        on_hardware, scl, ecl)[0]\n",
    "    print(c)\n",
    "    \n",
    "    return c\n",
    "\n",
    "a0 = list(np.random.normal(size=an_np) % (2 * np.pi))\n",
    "p0 = list(qstate.utils.generate_random_prob_vec(R))\n",
    "x0 = a0 + p0\n",
    "result = scipy.optimize.minimize(cost, x0, method=\"Powell\")\n",
    "\n",
    "plt.plot(get_rolling_mins(scl), label=\"shot cost\")\n",
    "plt.plot(get_rolling_mins(ecl), label=\"exact cost\")\n",
    "#plt.axhline(compute_optimal_DHS(rho, R), 0, 10, label=\"ideal\", color=\"g\", linestyle=\"--\")\n",
    "plt.yscale(\"log\")\n",
    "plt.xlabel(r\"$n_{f} / 10$\")\n",
    "plt.ylabel(\"Cost\")\n",
    "plt.legend()"
   ]
  },
  {
   "cell_type": "code",
   "execution_count": 37,
   "id": "397b8758-da3b-45f0-abe4-9e94c77608ba",
   "metadata": {},
   "outputs": [],
   "source": [
    "ucirc, _ = make_sigma_ansatz_circuits(result.x[0:an_np], ansatz, rho_qubits, backend, n)\n",
    "ansatz.update_parameters(result.x[0:an_np])\n",
    "sigma = compute_sigma(result.x[an_np:], ansatz, n)\n",
    "\n",
    "data_dict = {}\n",
    "data_dict[\"backend\"] = backend\n",
    "data_dict[\"backend_name\"] = backend.backend.name()\n",
    "data_dict[\"rho\"] = rho\n",
    "data_dict[\"rho_circ\"] = rho_prep_circ\n",
    "data_dict[\"sigma\"] = sigma\n",
    "data_dict[\"final_cost\"] = np.real(rho.purity() + sigma.purity() - 2 * np.trace(np.matmul(rho, sigma)))\n",
    "data_dict[\"sigma_ansatz\"] = ansatz\n",
    "data_dict[\"shot_costs\"] = scl\n",
    "data_dict[\"exact_costs\"] = ecl\n",
    "data_dict[\"plot_offset\"] = 0\n",
    "data_dict[\"window\"] = 10\n",
    "data_dict[\"data\"] = \"10 June 2022\"\n",
    "data_dict[\"optimal_cost\"] = compute_optimal_DHS(rho, R)\n",
    "\n",
    "fname = f\"pickled_runs/bogota_1q_hadamard_prep_run_rank{R}_approx.pkl\"\n",
    "with open(fname, 'wb') as f:\n",
    "    pickle.dump(data_dict, f)"
   ]
  },
  {
   "cell_type": "code",
   "execution_count": 41,
   "id": "a94040b1-944e-408e-911c-a39e5cab931a",
   "metadata": {},
   "outputs": [
    {
     "data": {
      "image/png": "[encoded data removed]",
      "text/plain": [
       "<Figure size 432x288 with 1 Axes>"
      ]
     },
     "metadata": {
      "needs_background": "light"
     },
     "output_type": "display_data"
    }
   ],
   "source": [
    "plt.plot(data_dict[\"shot_costs\"])\n",
    "plt.plot(data_dict[\"exact_costs\"])\n",
    "plt.yscale(\"log\")"
   ]
  },
  {
   "cell_type": "code",
   "execution_count": 24,
   "id": "ef11092b-f3d2-48dc-9a17-735edafa96e9",
   "metadata": {},
   "outputs": [
    {
     "data": {
      "text/plain": [
       "(0.014411995648173415+0j)"
      ]
     },
     "execution_count": 24,
     "metadata": {},
     "output_type": "execute_result"
    }
   ],
   "source": [
    "rho.purity() + sigma.purity() - 2 * np.trace(np.matmul(rho, sigma))"
   ]
  },
  {
   "cell_type": "code",
   "execution_count": 669,
   "id": "fc8f3b81-fc0c-4707-b143-14378b066b24",
   "metadata": {},
   "outputs": [],
   "source": [
    "#with open(fname, 'rb') as f:\n",
    "#    blah = pickle.load(f)\n",
    "\n",
    "fname = \"csv_runs/belem_1q_hadamard_prep_run.csv\"\n",
    "with open(fname, 'w') as f:\n",
    "    for j in range(len(exact_cost)):\n",
    "        if j == 0:\n",
    "            line = f\"{shot_cost[j]},{exact_cost[j]}\"\n",
    "        else:\n",
    "            line = f\"\\n{shot_cost[j]},{exact_cost[j]}\"\n",
    "        f.write(line)"
   ]
  },
  {
   "cell_type": "code",
   "execution_count": 1,
   "id": "587f3ca6-81c1-4fac-88d6-f400a4260c39",
   "metadata": {},
   "outputs": [],
   "source": [
    "x = 2"
   ]
  },
  {
   "cell_type": "code",
   "execution_count": null,
   "id": "acc54d4d-9e93-42c2-a30b-490a0629c568",
   "metadata": {},
   "outputs": [],
   "source": []
  }
 ],
 "metadata": {
  "kernelspec": {
   "display_name": "Python 3 (ipykernel)",
   "language": "python",
   "name": "python3"
  },
  "language_info": {
   "codemirror_mode": {
    "name": "ipython",
    "version": 3
   },
   "file_extension": ".py",
   "mimetype": "text/x-python",
   "name": "python",
   "nbconvert_exporter": "python",
   "pygments_lexer": "ipython3",
   "version": "3.10.4"
  }
 },
 "nbformat": 4,
 "nbformat_minor": 5
}
