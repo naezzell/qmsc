{
 "cells": [
  {
   "cell_type": "code",
   "execution_count": 1,
   "id": "6af2eea9-6ef7-44da-9b39-d1be505b3a3b",
   "metadata": {},
   "outputs": [
    {
     "name": "stderr",
     "output_type": "stream",
     "text": [
      "/var/folders/2w/_70fq7w11c36fkhz8pnqp8gw0000gp/T/ipykernel_10564/667825247.py:10: DeprecationWarning: The qiskit.ignis package is deprecated and has been supersceded by the qiskit-experiments project. Refer to the migration guide: https://github.com/Qiskit/qiskit-ignis#migration-guide on how to migrate to the new project.\n",
      "  from qiskit.ignis.verification.tomography import state_tomography_circuits, StateTomographyFitter\n"
     ]
    }
   ],
   "source": [
    "import itertools\n",
    "import sys\n",
    "import copy\n",
    "import time\n",
    "import numpy as np\n",
    "import scipy\n",
    "import qiskit\n",
    "from qiskit import transpile\n",
    "from qiskit import QuantumRegister, ClassicalRegister, Aer, transpile\n",
    "from qiskit.ignis.verification.tomography import state_tomography_circuits, StateTomographyFitter\n",
    "import h5py\n",
    "import vcg\n",
    "import vcg.qstate as qstate\n",
    "import vcg.circuit as vcgc\n",
    "from vcg.circuit import VcgCirc, AnsatzCirc\n",
    "from vcg.cost import Cost\n",
    "from vcg.ansatz import FlexibleAnsatz\n",
    "from vcg.backend import IBMQBackend\n",
    "import noisyopt\n",
    "import qutip\n",
    "import matplotlib.pyplot as plt\n",
    "import matplotlib\n",
    "import pickle"
   ]
  },
  {
   "cell_type": "code",
   "execution_count": 2,
   "id": "2b2a64aa-9ed6-4c44-9e3b-92ac283fb1d6",
   "metadata": {},
   "outputs": [],
   "source": [
    "matplotlib.style.use(\"../style.mplstyle\")"
   ]
  },
  {
   "cell_type": "markdown",
   "id": "50984813-4d10-4f5e-a3b0-5d4e30e24a05",
   "metadata": {},
   "source": [
    "# Init various problem paramters and load Backend"
   ]
  },
  {
   "cell_type": "code",
   "execution_count": 7,
   "id": "feb5715b-0c54-4587-a49e-3746bb77a86c",
   "metadata": {},
   "outputs": [
    {
     "name": "stderr",
     "output_type": "stream",
     "text": [
      "ibmqfactory.load_account:WARNING:2022-05-03 11:51:47,959: Credentials are already in use. The existing account in the session will be replaced.\n"
     ]
    },
    {
     "name": "stdout",
     "output_type": "stream",
     "text": [
      "IBM Backend ibmq_belem loaded at date/time: 2022-05-03 11:51:51\n"
     ]
    }
   ],
   "source": [
    "backend = IBMQBackend('ibmq_belem', \"Nic\")"
   ]
  },
  {
   "cell_type": "code",
   "execution_count": 149,
   "id": "257fa4c0-64b4-446b-b9aa-f117ba1bc528",
   "metadata": {},
   "outputs": [],
   "source": [
    "b_qubits = [q for q in range(backend.get_number_qubits())]\n",
    "rho_qubits = [1]\n",
    "n = len(rho_qubits)\n",
    "trace_out = [q for q in b_qubits if q not in rho_qubits]"
   ]
  },
  {
   "cell_type": "markdown",
   "id": "739b2fef-69c1-437d-8def-cc3e4aa809dd",
   "metadata": {},
   "source": [
    "# Functions to create cost evaluation circuits"
   ]
  },
  {
   "cell_type": "code",
   "execution_count": 150,
   "id": "58e0f10d-0f26-4361-b00a-ce4b105ed6a6",
   "metadata": {},
   "outputs": [
    {
     "data": {
      "text/html": [
       "<pre style=\"word-wrap: normal;white-space: pre;background: #fff0;line-height: 1.1;font-family: &quot;Courier New&quot;,Courier,monospace\">           ░       ░       ░       ░       ░       ░       ░       ░       ░ »\n",
       "q_0: ──────░───────░───────░───────░───────░───────░───────░───────░───────░─»\n",
       "     ┌───┐ ░ ┌───┐ ░ ┌───┐ ░ ┌───┐ ░ ┌───┐ ░ ┌───┐ ░ ┌───┐ ░ ┌───┐ ░ ┌───┐ ░ »\n",
       "q_1: ┤ H ├─░─┤ I ├─░─┤ I ├─░─┤ I ├─░─┤ I ├─░─┤ I ├─░─┤ I ├─░─┤ I ├─░─┤ I ├─░─»\n",
       "     └───┘ ░ └───┘ ░ └───┘ ░ └───┘ ░ └───┘ ░ └───┘ ░ └───┘ ░ └───┘ ░ └───┘ ░ »\n",
       "q_2: ──────░───────░───────░───────░───────░───────░───────░───────░───────░─»\n",
       "           ░       ░       ░       ░       ░       ░       ░       ░       ░ »\n",
       "q_3: ──────░───────░───────░───────░───────░───────░───────░───────░───────░─»\n",
       "           ░       ░       ░       ░       ░       ░       ░       ░       ░ »\n",
       "q_4: ──────░───────░───────░───────░───────░───────░───────░───────░───────░─»\n",
       "           ░       ░       ░       ░       ░       ░       ░       ░       ░ »\n",
       "q_5: ──────░───────░───────░───────░───────░───────░───────░───────░───────░─»\n",
       "           ░       ░       ░       ░       ░       ░       ░       ░       ░ »\n",
       "q_6: ──────░───────░───────░───────░───────░───────░───────░───────░───────░─»\n",
       "           ░       ░       ░       ░       ░       ░       ░       ░       ░ »\n",
       "«           ░       ░       ░       ░       ░       ░       ░       ░       ░ »\n",
       "«q_0: ──────░───────░───────░───────░───────░───────░───────░───────░───────░─»\n",
       "«     ┌───┐ ░ ┌───┐ ░ ┌───┐ ░ ┌───┐ ░ ┌───┐ ░ ┌───┐ ░ ┌───┐ ░ ┌───┐ ░ ┌───┐ ░ »\n",
       "«q_1: ┤ I ├─░─┤ I ├─░─┤ I ├─░─┤ I ├─░─┤ I ├─░─┤ I ├─░─┤ I ├─░─┤ I ├─░─┤ I ├─░─»\n",
       "«     └───┘ ░ └───┘ ░ └───┘ ░ └───┘ ░ └───┘ ░ └───┘ ░ └───┘ ░ └───┘ ░ └───┘ ░ »\n",
       "«q_2: ──────░───────░───────░───────░───────░───────░───────░───────░───────░─»\n",
       "«           ░       ░       ░       ░       ░       ░       ░       ░       ░ »\n",
       "«q_3: ──────░───────░───────░───────░───────░───────░───────░───────░───────░─»\n",
       "«           ░       ░       ░       ░       ░       ░       ░       ░       ░ »\n",
       "«q_4: ──────░───────░───────░───────░───────░───────░───────░───────░───────░─»\n",
       "«           ░       ░       ░       ░       ░       ░       ░       ░       ░ »\n",
       "«q_5: ──────░───────░───────░───────░───────░───────░───────░───────░───────░─»\n",
       "«           ░       ░       ░       ░       ░       ░       ░       ░       ░ »\n",
       "«q_6: ──────░───────░───────░───────░───────░───────░───────░───────░───────░─»\n",
       "«           ░       ░       ░       ░       ░       ░       ░       ░       ░ »\n",
       "«           ░       ░       ░ \n",
       "«q_0: ──────░───────░───────░─\n",
       "«     ┌───┐ ░ ┌───┐ ░ ┌───┐ ░ \n",
       "«q_1: ┤ I ├─░─┤ I ├─░─┤ I ├─░─\n",
       "«     └───┘ ░ └───┘ ░ └───┘ ░ \n",
       "«q_2: ──────░───────░───────░─\n",
       "«           ░       ░       ░ \n",
       "«q_3: ──────░───────░───────░─\n",
       "«           ░       ░       ░ \n",
       "«q_4: ──────░───────░───────░─\n",
       "«           ░       ░       ░ \n",
       "«q_5: ──────░───────░───────░─\n",
       "«           ░       ░       ░ \n",
       "«q_6: ──────░───────░───────░─\n",
       "«           ░       ░       ░ </pre>"
      ],
      "text/plain": [
       "           ░       ░       ░       ░       ░       ░       ░       ░       ░ »\n",
       "q_0: ──────░───────░───────░───────░───────░───────░───────░───────░───────░─»\n",
       "     ┌───┐ ░ ┌───┐ ░ ┌───┐ ░ ┌───┐ ░ ┌───┐ ░ ┌───┐ ░ ┌───┐ ░ ┌───┐ ░ ┌───┐ ░ »\n",
       "q_1: ┤ H ├─░─┤ I ├─░─┤ I ├─░─┤ I ├─░─┤ I ├─░─┤ I ├─░─┤ I ├─░─┤ I ├─░─┤ I ├─░─»\n",
       "     └───┘ ░ └───┘ ░ └───┘ ░ └───┘ ░ └───┘ ░ └───┘ ░ └───┘ ░ └───┘ ░ └───┘ ░ »\n",
       "q_2: ──────░───────░───────░───────░───────░───────░───────░───────░───────░─»\n",
       "           ░       ░       ░       ░       ░       ░       ░       ░       ░ »\n",
       "q_3: ──────░───────░───────░───────░───────░───────░───────░───────░───────░─»\n",
       "           ░       ░       ░       ░       ░       ░       ░       ░       ░ »\n",
       "q_4: ──────░───────░───────░───────░───────░───────░───────░───────░───────░─»\n",
       "           ░       ░       ░       ░       ░       ░       ░       ░       ░ »\n",
       "q_5: ──────░───────░───────░───────░───────░───────░───────░───────░───────░─»\n",
       "           ░       ░       ░       ░       ░       ░       ░       ░       ░ »\n",
       "q_6: ──────░───────░───────░───────░───────░───────░───────░───────░───────░─»\n",
       "           ░       ░       ░       ░       ░       ░       ░       ░       ░ »\n",
       "«           ░       ░       ░       ░       ░       ░       ░       ░       ░ »\n",
       "«q_0: ──────░───────░───────░───────░───────░───────░───────░───────░───────░─»\n",
       "«     ┌───┐ ░ ┌───┐ ░ ┌───┐ ░ ┌───┐ ░ ┌───┐ ░ ┌───┐ ░ ┌───┐ ░ ┌───┐ ░ ┌───┐ ░ »\n",
       "«q_1: ┤ I ├─░─┤ I ├─░─┤ I ├─░─┤ I ├─░─┤ I ├─░─┤ I ├─░─┤ I ├─░─┤ I ├─░─┤ I ├─░─»\n",
       "«     └───┘ ░ └───┘ ░ └───┘ ░ └───┘ ░ └───┘ ░ └───┘ ░ └───┘ ░ └───┘ ░ └───┘ ░ »\n",
       "«q_2: ──────░───────░───────░───────░───────░───────░───────░───────░───────░─»\n",
       "«           ░       ░       ░       ░       ░       ░       ░       ░       ░ »\n",
       "«q_3: ──────░───────░───────░───────░───────░───────░───────░───────░───────░─»\n",
       "«           ░       ░       ░       ░       ░       ░       ░       ░       ░ »\n",
       "«q_4: ──────░───────░───────░───────░───────░───────░───────░───────░───────░─»\n",
       "«           ░       ░       ░       ░       ░       ░       ░       ░       ░ »\n",
       "«q_5: ──────░───────░───────░───────░───────░───────░───────░───────░───────░─»\n",
       "«           ░       ░       ░       ░       ░       ░       ░       ░       ░ »\n",
       "«q_6: ──────░───────░───────░───────░───────░───────░───────░───────░───────░─»\n",
       "«           ░       ░       ░       ░       ░       ░       ░       ░       ░ »\n",
       "«           ░       ░       ░ \n",
       "«q_0: ──────░───────░───────░─\n",
       "«     ┌───┐ ░ ┌───┐ ░ ┌───┐ ░ \n",
       "«q_1: ┤ I ├─░─┤ I ├─░─┤ I ├─░─\n",
       "«     └───┘ ░ └───┘ ░ └───┘ ░ \n",
       "«q_2: ──────░───────░───────░─\n",
       "«           ░       ░       ░ \n",
       "«q_3: ──────░───────░───────░─\n",
       "«           ░       ░       ░ \n",
       "«q_4: ──────░───────░───────░─\n",
       "«           ░       ░       ░ \n",
       "«q_5: ──────░───────░───────░─\n",
       "«           ░       ░       ░ \n",
       "«q_6: ──────░───────░───────░─\n",
       "«           ░       ░       ░ "
      ]
     },
     "execution_count": 150,
     "metadata": {},
     "output_type": "execute_result"
    }
   ],
   "source": [
    "def make_hadamard_rho_circ(h_qubit, num_ids, device):\n",
    "    \"\"\"\n",
    "    Applies hadamard to [h_qubit] followed by [num_ids]\n",
    "    identities.\n",
    "    Transpiles circuit to native gates on [device].\n",
    "    \"\"\"\n",
    "    n_device = device.get_number_qubits()\n",
    "    qubits = list(range(n_device))\n",
    "    circ = AnsatzCirc(n_device)\n",
    "    circ.h(h_qubit)\n",
    "    circ.barrier(qubits)\n",
    "    for _ in range(num_ids):\n",
    "        circ.id(h_qubit)\n",
    "        circ.barrier(qubits)\n",
    "    \n",
    "    #t_circ = transpile(circ, device.backend, optimization_level=0)\n",
    "    \n",
    "    return circ\n",
    "\n",
    "rho_prep_circ = make_hadamard_rho_circ(rho_qubits, 20, backend)\n",
    "rho_prep_circ.draw()"
   ]
  },
  {
   "cell_type": "code",
   "execution_count": 151,
   "id": "8dcc95b4-66f1-4226-8204-a1b1c3ac5c9b",
   "metadata": {},
   "outputs": [
    {
     "data": {
      "text/plain": [
       "1.0"
      ]
     },
     "execution_count": 151,
     "metadata": {},
     "output_type": "execute_result"
    }
   ],
   "source": [
    "# generate \\sigma from this\n",
    "# copying necessary to not add 'get_statevector' tag to circuit in place\n",
    "circ = copy.deepcopy(rho_prep_circ)\n",
    "phi = circ.get_statevector()\n",
    "rho = qiskit.quantum_info.partial_trace(phi, trace_out)\n",
    "rp = np.real(rho.purity())\n",
    "rp"
   ]
  },
  {
   "cell_type": "code",
   "execution_count": 152,
   "id": "7cbb68ef-23c2-4e02-8990-960064a02ea6",
   "metadata": {},
   "outputs": [
    {
     "name": "stdout",
     "output_type": "stream",
     "text": [
      "DensityMatrix([[0.5+0.j, 0.5+0.j],\n",
      "               [0.5+0.j, 0.5+0.j]],\n",
      "              dims=(2,))\n"
     ]
    }
   ],
   "source": [
    "rho"
   ]
  },
  {
   "cell_type": "code",
   "execution_count": 153,
   "id": "eea45724-e237-41eb-8ca4-5b6f90f61b22",
   "metadata": {},
   "outputs": [
    {
     "data": {
      "text/plain": [
       "True"
      ]
     },
     "execution_count": 153,
     "metadata": {},
     "output_type": "execute_result"
    }
   ],
   "source": [
    "def make_sigma_ansatz_circuits(pvec, ansatz, rho_qubits, device, n):\n",
    "    \"\"\"\n",
    "    Creates circuit.\n",
    "    \"\"\"\n",
    "    # build the ansatz circuit on [n] qubits\n",
    "    ansatz.update_parameters(pvec)\n",
    "    ansatz_circ = ansatz.build_circ(n)\n",
    "    \n",
    "    # build circuit for [device]\n",
    "    n_device = device.get_number_qubits()\n",
    "    qubits = list(range(n_device))\n",
    "    u_circ = AnsatzCirc(n_device)\n",
    "    udg_circ = AnsatzCirc(n_device)\n",
    "    \n",
    "    # compose u_circ across [u_qubits] then transpile\n",
    "    u_circ.compose(ansatz_circ, rho_qubits, inplace=True)\n",
    "    udg_circ.compose(u_circ.inverse(), qubits, inplace=True)\n",
    "    \n",
    "    return u_circ, udg_circ\n",
    "\n",
    "# test that u is generated properly\n",
    "ansatz = FlexibleAnsatz(n)\n",
    "ansatz.insert_arb1q(0)\n",
    "pvec = np.random.random(3)\n",
    "u_circ, udg_circ = make_sigma_ansatz_circuits(pvec, ansatz, [1], backend, n)\n",
    "circ = ansatz.build_circ(n)\n",
    "u = circ.get_unitary(True)\n",
    "udg = u.adjoint()\n",
    "check_id = np.isclose(np.matmul(u, udg), np.identity(2**n)).all()\n",
    "check_id"
   ]
  },
  {
   "cell_type": "code",
   "execution_count": 154,
   "id": "925f0fa5-e85b-4186-a726-9c64fa7e3a7f",
   "metadata": {},
   "outputs": [
    {
     "name": "stdout",
     "output_type": "stream",
     "text": [
      "DensityMatrix([[0.78980906+0.j        , 0.20801092-0.28964657j],\n",
      "               [0.20801092+0.28964657j, 0.21019094+0.j        ]],\n",
      "              dims=(2,))\n"
     ]
    }
   ],
   "source": [
    "# generate \\sigma from this\n",
    "p0 = np.random.uniform()\n",
    "p1 = 1 - p0\n",
    "prob_vec = [p0, p1]\n",
    "def compute_sigma(prob_vec, u, n):\n",
    "    \"\"\"\n",
    "    Computes sigma for verification/debugging\n",
    "    purposes.\n",
    "    \"\"\"\n",
    "    sigma = qiskit.quantum_info.Operator(np.zeros((2**n, 2**n)))\n",
    "    for j, p in enumerate(prob_vec):\n",
    "        phi = np.zeros(2**n)\n",
    "        phi[j] = 1\n",
    "        phi = np.matmul(u, phi)\n",
    "        phiphi = qiskit.quantum_info.DensityMatrix(phi)\n",
    "        sigma += p * phiphi\n",
    "        \n",
    "    return qiskit.quantum_info.DensityMatrix(sigma)\n",
    "\n",
    "sigma = compute_sigma(prob_vec, u, n)\n",
    "sigma"
   ]
  },
  {
   "cell_type": "code",
   "execution_count": 155,
   "id": "e6a909d4-0f98-4b79-89e7-6ddced24bf7d",
   "metadata": {},
   "outputs": [],
   "source": [
    "def make_ccps_cross_circ(rho_prep_circ, udg_circ, rho_qubits, device):\n",
    "    \"\"\"\n",
    "    Create circuits of the form\n",
    "    \"\"\"\n",
    "    # generate circuit and append rho preparation\n",
    "    n_device = device.get_number_qubits()\n",
    "    circ = AnsatzCirc(n_device, len(rho_qubits))\n",
    "    circ.compose(rho_prep_circ, inplace = True)\n",
    "        \n",
    "    # apply Udg circuit\n",
    "    circ.compose(udg_circ, inplace = True)\n",
    "    \n",
    "    # apply measurements\n",
    "    for idx, q in enumerate(rho_qubits):\n",
    "        circ.measure(q, idx)\n",
    "        \n",
    "    return circ"
   ]
  },
  {
   "cell_type": "code",
   "execution_count": 156,
   "id": "c64db1f2-0e90-4d59-9cd8-919acdc69814",
   "metadata": {},
   "outputs": [
    {
     "name": "stdout",
     "output_type": "stream",
     "text": [
      "ideal overlap: 0.7080109178701322\n",
      "100000 shot overlap: 0.708214913320601\n"
     ]
    }
   ],
   "source": [
    "ideal_overlap = np.real(np.trace(np.matmul(sigma, rho)))\n",
    "print(f\"ideal overlap: {ideal_overlap}\")\n",
    "\n",
    "cross_circ = make_ccps_cross_circ(rho_prep_circ, udg_circ, rho_qubits, backend)\n",
    "\n",
    "def compute_cross_shot_cost(cross_circ, prob_vec, m_qubits, shots):\n",
    "    \"\"\"\n",
    "    Computes shot cost.\n",
    "    \"\"\"\n",
    "    psi = cross_circ.get_statevector()\n",
    "    counts = psi.sample_counts(shots, m_qubits)\n",
    "    overlap = 0.0\n",
    "    basis_states = list(map(list, itertools.product(['0', '1'], repeat=n)))[0:len(prob_vec)]\n",
    "    for i, bs in enumerate(basis_states):\n",
    "        bin_str = ''.join(bs)\n",
    "        q = counts.get(bin_str) / shots\n",
    "        if q is not None:\n",
    "            overlap += (prob_vec[i] * q)\n",
    "            \n",
    "    return overlap\n",
    "\n",
    "shots = int(1e5)\n",
    "shot_overlap = compute_cross_shot_cost(cross_circ, prob_vec, rho_qubits, shots)\n",
    "\n",
    "print(f\"{shots} shot overlap: {shot_overlap}\")"
   ]
  },
  {
   "cell_type": "code",
   "execution_count": 157,
   "id": "f2fbebdf-fd95-4755-a550-b0b7e2727400",
   "metadata": {},
   "outputs": [],
   "source": [
    "def make_rho_purity_tomography_experiment(rho_prep_circ, rho_qubits, device):\n",
    "    \"\"\"\n",
    "    Creates the circuit we want to make...\n",
    "    \"\"\"\n",
    "    # generate circuit and append sigma preparation\n",
    "    qr = QuantumRegister(device.get_number_qubits())\n",
    "    circ = AnsatzCirc(qr)\n",
    "    circ.compose(rho_prep_circ, inplace = True)\n",
    "        \n",
    "    # transpile all\n",
    "    sig_register = [qr[q] for q in  rho_qubits]\n",
    "    tomography_circs = state_tomography_circuits(circ, sig_register)\n",
    "    t_circs = []\n",
    "    for circ in tomography_circs:\n",
    "        tc = transpile(circ, device.backend, optimization_level=0)\n",
    "        t_circs.append(tc)\n",
    "        \n",
    "    return t_circs\n",
    "\n",
    "rp_circs = make_rho_purity_tomography_experiment(rho_prep_circ, rho_qubits, backend)"
   ]
  },
  {
   "cell_type": "code",
   "execution_count": 160,
   "id": "8ae95116-fdb8-4e9e-b6fa-a2692cb0434f",
   "metadata": {},
   "outputs": [],
   "source": [
    "def compute_msl_shot_and_ideal_cost(pvec, ansatz, prob_vec, rho_prep_circ, rho, rp, rho_qubits,\n",
    "                                    n, device, hardware=False, shot_list=None,\n",
    "                                    exact_list=None):\n",
    "    \"\"\"\n",
    "    Computes shot cost as well as exact cost from direct simulation.\n",
    "    \"\"\"\n",
    "    # ========================================\n",
    "    # build pre-requisite circuits\n",
    "    # ========================================\n",
    "    # U and Udg to prepare sigma\n",
    "    u_circ, udg_circ = make_sigma_ansatz_circuits(pvec, ansatz, rho_qubits, device, n)\n",
    "    # cross term circuit\n",
    "    cross_circ = make_ccps_cross_circ(rho_prep_circ, udg_circ, rho_qubits, device)\n",
    "    cross_t_circ = transpile(cross_circ, device.backend, optimization_level=0)\n",
    "    \n",
    "    # ========================================\n",
    "    # compute shot cost (across 10k shots)\n",
    "    # ========================================\n",
    "    shots = int(1e4)\n",
    "    gauges = 10\n",
    "    sp_value = sum([p**2 for p in prob_vec])\n",
    "    # compute via simualtor\n",
    "    if hardware == False:\n",
    "        # submit simulator job\n",
    "        cross_estimate = compute_cross_shot_cost(cross_circ, prob_vec, rho_qubits, shots * gauges)\n",
    "    # compute on device in real experiment\n",
    "    else:\n",
    "        # submit hardware job to [device]\n",
    "        print(\"before submission\")\n",
    "        circ_submissions = [cross_t_circ for _ in range(gauges)]\n",
    "        job = device.submit_job(circ_submissions, 'hardware', shots)\n",
    "        result = job.result()\n",
    "        count_list = result.get_counts()\n",
    "        print(count_list)\n",
    "        # compute cross cost term\n",
    "        q_vec = np.array([0 for j in range(len(prob_vec))])\n",
    "        basis_states = list(map(list, itertools.product(['0', '1'], repeat=n)))[0:len(prob_vec)]\n",
    "        for count_dict in count_list:\n",
    "            for i, bs in enumerate(basis_states):\n",
    "                bin_str = ''.join(bs)\n",
    "                q_vec[i] += counts.get(bin_str)\n",
    "        q_vec /= (shots * gauges)\n",
    "        cross_estimate = sum(np.array(p_vec) * q_vec)\n",
    "    \n",
    "    # evaluate total shot cost\n",
    "    print(f\"sp_shot_value: {sp_value}\")\n",
    "    print(f\"cross_shot_value: {cross_estimate}\")\n",
    "    shot_cost = rp + sp_value - 2 * cross_estimate\n",
    "        \n",
    "    if shot_list is not None:\n",
    "        shot_list.append(shot_cost)\n",
    "        \n",
    "    # ========================================\n",
    "    # compute idealzied cost from matrices\n",
    "    # ========================================\n",
    "    # compute statevector from rho prep circuit\n",
    "    circ = copy.deepcopy(u_circ)\n",
    "    psi = circ.get_statevector()\n",
    "    # compute sigma\n",
    "    sigma = compute_sigma(prob_vec, u, n)\n",
    "    # compute idealized cost\n",
    "    cross_term = np.real(np.trace(np.matmul(rho, sigma)))\n",
    "    sp = np.real(sigma.purity())\n",
    "    print(f\"sp_exact_value: {sp}\")\n",
    "    print(f\"cross_exact_value: {cross_term}\")\n",
    "    exact_cost = rp + sp - 2 * cross_term\n",
    "    \n",
    "    if exact_list is not None:\n",
    "        exact_list.append(exact_cost)\n",
    "        \n",
    "    if hardware == False:        \n",
    "        return shot_cost, exact_cost\n",
    "    else:\n",
    "        return shot_cost, exact_cost, job"
   ]
  },
  {
   "cell_type": "code",
   "execution_count": 161,
   "id": "e6ed31f1-737a-4b85-8be0-5986f5be57a7",
   "metadata": {
    "tags": []
   },
   "outputs": [
    {
     "name": "stdout",
     "output_type": "stream",
     "text": [
      "sp_shot_value: 0.9223059469830717\n",
      "cross_shot_value: 0.7076543064300398\n",
      "sp_exact_value: 0.922305946983072\n",
      "cross_exact_value: 0.7080109178701322\n",
      "0.5069973341229921 0.5062841112428078\n"
     ]
    }
   ],
   "source": [
    "list1 = []\n",
    "list2 = []\n",
    "shot_cost, exact_cost = compute_msl_shot_and_ideal_cost(pvec, ansatz, prob_vec, rho_prep_circ,\n",
    "                                                        rho, rp, rho_qubits, n, backend,\n",
    "                                                        False, list1, list2)\n",
    "print(shot_cost, exact_cost)"
   ]
  },
  {
   "cell_type": "code",
   "execution_count": 162,
   "id": "3405625f-371c-46ab-bd1a-5943c0c30be8",
   "metadata": {},
   "outputs": [
    {
     "name": "stdout",
     "output_type": "stream",
     "text": [
      "before submission\n",
      "[{'0': 7283, '1': 2717}, {'0': 7276, '1': 2724}, {'0': 7195, '1': 2805}, {'0': 7253, '1': 2747}, {'0': 7276, '1': 2724}, {'0': 7295, '1': 2705}, {'0': 7318, '1': 2682}, {'0': 7262, '1': 2738}, {'0': 7221, '1': 2779}, {'0': 7216, '1': 2784}]\n"
     ]
    },
    {
     "ename": "NameError",
     "evalue": "name 'counts' is not defined",
     "output_type": "error",
     "traceback": [
      "\u001b[0;31m---------------------------------------------------------------------------\u001b[0m",
      "\u001b[0;31mNameError\u001b[0m                                 Traceback (most recent call last)",
      "Input \u001b[0;32mIn [162]\u001b[0m, in \u001b[0;36m<module>\u001b[0;34m\u001b[0m\n\u001b[1;32m      1\u001b[0m list1 \u001b[38;5;241m=\u001b[39m []\n\u001b[1;32m      2\u001b[0m list2 \u001b[38;5;241m=\u001b[39m []\n\u001b[0;32m----> 3\u001b[0m shot_cost, exact_cost \u001b[38;5;241m=\u001b[39m \u001b[43mcompute_msl_shot_and_ideal_cost\u001b[49m\u001b[43m(\u001b[49m\u001b[43mpvec\u001b[49m\u001b[43m,\u001b[49m\u001b[43m \u001b[49m\u001b[43mansatz\u001b[49m\u001b[43m,\u001b[49m\u001b[43m \u001b[49m\u001b[43mprob_vec\u001b[49m\u001b[43m,\u001b[49m\u001b[43m \u001b[49m\u001b[43mrho_prep_circ\u001b[49m\u001b[43m,\u001b[49m\n\u001b[1;32m      4\u001b[0m \u001b[43m                                                        \u001b[49m\u001b[43mrho\u001b[49m\u001b[43m,\u001b[49m\u001b[43m \u001b[49m\u001b[43mrp\u001b[49m\u001b[43m,\u001b[49m\u001b[43m \u001b[49m\u001b[43mrho_qubits\u001b[49m\u001b[43m,\u001b[49m\u001b[43m \u001b[49m\u001b[43mn\u001b[49m\u001b[43m,\u001b[49m\u001b[43m \u001b[49m\u001b[43mbackend\u001b[49m\u001b[43m,\u001b[49m\n\u001b[1;32m      5\u001b[0m \u001b[43m                                                        \u001b[49m\u001b[38;5;28;43;01mTrue\u001b[39;49;00m\u001b[43m,\u001b[49m\u001b[43m \u001b[49m\u001b[43mlist1\u001b[49m\u001b[43m,\u001b[49m\u001b[43m \u001b[49m\u001b[43mlist2\u001b[49m\u001b[43m)\u001b[49m\n\u001b[1;32m      6\u001b[0m \u001b[38;5;28mprint\u001b[39m(shot_cost, exact_cost)\n",
      "Input \u001b[0;32mIn [160]\u001b[0m, in \u001b[0;36mcompute_msl_shot_and_ideal_cost\u001b[0;34m(pvec, ansatz, prob_vec, rho_prep_circ, rho, rp, rho_qubits, n, device, hardware, shot_list, exact_list)\u001b[0m\n\u001b[1;32m     39\u001b[0m     \u001b[38;5;28;01mfor\u001b[39;00m i, bs \u001b[38;5;129;01min\u001b[39;00m \u001b[38;5;28menumerate\u001b[39m(basis_states):\n\u001b[1;32m     40\u001b[0m         bin_str \u001b[38;5;241m=\u001b[39m \u001b[38;5;124m'\u001b[39m\u001b[38;5;124m'\u001b[39m\u001b[38;5;241m.\u001b[39mjoin(bs)\n\u001b[0;32m---> 41\u001b[0m         q_vec[i] \u001b[38;5;241m+\u001b[39m\u001b[38;5;241m=\u001b[39m \u001b[43mcounts\u001b[49m\u001b[38;5;241m.\u001b[39mget(bin_str)\n\u001b[1;32m     42\u001b[0m q_vec \u001b[38;5;241m/\u001b[39m\u001b[38;5;241m=\u001b[39m (shots \u001b[38;5;241m*\u001b[39m gauges)\n\u001b[1;32m     43\u001b[0m cross_estimate \u001b[38;5;241m=\u001b[39m \u001b[38;5;28msum\u001b[39m(np\u001b[38;5;241m.\u001b[39marray(p_vec) \u001b[38;5;241m*\u001b[39m q_vec)\n",
      "\u001b[0;31mNameError\u001b[0m: name 'counts' is not defined"
     ]
    }
   ],
   "source": [
    "list1 = []\n",
    "list2 = []\n",
    "shot_cost, exact_cost = compute_msl_shot_and_ideal_cost(pvec, ansatz, prob_vec, rho_prep_circ,\n",
    "                                                        rho, rp, rho_qubits, n, backend,\n",
    "                                                        True, list1, list2)\n",
    "print(shot_cost, exact_cost)"
   ]
  },
  {
   "cell_type": "markdown",
   "id": "0605720e-dd85-4178-9ea3-3e10b5e31278",
   "metadata": {},
   "source": [
    "## We need to perform tomography to find out rho in the first place actually..."
   ]
  },
  {
   "cell_type": "code",
   "execution_count": 144,
   "id": "0e6a0336-f706-43c0-8900-aa4818e86751",
   "metadata": {},
   "outputs": [],
   "source": [
    "def compute_rho_with_tomography(rho_prep_circ, u_qubits, n, device):\n",
    "    \"\"\"\n",
    "    \n",
    "    \"\"\"\n",
    "    # Generate tomography circuits\n",
    "    qr = QuantumRegister(device.get_number_qubits())\n",
    "    state_prep_circ = AnsatzCirc(qr)\n",
    "    state_prep_circ.compose(rho_prep_circ, inplace = True)\n",
    "    measure_qubits = [qr[q] for q in u_qubits[n:]]\n",
    "    tomography_circs = state_tomography_circuits(state_prep_circ, measure_qubits)\n",
    "    # transpile them\n",
    "    t_circs = []\n",
    "    for circ in tomography_circs:\n",
    "        tc = transpile(circ, device.backend, optimization_level=0)\n",
    "        t_circs.append(tc)\n",
    "    # perform state tomography to obtain \\sigma\n",
    "    job = backend.submit_job(t_circs)\n",
    "    result = job.result()\n",
    "    tomo_fitter = StateTomographyFitter(result, t_circs)\n",
    "    rho = tomo_fitter.fit(method='lstsq')\n",
    "    rho = qiskit.quantum_info.DensityMatrix(rho)\n",
    "    \n",
    "    return rho"
   ]
  },
  {
   "cell_type": "code",
   "execution_count": 589,
   "id": "e68d6702-abb5-455f-9a56-d172b48b3e31",
   "metadata": {},
   "outputs": [],
   "source": [
    "rho = compute_rho_with_tomography(rho_prep_circ, u_qubits, n, backend)"
   ]
  },
  {
   "cell_type": "code",
   "execution_count": 590,
   "id": "19537069-85de-4fea-9f2b-9c9149c4435c",
   "metadata": {},
   "outputs": [
    {
     "name": "stdout",
     "output_type": "stream",
     "text": [
      "DensityMatrix([[0.539+0.j    , 0.443+0.0509j],\n",
      "               [0.443-0.0509j, 0.461+0.j    ]],\n",
      "              dims=(2,))\n"
     ]
    }
   ],
   "source": [
    "rho"
   ]
  },
  {
   "cell_type": "code",
   "execution_count": 591,
   "id": "92e3d984-8905-4f2f-8a74-c6eac882b56b",
   "metadata": {},
   "outputs": [
    {
     "data": {
      "text/plain": [
       "0.9007216199999991"
      ]
     },
     "execution_count": 591,
     "metadata": {},
     "output_type": "execute_result"
    }
   ],
   "source": [
    "#sigma = qiskit.quantum_info.DensityMatrix(sigma)\n",
    "rp = np.real(rho.purity())\n",
    "rp"
   ]
  },
  {
   "cell_type": "markdown",
   "id": "0624c2d5-38d5-4193-9a5c-d880ee587777",
   "metadata": {},
   "source": [
    "# Perform the R = 2 optimization"
   ]
  },
  {
   "cell_type": "markdown",
   "id": "e5ff0bf1-c4a4-4b1b-8042-91388158353b",
   "metadata": {},
   "source": [
    "## With shots"
   ]
  },
  {
   "cell_type": "code",
   "execution_count": 577,
   "id": "adc635f7-c484-496c-b4d5-fa08bb331b00",
   "metadata": {},
   "outputs": [],
   "source": [
    "shot_cost = []\n",
    "exact_cost = []\n",
    "cost = lambda angles: compute_msl_shot_and_ideal_cost(angles, ansatz, rho_prep_circ, rho, rp, u_qubits, udg_qubits, \n",
    "                                                      ghz_qubits, n, nb, backend, False, shot_cost, exact_cost)\n",
    "x0 = np.random.normal(size=15) % (2 * np.pi)\n",
    "result = scipy.optimize.minimize(cost, x0, method=\"Powell\")"
   ]
  },
  {
   "cell_type": "code",
   "execution_count": 578,
   "id": "7d1ced64-4c09-4972-926b-046826297f00",
   "metadata": {},
   "outputs": [
    {
     "data": {
      "text/plain": [
       "<matplotlib.legend.Legend at 0x7fcc68db5520>"
      ]
     },
     "execution_count": 578,
     "metadata": {},
     "output_type": "execute_result"
    },
    {
     "data": {
      "image/png": "[encoded data removed]",
      "text/plain": [
       "<Figure size 432x288 with 1 Axes>"
      ]
     },
     "metadata": {
      "needs_background": "light"
     },
     "output_type": "display_data"
    }
   ],
   "source": [
    "plt.plot(get_rolling_mins(shot_cost) + 0.019, label=\"shot cost\")\n",
    "plt.plot(get_rolling_mins(exact_cost), label=\"exact cost\")\n",
    "plt.yscale(\"log\")\n",
    "plt.legend()"
   ]
  },
  {
   "cell_type": "code",
   "execution_count": 579,
   "id": "dfa4987c-a762-46b6-b155-9668ec97617b",
   "metadata": {},
   "outputs": [],
   "source": [
    "shot_cost = []\n",
    "exact_cost = []\n",
    "cost = lambda angles: compute_msl_shot_and_ideal_cost(angles, ansatz, rho_prep_circ, rho, rp, u_qubits, udg_qubits, \n",
    "                                                      ghz_qubits, n, nb, backend, False, shot_cost, exact_cost)\n",
    "x0 = np.random.normal(size=15) % (2 * np.pi)\n",
    "result = scipy.optimize.minimize(cost, x0, method=\"BFGS\")"
   ]
  },
  {
   "cell_type": "code",
   "execution_count": 580,
   "id": "44aa74f3-c43b-4843-9adf-601968770478",
   "metadata": {},
   "outputs": [
    {
     "data": {
      "text/plain": [
       "<matplotlib.legend.Legend at 0x7fcc695d5f40>"
      ]
     },
     "execution_count": 580,
     "metadata": {},
     "output_type": "execute_result"
    },
    {
     "data": {
      "image/png": "[encoded data removed]",
      "text/plain": [
       "<Figure size 432x288 with 1 Axes>"
      ]
     },
     "metadata": {
      "needs_background": "light"
     },
     "output_type": "display_data"
    }
   ],
   "source": [
    "plt.plot(get_rolling_mins(shot_cost) + 0.019, label=\"shot cost\")\n",
    "plt.plot(get_rolling_mins(exact_cost), label=\"exact cost\")\n",
    "plt.yscale(\"log\")\n",
    "plt.legend()"
   ]
  },
  {
   "cell_type": "code",
   "execution_count": 601,
   "id": "f56170af-04c2-4356-ad5c-7ba9ba61a654",
   "metadata": {},
   "outputs": [
    {
     "data": {
      "text/html": [
       "<pre style=\"word-wrap: normal;white-space: pre;background: #fff0;line-height: 1.1;font-family: &quot;Courier New&quot;,Courier,monospace\">     ┌──────────────┐┌─────────────┐┌────────────┐┌───┐┌────────────┐     »\n",
       "q_0: ┤ Rz(0.077136) ├┤ Ry(0.47166) ├┤ Rz(5.2989) ├┤ X ├┤ Rz(1.1469) ├──■──»\n",
       "     └┬────────────┬┘└┬───────────┬┘├────────────┤└─┬─┘├────────────┤┌─┴─┐»\n",
       "q_1: ─┤ Rz(5.1079) ├──┤ Ry(1.399) ├─┤ Rz(5.4566) ├──■──┤ Ry(5.1081) ├┤ X ├»\n",
       "      └────────────┘  └───────────┘ └────────────┘     └────────────┘└───┘»\n",
       "«                   ┌───┐┌─────────────┐┌─────────────┐┌─────────────┐\n",
       "«q_0: ──────────────┤ X ├┤ Rz(0.46384) ├┤ Ry(0.16362) ├┤ Rz(0.29216) ├\n",
       "«     ┌────────────┐└─┬─┘├─────────────┤└┬────────────┤└┬────────────┤\n",
       "«q_1: ┤ Ry(5.6571) ├──■──┤ Rz(0.67784) ├─┤ Ry(5.9855) ├─┤ Rz(6.0126) ├\n",
       "«     └────────────┘     └─────────────┘ └────────────┘ └────────────┘</pre>"
      ],
      "text/plain": [
       "     ┌──────────────┐┌─────────────┐┌────────────┐┌───┐┌────────────┐     »\n",
       "q_0: ┤ Rz(0.077136) ├┤ Ry(0.47166) ├┤ Rz(5.2989) ├┤ X ├┤ Rz(1.1469) ├──■──»\n",
       "     └┬────────────┬┘└┬───────────┬┘├────────────┤└─┬─┘├────────────┤┌─┴─┐»\n",
       "q_1: ─┤ Rz(5.1079) ├──┤ Ry(1.399) ├─┤ Rz(5.4566) ├──■──┤ Ry(5.1081) ├┤ X ├»\n",
       "      └────────────┘  └───────────┘ └────────────┘     └────────────┘└───┘»\n",
       "«                   ┌───┐┌─────────────┐┌─────────────┐┌─────────────┐\n",
       "«q_0: ──────────────┤ X ├┤ Rz(0.46384) ├┤ Ry(0.16362) ├┤ Rz(0.29216) ├\n",
       "«     ┌────────────┐└─┬─┘├─────────────┤└┬────────────┤└┬────────────┤\n",
       "«q_1: ┤ Ry(5.6571) ├──■──┤ Rz(0.67784) ├─┤ Ry(5.9855) ├─┤ Rz(6.0126) ├\n",
       "«     └────────────┘     └─────────────┘ └────────────┘ └────────────┘"
      ]
     },
     "execution_count": 601,
     "metadata": {},
     "output_type": "execute_result"
    }
   ],
   "source": [
    "ansatz = FlexibleAnsatz(n + nb, 'hef2d')\n",
    "ansatz.build_circ(2).draw()"
   ]
  },
  {
   "cell_type": "code",
   "execution_count": 602,
   "id": "5ba892f4-c217-494d-abbb-5f45b57a9a71",
   "metadata": {},
   "outputs": [],
   "source": [
    "shot_cost = []\n",
    "exact_cost = []\n",
    "cost = lambda angles: compute_msl_shot_and_ideal_cost(angles, ansatz, rho_prep_circ, rho, rp, u_qubits, udg_qubits, \n",
    "                                                      ghz_qubits, n, nb, backend, False, shot_cost, exact_cost)\n",
    "x0 = np.random.normal(size=15) % (2 * np.pi)\n",
    "result = scipy.optimize.minimize(cost, x0, method=\"Powell\")"
   ]
  },
  {
   "cell_type": "code",
   "execution_count": 603,
   "id": "b29b07b7-c649-4071-8797-b8c61729f4be",
   "metadata": {},
   "outputs": [
    {
     "data": {
      "text/plain": [
       "<matplotlib.legend.Legend at 0x7fccab819b20>"
      ]
     },
     "execution_count": 603,
     "metadata": {},
     "output_type": "execute_result"
    },
    {
     "data": {
      "image/png": "[encoded data removed]",
      "text/plain": [
       "<Figure size 432x288 with 1 Axes>"
      ]
     },
     "metadata": {
      "needs_background": "light"
     },
     "output_type": "display_data"
    }
   ],
   "source": [
    "plt.plot(get_rolling_mins(shot_cost) + 0.15, label=\"shot cost\")\n",
    "plt.plot(get_rolling_mins(exact_cost), label=\"exact cost\")\n",
    "plt.yscale(\"log\")\n",
    "plt.legend()"
   ]
  },
  {
   "cell_type": "code",
   "execution_count": 604,
   "id": "c0feddd7-5902-462e-b2cd-304b196e3798",
   "metadata": {},
   "outputs": [
    {
     "data": {
      "text/html": [
       "<pre style=\"word-wrap: normal;white-space: pre;background: #fff0;line-height: 1.1;font-family: &quot;Courier New&quot;,Courier,monospace\">     ┌───────┐     ┌───────┐\n",
       "q_0: ┤ Rx(0) ├──■──┤ Ry(0) ├\n",
       "     ├───────┤┌─┴─┐├───────┤\n",
       "q_1: ┤ Rx(0) ├┤ X ├┤ Ry(0) ├\n",
       "     └───────┘└───┘└───────┘</pre>"
      ],
      "text/plain": [
       "     ┌───────┐     ┌───────┐\n",
       "q_0: ┤ Rx(0) ├──■──┤ Ry(0) ├\n",
       "     ├───────┤┌─┴─┐├───────┤\n",
       "q_1: ┤ Rx(0) ├┤ X ├┤ Ry(0) ├\n",
       "     └───────┘└───┘└───────┘"
      ]
     },
     "execution_count": 604,
     "metadata": {},
     "output_type": "execute_result"
    }
   ],
   "source": [
    "ansatz = FlexibleAnsatz(n + nb)\n",
    "ansatz.insert_custom(('rx', [0], [0]))\n",
    "ansatz.insert_custom(('rx', [0], [1]))\n",
    "ansatz.insert_cnot(0, 1)\n",
    "ansatz.insert_custom(('ry', [0], [0]))\n",
    "ansatz.insert_custom(('ry', [0], [1]))\n",
    "ansatz.build_circ(2).draw()"
   ]
  },
  {
   "cell_type": "code",
   "execution_count": 605,
   "id": "cec34fc2-7c94-44a4-9c37-20dfe0e6cc58",
   "metadata": {},
   "outputs": [],
   "source": [
    "shot_cost = []\n",
    "exact_cost = []\n",
    "cost = lambda angles: compute_msl_shot_and_ideal_cost(angles, ansatz, rho_prep_circ, rho, rp, u_qubits, udg_qubits, \n",
    "                                                      ghz_qubits, n, nb, backend, False, shot_cost, exact_cost)\n",
    "x0 = np.random.normal(size=4) % (2 * np.pi)\n",
    "result = scipy.optimize.minimize(cost, x0, method=\"Powell\")"
   ]
  },
  {
   "cell_type": "code",
   "execution_count": 606,
   "id": "39f40ee2-738f-4d41-902e-43cc276dc2de",
   "metadata": {},
   "outputs": [
    {
     "data": {
      "text/plain": [
       "<matplotlib.legend.Legend at 0x7fcc80d959a0>"
      ]
     },
     "execution_count": 606,
     "metadata": {},
     "output_type": "execute_result"
    },
    {
     "data": {
      "image/png": "[encoded data removed]",
      "text/plain": [
       "<Figure size 432x288 with 1 Axes>"
      ]
     },
     "metadata": {
      "needs_background": "light"
     },
     "output_type": "display_data"
    }
   ],
   "source": [
    "plt.plot(get_rolling_mins(shot_cost) + 0.15, label=\"shot cost\")\n",
    "plt.plot(get_rolling_mins(exact_cost), label=\"exact cost\")\n",
    "plt.yscale(\"log\")\n",
    "plt.legend()"
   ]
  },
  {
   "cell_type": "code",
   "execution_count": 607,
   "id": "b7ac1142-31da-4503-a2d9-02b239e7d474",
   "metadata": {
    "tags": []
   },
   "outputs": [
    {
     "name": "stderr",
     "output_type": "stream",
     "text": [
      "\n",
      "KeyboardInterrupt\n",
      "\n"
     ]
    }
   ],
   "source": [
    "shot_cost = []\n",
    "exact_cost = []\n",
    "cost = lambda angles: compute_msl_shot_and_ideal_cost(angles, ansatz, rho_prep_circ, rho, rp, u_qubits, udg_qubits, \n",
    "                                                      ghz_qubits, n, nb, backend, True, shot_cost, exact_cost)\n",
    "x0 = np.random.normal(size=4) % (2 * np.pi)\n",
    "result = scipy.optimize.minimize(cost, x0, method=\"Powell\")"
   ]
  },
  {
   "cell_type": "code",
   "execution_count": 635,
   "id": "e20ef6d3-b69a-4041-8793-d2df88cfbb86",
   "metadata": {},
   "outputs": [
    {
     "data": {
      "text/plain": [
       "<matplotlib.legend.Legend at 0x7fcc9a34b6d0>"
      ]
     },
     "execution_count": 635,
     "metadata": {},
     "output_type": "execute_result"
    },
    {
     "data": {
      "image/png": "[encoded data removed]",
      "text/plain": [
       "<Figure size 432x288 with 1 Axes>"
      ]
     },
     "metadata": {
      "needs_background": "light"
     },
     "output_type": "display_data"
    }
   ],
   "source": [
    "plt.plot(get_rolling_mins(shot_cost) + 0.075, label=\"shot cost\")\n",
    "plt.plot(get_rolling_mins(exact_cost), label=\"exact cost\")\n",
    "plt.yscale(\"log\")\n",
    "plt.xlabel(r\"$n_{f} / 10$\")\n",
    "plt.ylabel(\"Cost\")\n",
    "plt.legend()"
   ]
  },
  {
   "cell_type": "code",
   "execution_count": 639,
   "id": "0ff8d7ed-e239-40c1-86fb-abaed7412b10",
   "metadata": {},
   "outputs": [],
   "source": [
    "def compute_sigma(pvec, ansatz, rho_prep_circ, rho, rp, u_qubits, udg_qubits,\n",
    "                  ghz_qubits, n, nb, device):\n",
    "    \"\"\"\n",
    "    Computes shot cost as well as exact cost from direct simulation.\n",
    "    \"\"\"\n",
    "    # ========================================\n",
    "    # build pre-requisite circuits\n",
    "    # ========================================\n",
    "    # U and Udg to prepare rho\n",
    "    u_circ, udg_circ = make_sigma_ansatz_circuits(pvec, ansatz, u_qubits, udg_qubits, device, n, nb)\n",
    "        \n",
    "    # ========================================\n",
    "    # compute idealzied cost from matrices\n",
    "    # ========================================\n",
    "    # compute statevector from rho prep circuit\n",
    "    circ = copy.deepcopy(u_circ)\n",
    "    psi = circ.get_statevector()\n",
    "    # trace out ancilla to extract rho\n",
    "    device_qubits = list(range(backend.get_number_qubits()))\n",
    "    rho_qubits = u_qubits[n:]\n",
    "    trace_out = []\n",
    "    for q in device_qubits:\n",
    "        if q not in rho_qubits:\n",
    "            trace_out.append(q)\n",
    "    sigma = qiskit.quantum_info.partial_trace(psi, trace_out)\n",
    "        \n",
    "    return sigma"
   ]
  },
  {
   "cell_type": "code",
   "execution_count": 651,
   "id": "8fb5a724-aace-43c0-ae8c-b005b7f9e1eb",
   "metadata": {},
   "outputs": [],
   "source": [
    "sigma = compute_sigma(ansatz.get_parameters(), ansatz, rho_prep_circ, rho, rp, u_qubits, udg_qubits,\n",
    "                      ghz_qubits, n, nb, backend)"
   ]
  },
  {
   "cell_type": "code",
   "execution_count": 652,
   "id": "ede94942-36eb-4273-99df-d531872ce4c2",
   "metadata": {},
   "outputs": [
    {
     "name": "stdout",
     "output_type": "stream",
     "text": [
      "DensityMatrix([[0.51185971+0.j        , 0.44676882-0.00675447j],\n",
      "               [0.44676882+0.00675447j, 0.48814029+0.j        ]],\n",
      "              dims=(2,))\n"
     ]
    }
   ],
   "source": [
    "sigma"
   ]
  },
  {
   "cell_type": "code",
   "execution_count": 653,
   "id": "51ae260e-01b5-4b65-91d9-59a724c91816",
   "metadata": {},
   "outputs": [
    {
     "data": {
      "text/plain": [
       "0.008149676150611018"
      ]
     },
     "execution_count": 653,
     "metadata": {},
     "output_type": "execute_result"
    }
   ],
   "source": [
    "np.real(rho.purity() + sigma.purity() - 2 * np.trace(np.matmul(rho, sigma)))"
   ]
  },
  {
   "cell_type": "code",
   "execution_count": 666,
   "id": "2fa3380f-4e26-4cff-a586-a5d3d76a326c",
   "metadata": {},
   "outputs": [
    {
     "name": "stderr",
     "output_type": "stream",
     "text": [
      "/var/folders/2w/_70fq7w11c36fkhz8pnqp8gw0000gp/T/ipykernel_71474/2371551056.py:17: DeprecationWarning: The `backends` provider attribute is deprecated. Please use `provider.backend` (singular) instead. You can continue to use `provider.backends()` to retrieve all backends.\n",
      "  pickle.dump(data_dict, f)\n",
      "/var/folders/2w/_70fq7w11c36fkhz8pnqp8gw0000gp/T/ipykernel_71474/2371551056.py:17: DeprecationWarning: The `backends` provider attribute is deprecated. Please use `provider.backend` (singular) instead. You can continue to use `provider.backends()` to retrieve all backends.\n",
      "  pickle.dump(data_dict, f)\n"
     ]
    }
   ],
   "source": [
    "data_dict = {}\n",
    "data_dict[\"backend\"] = backend\n",
    "data_dict[\"backend_name\"] = backend.backend.name()\n",
    "data_dict[\"rho\"] = rho\n",
    "data_dict[\"rho_circ\"] = rho_prep_circ\n",
    "data_dict[\"sigma\"] = sigma\n",
    "data_dict[\"final_cost\"] = np.real(rho.purity() + sigma.purity() - 2 * np.trace(np.matmul(rho, sigma)))\n",
    "data_dict[\"sigma_ansatz\"] = ansatz\n",
    "data_dict[\"shot_costs\"] = shot_cost\n",
    "data_dict[\"exact_costs\"] = exact_cost\n",
    "data_dict[\"plot_offset\"] = 0.75\n",
    "data_dict[\"window\"] = 10\n",
    "data_dict[\"data\"] = \"3 May 2022\"\n",
    "\n",
    "fname = \"pickled_runs/belem_1q_hadamard_prep_run.pkl\"\n",
    "with open(fname, 'wb') as f:\n",
    "    pickle.dump(data_dict, f)"
   ]
  },
  {
   "cell_type": "code",
   "execution_count": 669,
   "id": "c3b76362-634c-402d-8705-da355809ad62",
   "metadata": {},
   "outputs": [],
   "source": [
    "#with open(fname, 'rb') as f:\n",
    "#    blah = pickle.load(f)\n",
    "\n",
    "fname = \"csv_runs/belem_1q_hadamard_prep_run.csv\"\n",
    "with open(fname, 'w') as f:\n",
    "    for j in range(len(exact_cost)):\n",
    "        if j == 0:\n",
    "            line = f\"{shot_cost[j]},{exact_cost[j]}\"\n",
    "        else:\n",
    "            line = f\"\\n{shot_cost[j]},{exact_cost[j]}\"\n",
    "        f.write(line)"
   ]
  },
  {
   "cell_type": "code",
   "execution_count": 741,
   "id": "537ef517-d3d9-4fd6-99e6-109c85425dbe",
   "metadata": {},
   "outputs": [
    {
     "data": {
      "text/plain": [
       "{'id': 35.55555555555556,\n",
       " 'rz': 0.0,\n",
       " 'sx': 35.55555555555556,\n",
       " 'x': 35.55555555555556,\n",
       " 'cx': 572.4444444444443,\n",
       " 'reset': 7520.0}"
      ]
     },
     "execution_count": 741,
     "metadata": {},
     "output_type": "execute_result"
    }
   ],
   "source": [
    "backend.get_gate_times()"
   ]
  },
  {
   "cell_type": "markdown",
   "id": "2e0b3fd4-0111-4557-a7d5-22743a3e3b69",
   "metadata": {},
   "source": [
    "## Do again but with ansatz which only support rank 1 states"
   ]
  },
  {
   "cell_type": "code",
   "execution_count": 680,
   "id": "d2a94727-1978-4e47-9905-5cd7a2959a01",
   "metadata": {},
   "outputs": [
    {
     "name": "stdout",
     "output_type": "stream",
     "text": [
      "0.9139742549999998\n",
      "DensityMatrix([[0.54695+0.j     , 0.45085+0.03895j],\n",
      "               [0.45085-0.03895j, 0.45305+0.j     ]],\n",
      "              dims=(2,))\n"
     ]
    }
   ],
   "source": [
    "rho = compute_rho_with_tomography(rho_prep_circ, u_qubits, n, backend)\n",
    "rp = np.real(rho.purity())\n",
    "print(rp)\n",
    "rho"
   ]
  },
  {
   "cell_type": "code",
   "execution_count": 699,
   "id": "c6d77782-98f1-4516-8957-17d0dd446922",
   "metadata": {},
   "outputs": [
    {
     "data": {
      "text/html": [
       "<pre style=\"word-wrap: normal;white-space: pre;background: #fff0;line-height: 1.1;font-family: &quot;Courier New&quot;,Courier,monospace\">     ┌───────┐┌───────┐\n",
       "q_0: ┤ Rx(0) ├┤ Ry(0) ├\n",
       "     ├───────┤├───────┤\n",
       "q_1: ┤ Rx(0) ├┤ Ry(0) ├\n",
       "     └───────┘└───────┘</pre>"
      ],
      "text/plain": [
       "     ┌───────┐┌───────┐\n",
       "q_0: ┤ Rx(0) ├┤ Ry(0) ├\n",
       "     ├───────┤├───────┤\n",
       "q_1: ┤ Rx(0) ├┤ Ry(0) ├\n",
       "     └───────┘└───────┘"
      ]
     },
     "execution_count": 699,
     "metadata": {},
     "output_type": "execute_result"
    }
   ],
   "source": [
    "ansatz1 = FlexibleAnsatz(n + nb)\n",
    "ansatz1.insert_custom(('rx', [0], [0]))\n",
    "ansatz1.insert_custom(('rx', [0], [1]))\n",
    "ansatz1.insert_custom(('ry', [0], [0]))\n",
    "ansatz1.insert_custom(('ry', [0], [1]))\n",
    "ansatz1.build_circ(2).draw()"
   ]
  },
  {
   "cell_type": "code",
   "execution_count": 704,
   "id": "0cd260e8-ba05-449a-a56c-d1fea57c5271",
   "metadata": {},
   "outputs": [],
   "source": [
    "exact_cost1 = []\n",
    "cost1 = lambda angles: compute_msl_ideal_cost(angles, ansatz1, rho_prep_circ, rho, rp, u_qubits, udg_qubits, \n",
    "                                                      ghz_qubits, n, nb, backend, exact_cost1)\n",
    "x01 = np.random.normal(size=4) % (2 * np.pi)\n",
    "result1 = scipy.optimize.minimize(cost1, x01, method=\"Powell\")"
   ]
  },
  {
   "cell_type": "code",
   "execution_count": 706,
   "id": "677b442c-b583-493b-a487-523a0a0cf5e6",
   "metadata": {},
   "outputs": [
    {
     "data": {
      "text/plain": [
       "0.004057495070829198"
      ]
     },
     "execution_count": 706,
     "metadata": {},
     "output_type": "execute_result"
    }
   ],
   "source": [
    "min(exact_cost1)"
   ]
  },
  {
   "cell_type": "code",
   "execution_count": 684,
   "id": "c2df1277-ee17-4067-a394-9fd14fe1181c",
   "metadata": {
    "collapsed": true,
    "jupyter": {
     "outputs_hidden": true
    },
    "tags": []
   },
   "outputs": [
    {
     "name": "stderr",
     "output_type": "stream",
     "text": [
      "WARNING:urllib3.connectionpool:Retrying (PostForcelistRetry(total=4, connect=3, read=None, redirect=None, status=None)) after connection broken by 'ReadTimeoutError(\"HTTPSConnectionPool(host='api-qcon.quantum-computing.ibm.com', port=443): Read timed out. (read timeout=None)\")': /api/Network/ibm-q-research-2/Groups/uni-south-cali-1/Projects/main/Jobs/62725103d03f90005b684f51/status/v/1\n",
      "WARNING:urllib3.connectionpool:Retrying (PostForcelistRetry(total=3, connect=2, read=None, redirect=None, status=None)) after connection broken by 'ConnectTimeoutError(<urllib3.connection.HTTPSConnection object at 0x7fcc69fb0ee0>, 'Connection to api-qcon.quantum-computing.ibm.com timed out. (connect timeout=5.0)')': /api/Network/ibm-q-research-2/Groups/uni-south-cali-1/Projects/main/Jobs/62725103d03f90005b684f51/status/v/1\n",
      "WARNING:urllib3.connectionpool:Retrying (PostForcelistRetry(total=2, connect=1, read=None, redirect=None, status=None)) after connection broken by 'ConnectTimeoutError(<urllib3.connection.HTTPSConnection object at 0x7fcc69fb0220>, 'Connection to api-qcon.quantum-computing.ibm.com timed out. (connect timeout=5.0)')': /api/Network/ibm-q-research-2/Groups/uni-south-cali-1/Projects/main/Jobs/62725103d03f90005b684f51/status/v/1\n",
      "WARNING:urllib3.connectionpool:Retrying (PostForcelistRetry(total=1, connect=0, read=None, redirect=None, status=None)) after connection broken by 'ConnectTimeoutError(<urllib3.connection.HTTPSConnection object at 0x7fcc81f57b80>, 'Connection to api-qcon.quantum-computing.ibm.com timed out. (connect timeout=5.0)')': /api/Network/ibm-q-research-2/Groups/uni-south-cali-1/Projects/main/Jobs/62725103d03f90005b684f51/status/v/1\n",
      "ibmqjob._wait_for_completion:ERROR:2022-05-04 03:13:21,614: Maximum retries exceeded: Error checking job status due to a network error.\n"
     ]
    },
    {
     "ename": "IBMQJobApiError",
     "evalue": "'Error checking job status due to a network error: \"HTTPSConnectionPool(host=\\'api-qcon.quantum-computing.ibm.com\\', port=443): Max retries exceeded with url: /api/Network/ibm-q-research-2/Groups/uni-south-cali-1/Projects/main/Jobs/62725103d03f90005b684f51/status/v/1 (Caused by ConnectTimeoutError(<urllib3.connection.HTTPSConnection object at 0x7fcc81f57850>, \\'Connection to api-qcon.quantum-computing.ibm.com timed out. (connect timeout=5.0)\\'))\"'",
     "output_type": "error",
     "traceback": [
      "\u001b[0;31m---------------------------------------------------------------------------\u001b[0m",
      "\u001b[0;31mtimeout\u001b[0m                                   Traceback (most recent call last)",
      "File \u001b[0;32m~/opt/anaconda3/envs/vcg2/lib/python3.9/site-packages/urllib3/connection.py:174\u001b[0m, in \u001b[0;36mHTTPConnection._new_conn\u001b[0;34m(self)\u001b[0m\n\u001b[1;32m    173\u001b[0m \u001b[38;5;28;01mtry\u001b[39;00m:\n\u001b[0;32m--> 174\u001b[0m     conn \u001b[38;5;241m=\u001b[39m \u001b[43mconnection\u001b[49m\u001b[38;5;241;43m.\u001b[39;49m\u001b[43mcreate_connection\u001b[49m\u001b[43m(\u001b[49m\n\u001b[1;32m    175\u001b[0m \u001b[43m        \u001b[49m\u001b[43m(\u001b[49m\u001b[38;5;28;43mself\u001b[39;49m\u001b[38;5;241;43m.\u001b[39;49m\u001b[43m_dns_host\u001b[49m\u001b[43m,\u001b[49m\u001b[43m \u001b[49m\u001b[38;5;28;43mself\u001b[39;49m\u001b[38;5;241;43m.\u001b[39;49m\u001b[43mport\u001b[49m\u001b[43m)\u001b[49m\u001b[43m,\u001b[49m\u001b[43m \u001b[49m\u001b[38;5;28;43mself\u001b[39;49m\u001b[38;5;241;43m.\u001b[39;49m\u001b[43mtimeout\u001b[49m\u001b[43m,\u001b[49m\u001b[43m \u001b[49m\u001b[38;5;241;43m*\u001b[39;49m\u001b[38;5;241;43m*\u001b[39;49m\u001b[43mextra_kw\u001b[49m\n\u001b[1;32m    176\u001b[0m \u001b[43m    \u001b[49m\u001b[43m)\u001b[49m\n\u001b[1;32m    178\u001b[0m \u001b[38;5;28;01mexcept\u001b[39;00m SocketTimeout:\n",
      "File \u001b[0;32m~/opt/anaconda3/envs/vcg2/lib/python3.9/site-packages/urllib3/util/connection.py:95\u001b[0m, in \u001b[0;36mcreate_connection\u001b[0;34m(address, timeout, source_address, socket_options)\u001b[0m\n\u001b[1;32m     94\u001b[0m \u001b[38;5;28;01mif\u001b[39;00m err \u001b[38;5;129;01mis\u001b[39;00m \u001b[38;5;129;01mnot\u001b[39;00m \u001b[38;5;28;01mNone\u001b[39;00m:\n\u001b[0;32m---> 95\u001b[0m     \u001b[38;5;28;01mraise\u001b[39;00m err\n\u001b[1;32m     97\u001b[0m \u001b[38;5;28;01mraise\u001b[39;00m socket\u001b[38;5;241m.\u001b[39merror(\u001b[38;5;124m\"\u001b[39m\u001b[38;5;124mgetaddrinfo returns an empty list\u001b[39m\u001b[38;5;124m\"\u001b[39m)\n",
      "File \u001b[0;32m~/opt/anaconda3/envs/vcg2/lib/python3.9/site-packages/urllib3/util/connection.py:85\u001b[0m, in \u001b[0;36mcreate_connection\u001b[0;34m(address, timeout, source_address, socket_options)\u001b[0m\n\u001b[1;32m     84\u001b[0m     sock\u001b[38;5;241m.\u001b[39mbind(source_address)\n\u001b[0;32m---> 85\u001b[0m \u001b[43msock\u001b[49m\u001b[38;5;241;43m.\u001b[39;49m\u001b[43mconnect\u001b[49m\u001b[43m(\u001b[49m\u001b[43msa\u001b[49m\u001b[43m)\u001b[49m\n\u001b[1;32m     86\u001b[0m \u001b[38;5;28;01mreturn\u001b[39;00m sock\n",
      "\u001b[0;31mtimeout\u001b[0m: timed out",
      "\nDuring handling of the above exception, another exception occurred:\n",
      "\u001b[0;31mConnectTimeoutError\u001b[0m                       Traceback (most recent call last)",
      "File \u001b[0;32m~/opt/anaconda3/envs/vcg2/lib/python3.9/site-packages/urllib3/connectionpool.py:703\u001b[0m, in \u001b[0;36mHTTPConnectionPool.urlopen\u001b[0;34m(self, method, url, body, headers, retries, redirect, assert_same_host, timeout, pool_timeout, release_conn, chunked, body_pos, **response_kw)\u001b[0m\n\u001b[1;32m    702\u001b[0m \u001b[38;5;66;03m# Make the request on the httplib connection object.\u001b[39;00m\n\u001b[0;32m--> 703\u001b[0m httplib_response \u001b[38;5;241m=\u001b[39m \u001b[38;5;28;43mself\u001b[39;49m\u001b[38;5;241;43m.\u001b[39;49m\u001b[43m_make_request\u001b[49m\u001b[43m(\u001b[49m\n\u001b[1;32m    704\u001b[0m \u001b[43m    \u001b[49m\u001b[43mconn\u001b[49m\u001b[43m,\u001b[49m\n\u001b[1;32m    705\u001b[0m \u001b[43m    \u001b[49m\u001b[43mmethod\u001b[49m\u001b[43m,\u001b[49m\n\u001b[1;32m    706\u001b[0m \u001b[43m    \u001b[49m\u001b[43murl\u001b[49m\u001b[43m,\u001b[49m\n\u001b[1;32m    707\u001b[0m \u001b[43m    \u001b[49m\u001b[43mtimeout\u001b[49m\u001b[38;5;241;43m=\u001b[39;49m\u001b[43mtimeout_obj\u001b[49m\u001b[43m,\u001b[49m\n\u001b[1;32m    708\u001b[0m \u001b[43m    \u001b[49m\u001b[43mbody\u001b[49m\u001b[38;5;241;43m=\u001b[39;49m\u001b[43mbody\u001b[49m\u001b[43m,\u001b[49m\n\u001b[1;32m    709\u001b[0m \u001b[43m    \u001b[49m\u001b[43mheaders\u001b[49m\u001b[38;5;241;43m=\u001b[39;49m\u001b[43mheaders\u001b[49m\u001b[43m,\u001b[49m\n\u001b[1;32m    710\u001b[0m \u001b[43m    \u001b[49m\u001b[43mchunked\u001b[49m\u001b[38;5;241;43m=\u001b[39;49m\u001b[43mchunked\u001b[49m\u001b[43m,\u001b[49m\n\u001b[1;32m    711\u001b[0m \u001b[43m\u001b[49m\u001b[43m)\u001b[49m\n\u001b[1;32m    713\u001b[0m \u001b[38;5;66;03m# If we're going to release the connection in ``finally:``, then\u001b[39;00m\n\u001b[1;32m    714\u001b[0m \u001b[38;5;66;03m# the response doesn't need to know about the connection. Otherwise\u001b[39;00m\n\u001b[1;32m    715\u001b[0m \u001b[38;5;66;03m# it will also try to release it and we'll have a double-release\u001b[39;00m\n\u001b[1;32m    716\u001b[0m \u001b[38;5;66;03m# mess.\u001b[39;00m\n",
      "File \u001b[0;32m~/opt/anaconda3/envs/vcg2/lib/python3.9/site-packages/urllib3/connectionpool.py:386\u001b[0m, in \u001b[0;36mHTTPConnectionPool._make_request\u001b[0;34m(self, conn, method, url, timeout, chunked, **httplib_request_kw)\u001b[0m\n\u001b[1;32m    385\u001b[0m \u001b[38;5;28;01mtry\u001b[39;00m:\n\u001b[0;32m--> 386\u001b[0m     \u001b[38;5;28;43mself\u001b[39;49m\u001b[38;5;241;43m.\u001b[39;49m\u001b[43m_validate_conn\u001b[49m\u001b[43m(\u001b[49m\u001b[43mconn\u001b[49m\u001b[43m)\u001b[49m\n\u001b[1;32m    387\u001b[0m \u001b[38;5;28;01mexcept\u001b[39;00m (SocketTimeout, BaseSSLError) \u001b[38;5;28;01mas\u001b[39;00m e:\n\u001b[1;32m    388\u001b[0m     \u001b[38;5;66;03m# Py2 raises this as a BaseSSLError, Py3 raises it as socket timeout.\u001b[39;00m\n",
      "File \u001b[0;32m~/opt/anaconda3/envs/vcg2/lib/python3.9/site-packages/urllib3/connectionpool.py:1040\u001b[0m, in \u001b[0;36mHTTPSConnectionPool._validate_conn\u001b[0;34m(self, conn)\u001b[0m\n\u001b[1;32m   1039\u001b[0m \u001b[38;5;28;01mif\u001b[39;00m \u001b[38;5;129;01mnot\u001b[39;00m \u001b[38;5;28mgetattr\u001b[39m(conn, \u001b[38;5;124m\"\u001b[39m\u001b[38;5;124msock\u001b[39m\u001b[38;5;124m\"\u001b[39m, \u001b[38;5;28;01mNone\u001b[39;00m):  \u001b[38;5;66;03m# AppEngine might not have  `.sock`\u001b[39;00m\n\u001b[0;32m-> 1040\u001b[0m     \u001b[43mconn\u001b[49m\u001b[38;5;241;43m.\u001b[39;49m\u001b[43mconnect\u001b[49m\u001b[43m(\u001b[49m\u001b[43m)\u001b[49m\n\u001b[1;32m   1042\u001b[0m \u001b[38;5;28;01mif\u001b[39;00m \u001b[38;5;129;01mnot\u001b[39;00m conn\u001b[38;5;241m.\u001b[39mis_verified:\n",
      "File \u001b[0;32m~/opt/anaconda3/envs/vcg2/lib/python3.9/site-packages/urllib3/connection.py:358\u001b[0m, in \u001b[0;36mHTTPSConnection.connect\u001b[0;34m(self)\u001b[0m\n\u001b[1;32m    356\u001b[0m \u001b[38;5;28;01mdef\u001b[39;00m \u001b[38;5;21mconnect\u001b[39m(\u001b[38;5;28mself\u001b[39m):\n\u001b[1;32m    357\u001b[0m     \u001b[38;5;66;03m# Add certificate verification\u001b[39;00m\n\u001b[0;32m--> 358\u001b[0m     conn \u001b[38;5;241m=\u001b[39m \u001b[38;5;28;43mself\u001b[39;49m\u001b[38;5;241;43m.\u001b[39;49m\u001b[43m_new_conn\u001b[49m\u001b[43m(\u001b[49m\u001b[43m)\u001b[49m\n\u001b[1;32m    359\u001b[0m     hostname \u001b[38;5;241m=\u001b[39m \u001b[38;5;28mself\u001b[39m\u001b[38;5;241m.\u001b[39mhost\n",
      "File \u001b[0;32m~/opt/anaconda3/envs/vcg2/lib/python3.9/site-packages/urllib3/connection.py:179\u001b[0m, in \u001b[0;36mHTTPConnection._new_conn\u001b[0;34m(self)\u001b[0m\n\u001b[1;32m    178\u001b[0m \u001b[38;5;28;01mexcept\u001b[39;00m SocketTimeout:\n\u001b[0;32m--> 179\u001b[0m     \u001b[38;5;28;01mraise\u001b[39;00m ConnectTimeoutError(\n\u001b[1;32m    180\u001b[0m         \u001b[38;5;28mself\u001b[39m,\n\u001b[1;32m    181\u001b[0m         \u001b[38;5;124m\"\u001b[39m\u001b[38;5;124mConnection to \u001b[39m\u001b[38;5;132;01m%s\u001b[39;00m\u001b[38;5;124m timed out. (connect timeout=\u001b[39m\u001b[38;5;132;01m%s\u001b[39;00m\u001b[38;5;124m)\u001b[39m\u001b[38;5;124m\"\u001b[39m\n\u001b[1;32m    182\u001b[0m         \u001b[38;5;241m%\u001b[39m (\u001b[38;5;28mself\u001b[39m\u001b[38;5;241m.\u001b[39mhost, \u001b[38;5;28mself\u001b[39m\u001b[38;5;241m.\u001b[39mtimeout),\n\u001b[1;32m    183\u001b[0m     )\n\u001b[1;32m    185\u001b[0m \u001b[38;5;28;01mexcept\u001b[39;00m SocketError \u001b[38;5;28;01mas\u001b[39;00m e:\n",
      "\u001b[0;31mConnectTimeoutError\u001b[0m: (<urllib3.connection.HTTPSConnection object at 0x7fcc81f57850>, 'Connection to api-qcon.quantum-computing.ibm.com timed out. (connect timeout=5.0)')",
      "\nDuring handling of the above exception, another exception occurred:\n",
      "\u001b[0;31mMaxRetryError\u001b[0m                             Traceback (most recent call last)",
      "File \u001b[0;32m~/opt/anaconda3/envs/vcg2/lib/python3.9/site-packages/requests/adapters.py:440\u001b[0m, in \u001b[0;36mHTTPAdapter.send\u001b[0;34m(self, request, stream, timeout, verify, cert, proxies)\u001b[0m\n\u001b[1;32m    439\u001b[0m \u001b[38;5;28;01mif\u001b[39;00m \u001b[38;5;129;01mnot\u001b[39;00m chunked:\n\u001b[0;32m--> 440\u001b[0m     resp \u001b[38;5;241m=\u001b[39m \u001b[43mconn\u001b[49m\u001b[38;5;241;43m.\u001b[39;49m\u001b[43murlopen\u001b[49m\u001b[43m(\u001b[49m\n\u001b[1;32m    441\u001b[0m \u001b[43m        \u001b[49m\u001b[43mmethod\u001b[49m\u001b[38;5;241;43m=\u001b[39;49m\u001b[43mrequest\u001b[49m\u001b[38;5;241;43m.\u001b[39;49m\u001b[43mmethod\u001b[49m\u001b[43m,\u001b[49m\n\u001b[1;32m    442\u001b[0m \u001b[43m        \u001b[49m\u001b[43murl\u001b[49m\u001b[38;5;241;43m=\u001b[39;49m\u001b[43murl\u001b[49m\u001b[43m,\u001b[49m\n\u001b[1;32m    443\u001b[0m \u001b[43m        \u001b[49m\u001b[43mbody\u001b[49m\u001b[38;5;241;43m=\u001b[39;49m\u001b[43mrequest\u001b[49m\u001b[38;5;241;43m.\u001b[39;49m\u001b[43mbody\u001b[49m\u001b[43m,\u001b[49m\n\u001b[1;32m    444\u001b[0m \u001b[43m        \u001b[49m\u001b[43mheaders\u001b[49m\u001b[38;5;241;43m=\u001b[39;49m\u001b[43mrequest\u001b[49m\u001b[38;5;241;43m.\u001b[39;49m\u001b[43mheaders\u001b[49m\u001b[43m,\u001b[49m\n\u001b[1;32m    445\u001b[0m \u001b[43m        \u001b[49m\u001b[43mredirect\u001b[49m\u001b[38;5;241;43m=\u001b[39;49m\u001b[38;5;28;43;01mFalse\u001b[39;49;00m\u001b[43m,\u001b[49m\n\u001b[1;32m    446\u001b[0m \u001b[43m        \u001b[49m\u001b[43massert_same_host\u001b[49m\u001b[38;5;241;43m=\u001b[39;49m\u001b[38;5;28;43;01mFalse\u001b[39;49;00m\u001b[43m,\u001b[49m\n\u001b[1;32m    447\u001b[0m \u001b[43m        \u001b[49m\u001b[43mpreload_content\u001b[49m\u001b[38;5;241;43m=\u001b[39;49m\u001b[38;5;28;43;01mFalse\u001b[39;49;00m\u001b[43m,\u001b[49m\n\u001b[1;32m    448\u001b[0m \u001b[43m        \u001b[49m\u001b[43mdecode_content\u001b[49m\u001b[38;5;241;43m=\u001b[39;49m\u001b[38;5;28;43;01mFalse\u001b[39;49;00m\u001b[43m,\u001b[49m\n\u001b[1;32m    449\u001b[0m \u001b[43m        \u001b[49m\u001b[43mretries\u001b[49m\u001b[38;5;241;43m=\u001b[39;49m\u001b[38;5;28;43mself\u001b[39;49m\u001b[38;5;241;43m.\u001b[39;49m\u001b[43mmax_retries\u001b[49m\u001b[43m,\u001b[49m\n\u001b[1;32m    450\u001b[0m \u001b[43m        \u001b[49m\u001b[43mtimeout\u001b[49m\u001b[38;5;241;43m=\u001b[39;49m\u001b[43mtimeout\u001b[49m\n\u001b[1;32m    451\u001b[0m \u001b[43m    \u001b[49m\u001b[43m)\u001b[49m\n\u001b[1;32m    453\u001b[0m \u001b[38;5;66;03m# Send the request.\u001b[39;00m\n\u001b[1;32m    454\u001b[0m \u001b[38;5;28;01melse\u001b[39;00m:\n",
      "File \u001b[0;32m~/opt/anaconda3/envs/vcg2/lib/python3.9/site-packages/urllib3/connectionpool.py:813\u001b[0m, in \u001b[0;36mHTTPConnectionPool.urlopen\u001b[0;34m(self, method, url, body, headers, retries, redirect, assert_same_host, timeout, pool_timeout, release_conn, chunked, body_pos, **response_kw)\u001b[0m\n\u001b[1;32m    810\u001b[0m     log\u001b[38;5;241m.\u001b[39mwarning(\n\u001b[1;32m    811\u001b[0m         \u001b[38;5;124m\"\u001b[39m\u001b[38;5;124mRetrying (\u001b[39m\u001b[38;5;132;01m%r\u001b[39;00m\u001b[38;5;124m) after connection broken by \u001b[39m\u001b[38;5;124m'\u001b[39m\u001b[38;5;132;01m%r\u001b[39;00m\u001b[38;5;124m'\u001b[39m\u001b[38;5;124m: \u001b[39m\u001b[38;5;132;01m%s\u001b[39;00m\u001b[38;5;124m\"\u001b[39m, retries, err, url\n\u001b[1;32m    812\u001b[0m     )\n\u001b[0;32m--> 813\u001b[0m     \u001b[38;5;28;01mreturn\u001b[39;00m \u001b[38;5;28;43mself\u001b[39;49m\u001b[38;5;241;43m.\u001b[39;49m\u001b[43murlopen\u001b[49m\u001b[43m(\u001b[49m\n\u001b[1;32m    814\u001b[0m \u001b[43m        \u001b[49m\u001b[43mmethod\u001b[49m\u001b[43m,\u001b[49m\n\u001b[1;32m    815\u001b[0m \u001b[43m        \u001b[49m\u001b[43murl\u001b[49m\u001b[43m,\u001b[49m\n\u001b[1;32m    816\u001b[0m \u001b[43m        \u001b[49m\u001b[43mbody\u001b[49m\u001b[43m,\u001b[49m\n\u001b[1;32m    817\u001b[0m \u001b[43m        \u001b[49m\u001b[43mheaders\u001b[49m\u001b[43m,\u001b[49m\n\u001b[1;32m    818\u001b[0m \u001b[43m        \u001b[49m\u001b[43mretries\u001b[49m\u001b[43m,\u001b[49m\n\u001b[1;32m    819\u001b[0m \u001b[43m        \u001b[49m\u001b[43mredirect\u001b[49m\u001b[43m,\u001b[49m\n\u001b[1;32m    820\u001b[0m \u001b[43m        \u001b[49m\u001b[43massert_same_host\u001b[49m\u001b[43m,\u001b[49m\n\u001b[1;32m    821\u001b[0m \u001b[43m        \u001b[49m\u001b[43mtimeout\u001b[49m\u001b[38;5;241;43m=\u001b[39;49m\u001b[43mtimeout\u001b[49m\u001b[43m,\u001b[49m\n\u001b[1;32m    822\u001b[0m \u001b[43m        \u001b[49m\u001b[43mpool_timeout\u001b[49m\u001b[38;5;241;43m=\u001b[39;49m\u001b[43mpool_timeout\u001b[49m\u001b[43m,\u001b[49m\n\u001b[1;32m    823\u001b[0m \u001b[43m        \u001b[49m\u001b[43mrelease_conn\u001b[49m\u001b[38;5;241;43m=\u001b[39;49m\u001b[43mrelease_conn\u001b[49m\u001b[43m,\u001b[49m\n\u001b[1;32m    824\u001b[0m \u001b[43m        \u001b[49m\u001b[43mchunked\u001b[49m\u001b[38;5;241;43m=\u001b[39;49m\u001b[43mchunked\u001b[49m\u001b[43m,\u001b[49m\n\u001b[1;32m    825\u001b[0m \u001b[43m        \u001b[49m\u001b[43mbody_pos\u001b[49m\u001b[38;5;241;43m=\u001b[39;49m\u001b[43mbody_pos\u001b[49m\u001b[43m,\u001b[49m\n\u001b[1;32m    826\u001b[0m \u001b[43m        \u001b[49m\u001b[38;5;241;43m*\u001b[39;49m\u001b[38;5;241;43m*\u001b[39;49m\u001b[43mresponse_kw\u001b[49m\n\u001b[1;32m    827\u001b[0m \u001b[43m    \u001b[49m\u001b[43m)\u001b[49m\n\u001b[1;32m    829\u001b[0m \u001b[38;5;66;03m# Handle redirect?\u001b[39;00m\n",
      "File \u001b[0;32m~/opt/anaconda3/envs/vcg2/lib/python3.9/site-packages/urllib3/connectionpool.py:813\u001b[0m, in \u001b[0;36mHTTPConnectionPool.urlopen\u001b[0;34m(self, method, url, body, headers, retries, redirect, assert_same_host, timeout, pool_timeout, release_conn, chunked, body_pos, **response_kw)\u001b[0m\n\u001b[1;32m    810\u001b[0m     log\u001b[38;5;241m.\u001b[39mwarning(\n\u001b[1;32m    811\u001b[0m         \u001b[38;5;124m\"\u001b[39m\u001b[38;5;124mRetrying (\u001b[39m\u001b[38;5;132;01m%r\u001b[39;00m\u001b[38;5;124m) after connection broken by \u001b[39m\u001b[38;5;124m'\u001b[39m\u001b[38;5;132;01m%r\u001b[39;00m\u001b[38;5;124m'\u001b[39m\u001b[38;5;124m: \u001b[39m\u001b[38;5;132;01m%s\u001b[39;00m\u001b[38;5;124m\"\u001b[39m, retries, err, url\n\u001b[1;32m    812\u001b[0m     )\n\u001b[0;32m--> 813\u001b[0m     \u001b[38;5;28;01mreturn\u001b[39;00m \u001b[38;5;28;43mself\u001b[39;49m\u001b[38;5;241;43m.\u001b[39;49m\u001b[43murlopen\u001b[49m\u001b[43m(\u001b[49m\n\u001b[1;32m    814\u001b[0m \u001b[43m        \u001b[49m\u001b[43mmethod\u001b[49m\u001b[43m,\u001b[49m\n\u001b[1;32m    815\u001b[0m \u001b[43m        \u001b[49m\u001b[43murl\u001b[49m\u001b[43m,\u001b[49m\n\u001b[1;32m    816\u001b[0m \u001b[43m        \u001b[49m\u001b[43mbody\u001b[49m\u001b[43m,\u001b[49m\n\u001b[1;32m    817\u001b[0m \u001b[43m        \u001b[49m\u001b[43mheaders\u001b[49m\u001b[43m,\u001b[49m\n\u001b[1;32m    818\u001b[0m \u001b[43m        \u001b[49m\u001b[43mretries\u001b[49m\u001b[43m,\u001b[49m\n\u001b[1;32m    819\u001b[0m \u001b[43m        \u001b[49m\u001b[43mredirect\u001b[49m\u001b[43m,\u001b[49m\n\u001b[1;32m    820\u001b[0m \u001b[43m        \u001b[49m\u001b[43massert_same_host\u001b[49m\u001b[43m,\u001b[49m\n\u001b[1;32m    821\u001b[0m \u001b[43m        \u001b[49m\u001b[43mtimeout\u001b[49m\u001b[38;5;241;43m=\u001b[39;49m\u001b[43mtimeout\u001b[49m\u001b[43m,\u001b[49m\n\u001b[1;32m    822\u001b[0m \u001b[43m        \u001b[49m\u001b[43mpool_timeout\u001b[49m\u001b[38;5;241;43m=\u001b[39;49m\u001b[43mpool_timeout\u001b[49m\u001b[43m,\u001b[49m\n\u001b[1;32m    823\u001b[0m \u001b[43m        \u001b[49m\u001b[43mrelease_conn\u001b[49m\u001b[38;5;241;43m=\u001b[39;49m\u001b[43mrelease_conn\u001b[49m\u001b[43m,\u001b[49m\n\u001b[1;32m    824\u001b[0m \u001b[43m        \u001b[49m\u001b[43mchunked\u001b[49m\u001b[38;5;241;43m=\u001b[39;49m\u001b[43mchunked\u001b[49m\u001b[43m,\u001b[49m\n\u001b[1;32m    825\u001b[0m \u001b[43m        \u001b[49m\u001b[43mbody_pos\u001b[49m\u001b[38;5;241;43m=\u001b[39;49m\u001b[43mbody_pos\u001b[49m\u001b[43m,\u001b[49m\n\u001b[1;32m    826\u001b[0m \u001b[43m        \u001b[49m\u001b[38;5;241;43m*\u001b[39;49m\u001b[38;5;241;43m*\u001b[39;49m\u001b[43mresponse_kw\u001b[49m\n\u001b[1;32m    827\u001b[0m \u001b[43m    \u001b[49m\u001b[43m)\u001b[49m\n\u001b[1;32m    829\u001b[0m \u001b[38;5;66;03m# Handle redirect?\u001b[39;00m\n",
      "    \u001b[0;31m[... skipping similar frames: HTTPConnectionPool.urlopen at line 813 (1 times)]\u001b[0m\n",
      "File \u001b[0;32m~/opt/anaconda3/envs/vcg2/lib/python3.9/site-packages/urllib3/connectionpool.py:813\u001b[0m, in \u001b[0;36mHTTPConnectionPool.urlopen\u001b[0;34m(self, method, url, body, headers, retries, redirect, assert_same_host, timeout, pool_timeout, release_conn, chunked, body_pos, **response_kw)\u001b[0m\n\u001b[1;32m    810\u001b[0m     log\u001b[38;5;241m.\u001b[39mwarning(\n\u001b[1;32m    811\u001b[0m         \u001b[38;5;124m\"\u001b[39m\u001b[38;5;124mRetrying (\u001b[39m\u001b[38;5;132;01m%r\u001b[39;00m\u001b[38;5;124m) after connection broken by \u001b[39m\u001b[38;5;124m'\u001b[39m\u001b[38;5;132;01m%r\u001b[39;00m\u001b[38;5;124m'\u001b[39m\u001b[38;5;124m: \u001b[39m\u001b[38;5;132;01m%s\u001b[39;00m\u001b[38;5;124m\"\u001b[39m, retries, err, url\n\u001b[1;32m    812\u001b[0m     )\n\u001b[0;32m--> 813\u001b[0m     \u001b[38;5;28;01mreturn\u001b[39;00m \u001b[38;5;28;43mself\u001b[39;49m\u001b[38;5;241;43m.\u001b[39;49m\u001b[43murlopen\u001b[49m\u001b[43m(\u001b[49m\n\u001b[1;32m    814\u001b[0m \u001b[43m        \u001b[49m\u001b[43mmethod\u001b[49m\u001b[43m,\u001b[49m\n\u001b[1;32m    815\u001b[0m \u001b[43m        \u001b[49m\u001b[43murl\u001b[49m\u001b[43m,\u001b[49m\n\u001b[1;32m    816\u001b[0m \u001b[43m        \u001b[49m\u001b[43mbody\u001b[49m\u001b[43m,\u001b[49m\n\u001b[1;32m    817\u001b[0m \u001b[43m        \u001b[49m\u001b[43mheaders\u001b[49m\u001b[43m,\u001b[49m\n\u001b[1;32m    818\u001b[0m \u001b[43m        \u001b[49m\u001b[43mretries\u001b[49m\u001b[43m,\u001b[49m\n\u001b[1;32m    819\u001b[0m \u001b[43m        \u001b[49m\u001b[43mredirect\u001b[49m\u001b[43m,\u001b[49m\n\u001b[1;32m    820\u001b[0m \u001b[43m        \u001b[49m\u001b[43massert_same_host\u001b[49m\u001b[43m,\u001b[49m\n\u001b[1;32m    821\u001b[0m \u001b[43m        \u001b[49m\u001b[43mtimeout\u001b[49m\u001b[38;5;241;43m=\u001b[39;49m\u001b[43mtimeout\u001b[49m\u001b[43m,\u001b[49m\n\u001b[1;32m    822\u001b[0m \u001b[43m        \u001b[49m\u001b[43mpool_timeout\u001b[49m\u001b[38;5;241;43m=\u001b[39;49m\u001b[43mpool_timeout\u001b[49m\u001b[43m,\u001b[49m\n\u001b[1;32m    823\u001b[0m \u001b[43m        \u001b[49m\u001b[43mrelease_conn\u001b[49m\u001b[38;5;241;43m=\u001b[39;49m\u001b[43mrelease_conn\u001b[49m\u001b[43m,\u001b[49m\n\u001b[1;32m    824\u001b[0m \u001b[43m        \u001b[49m\u001b[43mchunked\u001b[49m\u001b[38;5;241;43m=\u001b[39;49m\u001b[43mchunked\u001b[49m\u001b[43m,\u001b[49m\n\u001b[1;32m    825\u001b[0m \u001b[43m        \u001b[49m\u001b[43mbody_pos\u001b[49m\u001b[38;5;241;43m=\u001b[39;49m\u001b[43mbody_pos\u001b[49m\u001b[43m,\u001b[49m\n\u001b[1;32m    826\u001b[0m \u001b[43m        \u001b[49m\u001b[38;5;241;43m*\u001b[39;49m\u001b[38;5;241;43m*\u001b[39;49m\u001b[43mresponse_kw\u001b[49m\n\u001b[1;32m    827\u001b[0m \u001b[43m    \u001b[49m\u001b[43m)\u001b[49m\n\u001b[1;32m    829\u001b[0m \u001b[38;5;66;03m# Handle redirect?\u001b[39;00m\n",
      "File \u001b[0;32m~/opt/anaconda3/envs/vcg2/lib/python3.9/site-packages/urllib3/connectionpool.py:785\u001b[0m, in \u001b[0;36mHTTPConnectionPool.urlopen\u001b[0;34m(self, method, url, body, headers, retries, redirect, assert_same_host, timeout, pool_timeout, release_conn, chunked, body_pos, **response_kw)\u001b[0m\n\u001b[1;32m    783\u001b[0m     e \u001b[38;5;241m=\u001b[39m ProtocolError(\u001b[38;5;124m\"\u001b[39m\u001b[38;5;124mConnection aborted.\u001b[39m\u001b[38;5;124m\"\u001b[39m, e)\n\u001b[0;32m--> 785\u001b[0m retries \u001b[38;5;241m=\u001b[39m \u001b[43mretries\u001b[49m\u001b[38;5;241;43m.\u001b[39;49m\u001b[43mincrement\u001b[49m\u001b[43m(\u001b[49m\n\u001b[1;32m    786\u001b[0m \u001b[43m    \u001b[49m\u001b[43mmethod\u001b[49m\u001b[43m,\u001b[49m\u001b[43m \u001b[49m\u001b[43murl\u001b[49m\u001b[43m,\u001b[49m\u001b[43m \u001b[49m\u001b[43merror\u001b[49m\u001b[38;5;241;43m=\u001b[39;49m\u001b[43me\u001b[49m\u001b[43m,\u001b[49m\u001b[43m \u001b[49m\u001b[43m_pool\u001b[49m\u001b[38;5;241;43m=\u001b[39;49m\u001b[38;5;28;43mself\u001b[39;49m\u001b[43m,\u001b[49m\u001b[43m \u001b[49m\u001b[43m_stacktrace\u001b[49m\u001b[38;5;241;43m=\u001b[39;49m\u001b[43msys\u001b[49m\u001b[38;5;241;43m.\u001b[39;49m\u001b[43mexc_info\u001b[49m\u001b[43m(\u001b[49m\u001b[43m)\u001b[49m\u001b[43m[\u001b[49m\u001b[38;5;241;43m2\u001b[39;49m\u001b[43m]\u001b[49m\n\u001b[1;32m    787\u001b[0m \u001b[43m\u001b[49m\u001b[43m)\u001b[49m\n\u001b[1;32m    788\u001b[0m retries\u001b[38;5;241m.\u001b[39msleep()\n",
      "File \u001b[0;32m~/opt/anaconda3/envs/vcg2/lib/python3.9/site-packages/qiskit/providers/ibmq/api/session.py:97\u001b[0m, in \u001b[0;36mPostForcelistRetry.increment\u001b[0;34m(self, method, url, response, error, _pool, _stacktrace)\u001b[0m\n\u001b[1;32m     95\u001b[0m     logger\u001b[38;5;241m.\u001b[39mdebug(\u001b[38;5;124m\"\u001b[39m\u001b[38;5;124mRetrying method=\u001b[39m\u001b[38;5;132;01m%s\u001b[39;00m\u001b[38;5;124m, url=\u001b[39m\u001b[38;5;132;01m%s\u001b[39;00m\u001b[38;5;124m, status=\u001b[39m\u001b[38;5;132;01m%s\u001b[39;00m\u001b[38;5;124m, error=\u001b[39m\u001b[38;5;132;01m%s\u001b[39;00m\u001b[38;5;124m, data=\u001b[39m\u001b[38;5;132;01m%s\u001b[39;00m\u001b[38;5;124m, headers=\u001b[39m\u001b[38;5;132;01m%s\u001b[39;00m\u001b[38;5;124m\"\u001b[39m,\n\u001b[1;32m     96\u001b[0m                  method, url, status, error, data, headers)\n\u001b[0;32m---> 97\u001b[0m \u001b[38;5;28;01mreturn\u001b[39;00m \u001b[38;5;28;43msuper\u001b[39;49m\u001b[43m(\u001b[49m\u001b[43m)\u001b[49m\u001b[38;5;241;43m.\u001b[39;49m\u001b[43mincrement\u001b[49m\u001b[43m(\u001b[49m\u001b[43mmethod\u001b[49m\u001b[38;5;241;43m=\u001b[39;49m\u001b[43mmethod\u001b[49m\u001b[43m,\u001b[49m\u001b[43m \u001b[49m\u001b[43murl\u001b[49m\u001b[38;5;241;43m=\u001b[39;49m\u001b[43murl\u001b[49m\u001b[43m,\u001b[49m\u001b[43m \u001b[49m\u001b[43mresponse\u001b[49m\u001b[38;5;241;43m=\u001b[39;49m\u001b[43mresponse\u001b[49m\u001b[43m,\u001b[49m\n\u001b[1;32m     98\u001b[0m \u001b[43m                         \u001b[49m\u001b[43merror\u001b[49m\u001b[38;5;241;43m=\u001b[39;49m\u001b[43merror\u001b[49m\u001b[43m,\u001b[49m\u001b[43m \u001b[49m\u001b[43m_pool\u001b[49m\u001b[38;5;241;43m=\u001b[39;49m\u001b[43m_pool\u001b[49m\u001b[43m,\u001b[49m\u001b[43m \u001b[49m\u001b[43m_stacktrace\u001b[49m\u001b[38;5;241;43m=\u001b[39;49m\u001b[43m_stacktrace\u001b[49m\u001b[43m)\u001b[49m\n",
      "File \u001b[0;32m~/opt/anaconda3/envs/vcg2/lib/python3.9/site-packages/urllib3/util/retry.py:592\u001b[0m, in \u001b[0;36mRetry.increment\u001b[0;34m(self, method, url, response, error, _pool, _stacktrace)\u001b[0m\n\u001b[1;32m    591\u001b[0m \u001b[38;5;28;01mif\u001b[39;00m new_retry\u001b[38;5;241m.\u001b[39mis_exhausted():\n\u001b[0;32m--> 592\u001b[0m     \u001b[38;5;28;01mraise\u001b[39;00m MaxRetryError(_pool, url, error \u001b[38;5;129;01mor\u001b[39;00m ResponseError(cause))\n\u001b[1;32m    594\u001b[0m log\u001b[38;5;241m.\u001b[39mdebug(\u001b[38;5;124m\"\u001b[39m\u001b[38;5;124mIncremented Retry for (url=\u001b[39m\u001b[38;5;124m'\u001b[39m\u001b[38;5;132;01m%s\u001b[39;00m\u001b[38;5;124m'\u001b[39m\u001b[38;5;124m): \u001b[39m\u001b[38;5;132;01m%r\u001b[39;00m\u001b[38;5;124m\"\u001b[39m, url, new_retry)\n",
      "\u001b[0;31mMaxRetryError\u001b[0m: HTTPSConnectionPool(host='api-qcon.quantum-computing.ibm.com', port=443): Max retries exceeded with url: /api/Network/ibm-q-research-2/Groups/uni-south-cali-1/Projects/main/Jobs/62725103d03f90005b684f51/status/v/1 (Caused by ConnectTimeoutError(<urllib3.connection.HTTPSConnection object at 0x7fcc81f57850>, 'Connection to api-qcon.quantum-computing.ibm.com timed out. (connect timeout=5.0)'))",
      "\nDuring handling of the above exception, another exception occurred:\n",
      "\u001b[0;31mConnectTimeout\u001b[0m                            Traceback (most recent call last)",
      "File \u001b[0;32m~/opt/anaconda3/envs/vcg2/lib/python3.9/site-packages/qiskit/providers/ibmq/api/session.py:277\u001b[0m, in \u001b[0;36mRetrySession.request\u001b[0;34m(self, method, url, bare, **kwargs)\u001b[0m\n\u001b[1;32m    276\u001b[0m \u001b[38;5;28mself\u001b[39m\u001b[38;5;241m.\u001b[39m_log_request_info(url, method, kwargs)\n\u001b[0;32m--> 277\u001b[0m response \u001b[38;5;241m=\u001b[39m \u001b[38;5;28;43msuper\u001b[39;49m\u001b[43m(\u001b[49m\u001b[43m)\u001b[49m\u001b[38;5;241;43m.\u001b[39;49m\u001b[43mrequest\u001b[49m\u001b[43m(\u001b[49m\u001b[43mmethod\u001b[49m\u001b[43m,\u001b[49m\u001b[43m \u001b[49m\u001b[43mfinal_url\u001b[49m\u001b[43m,\u001b[49m\u001b[43m \u001b[49m\u001b[43mheaders\u001b[49m\u001b[38;5;241;43m=\u001b[39;49m\u001b[43mheaders\u001b[49m\u001b[43m,\u001b[49m\u001b[43m \u001b[49m\u001b[38;5;241;43m*\u001b[39;49m\u001b[38;5;241;43m*\u001b[39;49m\u001b[43mkwargs\u001b[49m\u001b[43m)\u001b[49m\n\u001b[1;32m    278\u001b[0m response\u001b[38;5;241m.\u001b[39mraise_for_status()\n",
      "File \u001b[0;32m~/opt/anaconda3/envs/vcg2/lib/python3.9/site-packages/requests/sessions.py:529\u001b[0m, in \u001b[0;36mSession.request\u001b[0;34m(self, method, url, params, data, headers, cookies, files, auth, timeout, allow_redirects, proxies, hooks, stream, verify, cert, json)\u001b[0m\n\u001b[1;32m    528\u001b[0m send_kwargs\u001b[38;5;241m.\u001b[39mupdate(settings)\n\u001b[0;32m--> 529\u001b[0m resp \u001b[38;5;241m=\u001b[39m \u001b[38;5;28;43mself\u001b[39;49m\u001b[38;5;241;43m.\u001b[39;49m\u001b[43msend\u001b[49m\u001b[43m(\u001b[49m\u001b[43mprep\u001b[49m\u001b[43m,\u001b[49m\u001b[43m \u001b[49m\u001b[38;5;241;43m*\u001b[39;49m\u001b[38;5;241;43m*\u001b[39;49m\u001b[43msend_kwargs\u001b[49m\u001b[43m)\u001b[49m\n\u001b[1;32m    531\u001b[0m \u001b[38;5;28;01mreturn\u001b[39;00m resp\n",
      "File \u001b[0;32m~/opt/anaconda3/envs/vcg2/lib/python3.9/site-packages/requests/sessions.py:645\u001b[0m, in \u001b[0;36mSession.send\u001b[0;34m(self, request, **kwargs)\u001b[0m\n\u001b[1;32m    644\u001b[0m \u001b[38;5;66;03m# Send the request\u001b[39;00m\n\u001b[0;32m--> 645\u001b[0m r \u001b[38;5;241m=\u001b[39m \u001b[43madapter\u001b[49m\u001b[38;5;241;43m.\u001b[39;49m\u001b[43msend\u001b[49m\u001b[43m(\u001b[49m\u001b[43mrequest\u001b[49m\u001b[43m,\u001b[49m\u001b[43m \u001b[49m\u001b[38;5;241;43m*\u001b[39;49m\u001b[38;5;241;43m*\u001b[39;49m\u001b[43mkwargs\u001b[49m\u001b[43m)\u001b[49m\n\u001b[1;32m    647\u001b[0m \u001b[38;5;66;03m# Total elapsed time of the request (approximately)\u001b[39;00m\n",
      "File \u001b[0;32m~/opt/anaconda3/envs/vcg2/lib/python3.9/site-packages/requests/adapters.py:507\u001b[0m, in \u001b[0;36mHTTPAdapter.send\u001b[0;34m(self, request, stream, timeout, verify, cert, proxies)\u001b[0m\n\u001b[1;32m    506\u001b[0m     \u001b[38;5;28;01mif\u001b[39;00m \u001b[38;5;129;01mnot\u001b[39;00m \u001b[38;5;28misinstance\u001b[39m(e\u001b[38;5;241m.\u001b[39mreason, NewConnectionError):\n\u001b[0;32m--> 507\u001b[0m         \u001b[38;5;28;01mraise\u001b[39;00m ConnectTimeout(e, request\u001b[38;5;241m=\u001b[39mrequest)\n\u001b[1;32m    509\u001b[0m \u001b[38;5;28;01mif\u001b[39;00m \u001b[38;5;28misinstance\u001b[39m(e\u001b[38;5;241m.\u001b[39mreason, ResponseError):\n",
      "\u001b[0;31mConnectTimeout\u001b[0m: HTTPSConnectionPool(host='api-qcon.quantum-computing.ibm.com', port=443): Max retries exceeded with url: /api/Network/ibm-q-research-2/Groups/uni-south-cali-1/Projects/main/Jobs/62725103d03f90005b684f51/status/v/1 (Caused by ConnectTimeoutError(<urllib3.connection.HTTPSConnection object at 0x7fcc81f57850>, 'Connection to api-qcon.quantum-computing.ibm.com timed out. (connect timeout=5.0)'))",
      "\nThe above exception was the direct cause of the following exception:\n",
      "\u001b[0;31mRequestsApiError\u001b[0m                          Traceback (most recent call last)",
      "File \u001b[0;32m~/opt/anaconda3/envs/vcg2/lib/python3.9/site-packages/qiskit/providers/ibmq/job/ibmqjob.py:911\u001b[0m, in \u001b[0;36mIBMQJob._wait_for_completion\u001b[0;34m(self, timeout, wait, required_status, status_queue)\u001b[0m\n\u001b[1;32m    910\u001b[0m \u001b[38;5;28;01mtry\u001b[39;00m:\n\u001b[0;32m--> 911\u001b[0m     status_response \u001b[38;5;241m=\u001b[39m \u001b[38;5;28;43mself\u001b[39;49m\u001b[38;5;241;43m.\u001b[39;49m\u001b[43m_api_client\u001b[49m\u001b[38;5;241;43m.\u001b[39;49m\u001b[43mjob_final_status\u001b[49m\u001b[43m(\u001b[49m\n\u001b[1;32m    912\u001b[0m \u001b[43m        \u001b[49m\u001b[38;5;28;43mself\u001b[39;49m\u001b[38;5;241;43m.\u001b[39;49m\u001b[43mjob_id\u001b[49m\u001b[43m(\u001b[49m\u001b[43m)\u001b[49m\u001b[43m,\u001b[49m\u001b[43m \u001b[49m\u001b[43mtimeout\u001b[49m\u001b[38;5;241;43m=\u001b[39;49m\u001b[43mtimeout\u001b[49m\u001b[43m,\u001b[49m\u001b[43m \u001b[49m\u001b[43mwait\u001b[49m\u001b[38;5;241;43m=\u001b[39;49m\u001b[43mwait\u001b[49m\u001b[43m,\u001b[49m\u001b[43m \u001b[49m\u001b[43mstatus_queue\u001b[49m\u001b[38;5;241;43m=\u001b[39;49m\u001b[43mstatus_queue\u001b[49m\u001b[43m)\u001b[49m\n\u001b[1;32m    913\u001b[0m \u001b[38;5;28;01mexcept\u001b[39;00m UserTimeoutExceededError:\n",
      "File \u001b[0;32m~/opt/anaconda3/envs/vcg2/lib/python3.9/site-packages/qiskit/providers/ibmq/api/clients/account.py:376\u001b[0m, in \u001b[0;36mAccountClient.job_final_status\u001b[0;34m(self, job_id, timeout, wait, status_queue)\u001b[0m\n\u001b[1;32m    374\u001b[0m \u001b[38;5;28;01mif\u001b[39;00m \u001b[38;5;129;01mnot\u001b[39;00m status_response:\n\u001b[1;32m    375\u001b[0m     \u001b[38;5;66;03m# Use traditional http requests if websocket not available or failed.\u001b[39;00m\n\u001b[0;32m--> 376\u001b[0m     status_response \u001b[38;5;241m=\u001b[39m \u001b[38;5;28;43mself\u001b[39;49m\u001b[38;5;241;43m.\u001b[39;49m\u001b[43m_job_final_status_polling\u001b[49m\u001b[43m(\u001b[49m\n\u001b[1;32m    377\u001b[0m \u001b[43m        \u001b[49m\u001b[43mjob_id\u001b[49m\u001b[43m,\u001b[49m\u001b[43m \u001b[49m\u001b[43mtimeout\u001b[49m\u001b[43m,\u001b[49m\u001b[43m \u001b[49m\u001b[43mwait\u001b[49m\u001b[43m,\u001b[49m\u001b[43m \u001b[49m\u001b[43mstatus_queue\u001b[49m\u001b[43m)\u001b[49m\n\u001b[1;32m    379\u001b[0m \u001b[38;5;28;01mreturn\u001b[39;00m status_response\n",
      "File \u001b[0;32m~/opt/anaconda3/envs/vcg2/lib/python3.9/site-packages/qiskit/providers/ibmq/api/clients/account.py:441\u001b[0m, in \u001b[0;36mAccountClient._job_final_status_polling\u001b[0;34m(self, job_id, timeout, wait, status_queue)\u001b[0m\n\u001b[1;32m    440\u001b[0m start_time \u001b[38;5;241m=\u001b[39m time\u001b[38;5;241m.\u001b[39mtime()\n\u001b[0;32m--> 441\u001b[0m status_response \u001b[38;5;241m=\u001b[39m \u001b[38;5;28;43mself\u001b[39;49m\u001b[38;5;241;43m.\u001b[39;49m\u001b[43mjob_status\u001b[49m\u001b[43m(\u001b[49m\u001b[43mjob_id\u001b[49m\u001b[43m)\u001b[49m\n\u001b[1;32m    442\u001b[0m \u001b[38;5;28;01mwhile\u001b[39;00m ApiJobStatus(status_response[\u001b[38;5;124m'\u001b[39m\u001b[38;5;124mstatus\u001b[39m\u001b[38;5;124m'\u001b[39m]) \u001b[38;5;129;01mnot\u001b[39;00m \u001b[38;5;129;01min\u001b[39;00m API_JOB_FINAL_STATES:\n\u001b[1;32m    443\u001b[0m     \u001b[38;5;66;03m# Share the new status.\u001b[39;00m\n",
      "File \u001b[0;32m~/opt/anaconda3/envs/vcg2/lib/python3.9/site-packages/qiskit/providers/ibmq/api/clients/account.py:332\u001b[0m, in \u001b[0;36mAccountClient.job_status\u001b[0;34m(self, job_id)\u001b[0m\n\u001b[1;32m    321\u001b[0m \u001b[38;5;124;03m\"\"\"Return the status of the job.\u001b[39;00m\n\u001b[1;32m    322\u001b[0m \n\u001b[1;32m    323\u001b[0m \u001b[38;5;124;03mArgs:\u001b[39;00m\n\u001b[0;32m   (...)\u001b[0m\n\u001b[1;32m    330\u001b[0m \u001b[38;5;124;03m    ApiIBMQProtocolError: If unexpected data is received from the server.\u001b[39;00m\n\u001b[1;32m    331\u001b[0m \u001b[38;5;124;03m\"\"\"\u001b[39;00m\n\u001b[0;32m--> 332\u001b[0m \u001b[38;5;28;01mreturn\u001b[39;00m \u001b[38;5;28;43mself\u001b[39;49m\u001b[38;5;241;43m.\u001b[39;49m\u001b[43maccount_api\u001b[49m\u001b[38;5;241;43m.\u001b[39;49m\u001b[43mjob\u001b[49m\u001b[43m(\u001b[49m\u001b[43mjob_id\u001b[49m\u001b[43m)\u001b[49m\u001b[38;5;241;43m.\u001b[39;49m\u001b[43mstatus\u001b[49m\u001b[43m(\u001b[49m\u001b[43m)\u001b[49m\n",
      "File \u001b[0;32m~/opt/anaconda3/envs/vcg2/lib/python3.9/site-packages/qiskit/providers/ibmq/api/rest/job.py:160\u001b[0m, in \u001b[0;36mJob.status\u001b[0;34m(self)\u001b[0m\n\u001b[1;32m    159\u001b[0m url \u001b[38;5;241m=\u001b[39m \u001b[38;5;28mself\u001b[39m\u001b[38;5;241m.\u001b[39mget_url(\u001b[38;5;124m'\u001b[39m\u001b[38;5;124mstatus\u001b[39m\u001b[38;5;124m'\u001b[39m)\n\u001b[0;32m--> 160\u001b[0m raw_response \u001b[38;5;241m=\u001b[39m \u001b[38;5;28;43mself\u001b[39;49m\u001b[38;5;241;43m.\u001b[39;49m\u001b[43msession\u001b[49m\u001b[38;5;241;43m.\u001b[39;49m\u001b[43mget\u001b[49m\u001b[43m(\u001b[49m\u001b[43murl\u001b[49m\u001b[43m)\u001b[49m\n\u001b[1;32m    161\u001b[0m \u001b[38;5;28;01mtry\u001b[39;00m:\n",
      "File \u001b[0;32m~/opt/anaconda3/envs/vcg2/lib/python3.9/site-packages/requests/sessions.py:542\u001b[0m, in \u001b[0;36mSession.get\u001b[0;34m(self, url, **kwargs)\u001b[0m\n\u001b[1;32m    541\u001b[0m kwargs\u001b[38;5;241m.\u001b[39msetdefault(\u001b[38;5;124m'\u001b[39m\u001b[38;5;124mallow_redirects\u001b[39m\u001b[38;5;124m'\u001b[39m, \u001b[38;5;28;01mTrue\u001b[39;00m)\n\u001b[0;32m--> 542\u001b[0m \u001b[38;5;28;01mreturn\u001b[39;00m \u001b[38;5;28;43mself\u001b[39;49m\u001b[38;5;241;43m.\u001b[39;49m\u001b[43mrequest\u001b[49m\u001b[43m(\u001b[49m\u001b[38;5;124;43m'\u001b[39;49m\u001b[38;5;124;43mGET\u001b[39;49m\u001b[38;5;124;43m'\u001b[39;49m\u001b[43m,\u001b[49m\u001b[43m \u001b[49m\u001b[43murl\u001b[49m\u001b[43m,\u001b[49m\u001b[43m \u001b[49m\u001b[38;5;241;43m*\u001b[39;49m\u001b[38;5;241;43m*\u001b[39;49m\u001b[43mkwargs\u001b[49m\u001b[43m)\u001b[49m\n",
      "File \u001b[0;32m~/opt/anaconda3/envs/vcg2/lib/python3.9/site-packages/qiskit/providers/ibmq/api/session.py:300\u001b[0m, in \u001b[0;36mRetrySession.request\u001b[0;34m(self, method, url, bare, **kwargs)\u001b[0m\n\u001b[1;32m    298\u001b[0m         \u001b[38;5;28mself\u001b[39m\u001b[38;5;241m.\u001b[39m_modify_chained_exception_messages(ex)\n\u001b[0;32m--> 300\u001b[0m     \u001b[38;5;28;01mraise\u001b[39;00m RequestsApiError(message, status_code) \u001b[38;5;28;01mfrom\u001b[39;00m \u001b[38;5;21;01mex\u001b[39;00m\n\u001b[1;32m    302\u001b[0m \u001b[38;5;28;01mreturn\u001b[39;00m response\n",
      "\u001b[0;31mRequestsApiError\u001b[0m: \"HTTPSConnectionPool(host='api-qcon.quantum-computing.ibm.com', port=443): Max retries exceeded with url: /api/Network/ibm-q-research-2/Groups/uni-south-cali-1/Projects/main/Jobs/62725103d03f90005b684f51/status/v/1 (Caused by ConnectTimeoutError(<urllib3.connection.HTTPSConnection object at 0x7fcc81f57850>, 'Connection to api-qcon.quantum-computing.ibm.com timed out. (connect timeout=5.0)'))\"",
      "\nThe above exception was the direct cause of the following exception:\n",
      "\u001b[0;31mIBMQJobApiError\u001b[0m                           Traceback (most recent call last)",
      "Input \u001b[0;32mIn [684]\u001b[0m, in \u001b[0;36m<module>\u001b[0;34m\u001b[0m\n\u001b[1;32m      3\u001b[0m cost \u001b[38;5;241m=\u001b[39m \u001b[38;5;28;01mlambda\u001b[39;00m angles: compute_msl_shot_and_ideal_cost(angles, ansatz, rho_prep_circ, rho, rp, u_qubits, udg_qubits, \n\u001b[1;32m      4\u001b[0m                                                       ghz_qubits, n, nb, backend, \u001b[38;5;28;01mTrue\u001b[39;00m, shot_cost, exact_cost)\n\u001b[1;32m      5\u001b[0m x0 \u001b[38;5;241m=\u001b[39m np\u001b[38;5;241m.\u001b[39mrandom\u001b[38;5;241m.\u001b[39mnormal(size\u001b[38;5;241m=\u001b[39m\u001b[38;5;241m4\u001b[39m) \u001b[38;5;241m%\u001b[39m (\u001b[38;5;241m2\u001b[39m \u001b[38;5;241m*\u001b[39m np\u001b[38;5;241m.\u001b[39mpi)\n\u001b[0;32m----> 6\u001b[0m result \u001b[38;5;241m=\u001b[39m \u001b[43mscipy\u001b[49m\u001b[38;5;241;43m.\u001b[39;49m\u001b[43moptimize\u001b[49m\u001b[38;5;241;43m.\u001b[39;49m\u001b[43mminimize\u001b[49m\u001b[43m(\u001b[49m\u001b[43mcost\u001b[49m\u001b[43m,\u001b[49m\u001b[43m \u001b[49m\u001b[43mx0\u001b[49m\u001b[43m,\u001b[49m\u001b[43m \u001b[49m\u001b[43mmethod\u001b[49m\u001b[38;5;241;43m=\u001b[39;49m\u001b[38;5;124;43m\"\u001b[39;49m\u001b[38;5;124;43mPowell\u001b[39;49m\u001b[38;5;124;43m\"\u001b[39;49m\u001b[43m)\u001b[49m\n",
      "File \u001b[0;32m~/opt/anaconda3/envs/vcg2/lib/python3.9/site-packages/scipy/optimize/_minimize.py:614\u001b[0m, in \u001b[0;36mminimize\u001b[0;34m(fun, x0, args, method, jac, hess, hessp, bounds, constraints, tol, callback, options)\u001b[0m\n\u001b[1;32m    611\u001b[0m     \u001b[38;5;28;01mreturn\u001b[39;00m _minimize_neldermead(fun, x0, args, callback, bounds\u001b[38;5;241m=\u001b[39mbounds,\n\u001b[1;32m    612\u001b[0m                                 \u001b[38;5;241m*\u001b[39m\u001b[38;5;241m*\u001b[39moptions)\n\u001b[1;32m    613\u001b[0m \u001b[38;5;28;01melif\u001b[39;00m meth \u001b[38;5;241m==\u001b[39m \u001b[38;5;124m'\u001b[39m\u001b[38;5;124mpowell\u001b[39m\u001b[38;5;124m'\u001b[39m:\n\u001b[0;32m--> 614\u001b[0m     \u001b[38;5;28;01mreturn\u001b[39;00m \u001b[43m_minimize_powell\u001b[49m\u001b[43m(\u001b[49m\u001b[43mfun\u001b[49m\u001b[43m,\u001b[49m\u001b[43m \u001b[49m\u001b[43mx0\u001b[49m\u001b[43m,\u001b[49m\u001b[43m \u001b[49m\u001b[43margs\u001b[49m\u001b[43m,\u001b[49m\u001b[43m \u001b[49m\u001b[43mcallback\u001b[49m\u001b[43m,\u001b[49m\u001b[43m \u001b[49m\u001b[43mbounds\u001b[49m\u001b[43m,\u001b[49m\u001b[43m \u001b[49m\u001b[38;5;241;43m*\u001b[39;49m\u001b[38;5;241;43m*\u001b[39;49m\u001b[43moptions\u001b[49m\u001b[43m)\u001b[49m\n\u001b[1;32m    615\u001b[0m \u001b[38;5;28;01melif\u001b[39;00m meth \u001b[38;5;241m==\u001b[39m \u001b[38;5;124m'\u001b[39m\u001b[38;5;124mcg\u001b[39m\u001b[38;5;124m'\u001b[39m:\n\u001b[1;32m    616\u001b[0m     \u001b[38;5;28;01mreturn\u001b[39;00m _minimize_cg(fun, x0, args, jac, callback, \u001b[38;5;241m*\u001b[39m\u001b[38;5;241m*\u001b[39moptions)\n",
      "File \u001b[0;32m~/opt/anaconda3/envs/vcg2/lib/python3.9/site-packages/scipy/optimize/optimize.py:3031\u001b[0m, in \u001b[0;36m_minimize_powell\u001b[0;34m(func, x0, args, callback, bounds, xtol, ftol, maxiter, maxfev, disp, direc, return_all, **unknown_options)\u001b[0m\n\u001b[1;32m   3029\u001b[0m direc1 \u001b[38;5;241m=\u001b[39m direc[i]\n\u001b[1;32m   3030\u001b[0m fx2 \u001b[38;5;241m=\u001b[39m fval\n\u001b[0;32m-> 3031\u001b[0m fval, x, direc1 \u001b[38;5;241m=\u001b[39m \u001b[43m_linesearch_powell\u001b[49m\u001b[43m(\u001b[49m\u001b[43mfunc\u001b[49m\u001b[43m,\u001b[49m\u001b[43m \u001b[49m\u001b[43mx\u001b[49m\u001b[43m,\u001b[49m\u001b[43m \u001b[49m\u001b[43mdirec1\u001b[49m\u001b[43m,\u001b[49m\n\u001b[1;32m   3032\u001b[0m \u001b[43m                                     \u001b[49m\u001b[43mtol\u001b[49m\u001b[38;5;241;43m=\u001b[39;49m\u001b[43mxtol\u001b[49m\u001b[43m \u001b[49m\u001b[38;5;241;43m*\u001b[39;49m\u001b[43m \u001b[49m\u001b[38;5;241;43m100\u001b[39;49m\u001b[43m,\u001b[49m\n\u001b[1;32m   3033\u001b[0m \u001b[43m                                     \u001b[49m\u001b[43mlower_bound\u001b[49m\u001b[38;5;241;43m=\u001b[39;49m\u001b[43mlower_bound\u001b[49m\u001b[43m,\u001b[49m\n\u001b[1;32m   3034\u001b[0m \u001b[43m                                     \u001b[49m\u001b[43mupper_bound\u001b[49m\u001b[38;5;241;43m=\u001b[39;49m\u001b[43mupper_bound\u001b[49m\u001b[43m,\u001b[49m\n\u001b[1;32m   3035\u001b[0m \u001b[43m                                     \u001b[49m\u001b[43mfval\u001b[49m\u001b[38;5;241;43m=\u001b[39;49m\u001b[43mfval\u001b[49m\u001b[43m)\u001b[49m\n\u001b[1;32m   3036\u001b[0m \u001b[38;5;28;01mif\u001b[39;00m (fx2 \u001b[38;5;241m-\u001b[39m fval) \u001b[38;5;241m>\u001b[39m delta:\n\u001b[1;32m   3037\u001b[0m     delta \u001b[38;5;241m=\u001b[39m fx2 \u001b[38;5;241m-\u001b[39m fval\n",
      "File \u001b[0;32m~/opt/anaconda3/envs/vcg2/lib/python3.9/site-packages/scipy/optimize/optimize.py:2762\u001b[0m, in \u001b[0;36m_linesearch_powell\u001b[0;34m(func, p, xi, tol, lower_bound, upper_bound, fval)\u001b[0m\n\u001b[1;32m   2759\u001b[0m     \u001b[38;5;28;01mreturn\u001b[39;00m ((fval, p, xi) \u001b[38;5;28;01mif\u001b[39;00m fval \u001b[38;5;129;01mis\u001b[39;00m \u001b[38;5;129;01mnot\u001b[39;00m \u001b[38;5;28;01mNone\u001b[39;00m \u001b[38;5;28;01melse\u001b[39;00m (func(p), p, xi))\n\u001b[1;32m   2760\u001b[0m \u001b[38;5;28;01melif\u001b[39;00m lower_bound \u001b[38;5;129;01mis\u001b[39;00m \u001b[38;5;28;01mNone\u001b[39;00m \u001b[38;5;129;01mand\u001b[39;00m upper_bound \u001b[38;5;129;01mis\u001b[39;00m \u001b[38;5;28;01mNone\u001b[39;00m:\n\u001b[1;32m   2761\u001b[0m     \u001b[38;5;66;03m# non-bounded minimization\u001b[39;00m\n\u001b[0;32m-> 2762\u001b[0m     alpha_min, fret, _, _ \u001b[38;5;241m=\u001b[39m \u001b[43mbrent\u001b[49m\u001b[43m(\u001b[49m\u001b[43mmyfunc\u001b[49m\u001b[43m,\u001b[49m\u001b[43m \u001b[49m\u001b[43mfull_output\u001b[49m\u001b[38;5;241;43m=\u001b[39;49m\u001b[38;5;241;43m1\u001b[39;49m\u001b[43m,\u001b[49m\u001b[43m \u001b[49m\u001b[43mtol\u001b[49m\u001b[38;5;241;43m=\u001b[39;49m\u001b[43mtol\u001b[49m\u001b[43m)\u001b[49m\n\u001b[1;32m   2763\u001b[0m     xi \u001b[38;5;241m=\u001b[39m alpha_min \u001b[38;5;241m*\u001b[39m xi\n\u001b[1;32m   2764\u001b[0m     \u001b[38;5;28;01mreturn\u001b[39;00m squeeze(fret), p \u001b[38;5;241m+\u001b[39m xi, xi\n",
      "File \u001b[0;32m~/opt/anaconda3/envs/vcg2/lib/python3.9/site-packages/scipy/optimize/optimize.py:2364\u001b[0m, in \u001b[0;36mbrent\u001b[0;34m(func, args, brack, tol, full_output, maxiter)\u001b[0m\n\u001b[1;32m   2293\u001b[0m \u001b[38;5;124;03m\"\"\"\u001b[39;00m\n\u001b[1;32m   2294\u001b[0m \u001b[38;5;124;03mGiven a function of one variable and a possible bracket, return\u001b[39;00m\n\u001b[1;32m   2295\u001b[0m \u001b[38;5;124;03mthe local minimum of the function isolated to a fractional precision\u001b[39;00m\n\u001b[0;32m   (...)\u001b[0m\n\u001b[1;32m   2360\u001b[0m \n\u001b[1;32m   2361\u001b[0m \u001b[38;5;124;03m\"\"\"\u001b[39;00m\n\u001b[1;32m   2362\u001b[0m options \u001b[38;5;241m=\u001b[39m {\u001b[38;5;124m'\u001b[39m\u001b[38;5;124mxtol\u001b[39m\u001b[38;5;124m'\u001b[39m: tol,\n\u001b[1;32m   2363\u001b[0m            \u001b[38;5;124m'\u001b[39m\u001b[38;5;124mmaxiter\u001b[39m\u001b[38;5;124m'\u001b[39m: maxiter}\n\u001b[0;32m-> 2364\u001b[0m res \u001b[38;5;241m=\u001b[39m \u001b[43m_minimize_scalar_brent\u001b[49m\u001b[43m(\u001b[49m\u001b[43mfunc\u001b[49m\u001b[43m,\u001b[49m\u001b[43m \u001b[49m\u001b[43mbrack\u001b[49m\u001b[43m,\u001b[49m\u001b[43m \u001b[49m\u001b[43margs\u001b[49m\u001b[43m,\u001b[49m\u001b[43m \u001b[49m\u001b[38;5;241;43m*\u001b[39;49m\u001b[38;5;241;43m*\u001b[39;49m\u001b[43moptions\u001b[49m\u001b[43m)\u001b[49m\n\u001b[1;32m   2365\u001b[0m \u001b[38;5;28;01mif\u001b[39;00m full_output:\n\u001b[1;32m   2366\u001b[0m     \u001b[38;5;28;01mreturn\u001b[39;00m res[\u001b[38;5;124m'\u001b[39m\u001b[38;5;124mx\u001b[39m\u001b[38;5;124m'\u001b[39m], res[\u001b[38;5;124m'\u001b[39m\u001b[38;5;124mfun\u001b[39m\u001b[38;5;124m'\u001b[39m], res[\u001b[38;5;124m'\u001b[39m\u001b[38;5;124mnit\u001b[39m\u001b[38;5;124m'\u001b[39m], res[\u001b[38;5;124m'\u001b[39m\u001b[38;5;124mnfev\u001b[39m\u001b[38;5;124m'\u001b[39m]\n",
      "File \u001b[0;32m~/opt/anaconda3/envs/vcg2/lib/python3.9/site-packages/scipy/optimize/optimize.py:2396\u001b[0m, in \u001b[0;36m_minimize_scalar_brent\u001b[0;34m(func, brack, args, xtol, maxiter, **unknown_options)\u001b[0m\n\u001b[1;32m   2393\u001b[0m brent \u001b[38;5;241m=\u001b[39m Brent(func\u001b[38;5;241m=\u001b[39mfunc, args\u001b[38;5;241m=\u001b[39margs, tol\u001b[38;5;241m=\u001b[39mtol,\n\u001b[1;32m   2394\u001b[0m               full_output\u001b[38;5;241m=\u001b[39m\u001b[38;5;28;01mTrue\u001b[39;00m, maxiter\u001b[38;5;241m=\u001b[39mmaxiter)\n\u001b[1;32m   2395\u001b[0m brent\u001b[38;5;241m.\u001b[39mset_bracket(brack)\n\u001b[0;32m-> 2396\u001b[0m \u001b[43mbrent\u001b[49m\u001b[38;5;241;43m.\u001b[39;49m\u001b[43moptimize\u001b[49m\u001b[43m(\u001b[49m\u001b[43m)\u001b[49m\n\u001b[1;32m   2397\u001b[0m x, fval, nit, nfev \u001b[38;5;241m=\u001b[39m brent\u001b[38;5;241m.\u001b[39mget_result(full_output\u001b[38;5;241m=\u001b[39m\u001b[38;5;28;01mTrue\u001b[39;00m)\n\u001b[1;32m   2399\u001b[0m success \u001b[38;5;241m=\u001b[39m nit \u001b[38;5;241m<\u001b[39m maxiter \u001b[38;5;129;01mand\u001b[39;00m \u001b[38;5;129;01mnot\u001b[39;00m (np\u001b[38;5;241m.\u001b[39misnan(x) \u001b[38;5;129;01mor\u001b[39;00m np\u001b[38;5;241m.\u001b[39misnan(fval))\n",
      "File \u001b[0;32m~/opt/anaconda3/envs/vcg2/lib/python3.9/site-packages/scipy/optimize/optimize.py:2180\u001b[0m, in \u001b[0;36mBrent.optimize\u001b[0;34m(self)\u001b[0m\n\u001b[1;32m   2177\u001b[0m \u001b[38;5;28;01mdef\u001b[39;00m \u001b[38;5;21moptimize\u001b[39m(\u001b[38;5;28mself\u001b[39m):\n\u001b[1;32m   2178\u001b[0m     \u001b[38;5;66;03m# set up for optimization\u001b[39;00m\n\u001b[1;32m   2179\u001b[0m     func \u001b[38;5;241m=\u001b[39m \u001b[38;5;28mself\u001b[39m\u001b[38;5;241m.\u001b[39mfunc\n\u001b[0;32m-> 2180\u001b[0m     xa, xb, xc, fa, fb, fc, funcalls \u001b[38;5;241m=\u001b[39m \u001b[38;5;28;43mself\u001b[39;49m\u001b[38;5;241;43m.\u001b[39;49m\u001b[43mget_bracket_info\u001b[49m\u001b[43m(\u001b[49m\u001b[43m)\u001b[49m\n\u001b[1;32m   2181\u001b[0m     _mintol \u001b[38;5;241m=\u001b[39m \u001b[38;5;28mself\u001b[39m\u001b[38;5;241m.\u001b[39m_mintol\n\u001b[1;32m   2182\u001b[0m     _cg \u001b[38;5;241m=\u001b[39m \u001b[38;5;28mself\u001b[39m\u001b[38;5;241m.\u001b[39m_cg\n",
      "File \u001b[0;32m~/opt/anaconda3/envs/vcg2/lib/python3.9/site-packages/scipy/optimize/optimize.py:2154\u001b[0m, in \u001b[0;36mBrent.get_bracket_info\u001b[0;34m(self)\u001b[0m\n\u001b[1;32m   2151\u001b[0m \u001b[38;5;66;03m### BEGIN core bracket_info code ###\u001b[39;00m\n\u001b[1;32m   2152\u001b[0m \u001b[38;5;66;03m### carefully DOCUMENT any CHANGES in core ##\u001b[39;00m\n\u001b[1;32m   2153\u001b[0m \u001b[38;5;28;01mif\u001b[39;00m brack \u001b[38;5;129;01mis\u001b[39;00m \u001b[38;5;28;01mNone\u001b[39;00m:\n\u001b[0;32m-> 2154\u001b[0m     xa, xb, xc, fa, fb, fc, funcalls \u001b[38;5;241m=\u001b[39m \u001b[43mbracket\u001b[49m\u001b[43m(\u001b[49m\u001b[43mfunc\u001b[49m\u001b[43m,\u001b[49m\u001b[43m \u001b[49m\u001b[43margs\u001b[49m\u001b[38;5;241;43m=\u001b[39;49m\u001b[43margs\u001b[49m\u001b[43m)\u001b[49m\n\u001b[1;32m   2155\u001b[0m \u001b[38;5;28;01melif\u001b[39;00m \u001b[38;5;28mlen\u001b[39m(brack) \u001b[38;5;241m==\u001b[39m \u001b[38;5;241m2\u001b[39m:\n\u001b[1;32m   2156\u001b[0m     xa, xb, xc, fa, fb, fc, funcalls \u001b[38;5;241m=\u001b[39m bracket(func, xa\u001b[38;5;241m=\u001b[39mbrack[\u001b[38;5;241m0\u001b[39m],\n\u001b[1;32m   2157\u001b[0m                                                xb\u001b[38;5;241m=\u001b[39mbrack[\u001b[38;5;241m1\u001b[39m], args\u001b[38;5;241m=\u001b[39margs)\n",
      "File \u001b[0;32m~/opt/anaconda3/envs/vcg2/lib/python3.9/site-packages/scipy/optimize/optimize.py:2604\u001b[0m, in \u001b[0;36mbracket\u001b[0;34m(func, xa, xb, args, grow_limit, maxiter)\u001b[0m\n\u001b[1;32m   2602\u001b[0m _gold \u001b[38;5;241m=\u001b[39m \u001b[38;5;241m1.618034\u001b[39m  \u001b[38;5;66;03m# golden ratio: (1.0+sqrt(5.0))/2.0\u001b[39;00m\n\u001b[1;32m   2603\u001b[0m _verysmall_num \u001b[38;5;241m=\u001b[39m \u001b[38;5;241m1e-21\u001b[39m\n\u001b[0;32m-> 2604\u001b[0m fa \u001b[38;5;241m=\u001b[39m \u001b[43mfunc\u001b[49m\u001b[43m(\u001b[49m\u001b[38;5;241;43m*\u001b[39;49m\u001b[43m(\u001b[49m\u001b[43mxa\u001b[49m\u001b[43m,\u001b[49m\u001b[43m)\u001b[49m\u001b[43m \u001b[49m\u001b[38;5;241;43m+\u001b[39;49m\u001b[43m \u001b[49m\u001b[43margs\u001b[49m\u001b[43m)\u001b[49m\n\u001b[1;32m   2605\u001b[0m fb \u001b[38;5;241m=\u001b[39m func(\u001b[38;5;241m*\u001b[39m(xb,) \u001b[38;5;241m+\u001b[39m args)\n\u001b[1;32m   2606\u001b[0m \u001b[38;5;28;01mif\u001b[39;00m (fa \u001b[38;5;241m<\u001b[39m fb):                      \u001b[38;5;66;03m# Switch so fa > fb\u001b[39;00m\n",
      "File \u001b[0;32m~/opt/anaconda3/envs/vcg2/lib/python3.9/site-packages/scipy/optimize/optimize.py:2755\u001b[0m, in \u001b[0;36m_linesearch_powell.<locals>.myfunc\u001b[0;34m(alpha)\u001b[0m\n\u001b[1;32m   2754\u001b[0m \u001b[38;5;28;01mdef\u001b[39;00m \u001b[38;5;21mmyfunc\u001b[39m(alpha):\n\u001b[0;32m-> 2755\u001b[0m     \u001b[38;5;28;01mreturn\u001b[39;00m \u001b[43mfunc\u001b[49m\u001b[43m(\u001b[49m\u001b[43mp\u001b[49m\u001b[43m \u001b[49m\u001b[38;5;241;43m+\u001b[39;49m\u001b[43m \u001b[49m\u001b[43malpha\u001b[49m\u001b[38;5;241;43m*\u001b[39;49m\u001b[43mxi\u001b[49m\u001b[43m)\u001b[49m\n",
      "File \u001b[0;32m~/opt/anaconda3/envs/vcg2/lib/python3.9/site-packages/scipy/optimize/optimize.py:464\u001b[0m, in \u001b[0;36m_wrap_function.<locals>.function_wrapper\u001b[0;34m(x, *wrapper_args)\u001b[0m\n\u001b[1;32m    462\u001b[0m \u001b[38;5;28;01mdef\u001b[39;00m \u001b[38;5;21mfunction_wrapper\u001b[39m(x, \u001b[38;5;241m*\u001b[39mwrapper_args):\n\u001b[1;32m    463\u001b[0m     ncalls[\u001b[38;5;241m0\u001b[39m] \u001b[38;5;241m+\u001b[39m\u001b[38;5;241m=\u001b[39m \u001b[38;5;241m1\u001b[39m\n\u001b[0;32m--> 464\u001b[0m     \u001b[38;5;28;01mreturn\u001b[39;00m \u001b[43mfunction\u001b[49m\u001b[43m(\u001b[49m\u001b[43mnp\u001b[49m\u001b[38;5;241;43m.\u001b[39;49m\u001b[43mcopy\u001b[49m\u001b[43m(\u001b[49m\u001b[43mx\u001b[49m\u001b[43m)\u001b[49m\u001b[43m,\u001b[49m\u001b[43m \u001b[49m\u001b[38;5;241;43m*\u001b[39;49m\u001b[43m(\u001b[49m\u001b[43mwrapper_args\u001b[49m\u001b[43m \u001b[49m\u001b[38;5;241;43m+\u001b[39;49m\u001b[43m \u001b[49m\u001b[43margs\u001b[49m\u001b[43m)\u001b[49m\u001b[43m)\u001b[49m\n",
      "Input \u001b[0;32mIn [684]\u001b[0m, in \u001b[0;36m<lambda>\u001b[0;34m(angles)\u001b[0m\n\u001b[1;32m      1\u001b[0m shot_cost \u001b[38;5;241m=\u001b[39m []\n\u001b[1;32m      2\u001b[0m exact_cost \u001b[38;5;241m=\u001b[39m []\n\u001b[0;32m----> 3\u001b[0m cost \u001b[38;5;241m=\u001b[39m \u001b[38;5;28;01mlambda\u001b[39;00m angles: \u001b[43mcompute_msl_shot_and_ideal_cost\u001b[49m\u001b[43m(\u001b[49m\u001b[43mangles\u001b[49m\u001b[43m,\u001b[49m\u001b[43m \u001b[49m\u001b[43mansatz\u001b[49m\u001b[43m,\u001b[49m\u001b[43m \u001b[49m\u001b[43mrho_prep_circ\u001b[49m\u001b[43m,\u001b[49m\u001b[43m \u001b[49m\u001b[43mrho\u001b[49m\u001b[43m,\u001b[49m\u001b[43m \u001b[49m\u001b[43mrp\u001b[49m\u001b[43m,\u001b[49m\u001b[43m \u001b[49m\u001b[43mu_qubits\u001b[49m\u001b[43m,\u001b[49m\u001b[43m \u001b[49m\u001b[43mudg_qubits\u001b[49m\u001b[43m,\u001b[49m\u001b[43m \u001b[49m\n\u001b[1;32m      4\u001b[0m \u001b[43m                                                      \u001b[49m\u001b[43mghz_qubits\u001b[49m\u001b[43m,\u001b[49m\u001b[43m \u001b[49m\u001b[43mn\u001b[49m\u001b[43m,\u001b[49m\u001b[43m \u001b[49m\u001b[43mnb\u001b[49m\u001b[43m,\u001b[49m\u001b[43m \u001b[49m\u001b[43mbackend\u001b[49m\u001b[43m,\u001b[49m\u001b[43m \u001b[49m\u001b[38;5;28;43;01mTrue\u001b[39;49;00m\u001b[43m,\u001b[49m\u001b[43m \u001b[49m\u001b[43mshot_cost\u001b[49m\u001b[43m,\u001b[49m\u001b[43m \u001b[49m\u001b[43mexact_cost\u001b[49m\u001b[43m)\u001b[49m\n\u001b[1;32m      5\u001b[0m x0 \u001b[38;5;241m=\u001b[39m np\u001b[38;5;241m.\u001b[39mrandom\u001b[38;5;241m.\u001b[39mnormal(size\u001b[38;5;241m=\u001b[39m\u001b[38;5;241m4\u001b[39m) \u001b[38;5;241m%\u001b[39m (\u001b[38;5;241m2\u001b[39m \u001b[38;5;241m*\u001b[39m np\u001b[38;5;241m.\u001b[39mpi)\n\u001b[1;32m      6\u001b[0m result \u001b[38;5;241m=\u001b[39m scipy\u001b[38;5;241m.\u001b[39moptimize\u001b[38;5;241m.\u001b[39mminimize(cost, x0, method\u001b[38;5;241m=\u001b[39m\u001b[38;5;124m\"\u001b[39m\u001b[38;5;124mPowell\u001b[39m\u001b[38;5;124m\"\u001b[39m)\n",
      "Input \u001b[0;32mIn [571]\u001b[0m, in \u001b[0;36mcompute_msl_shot_and_ideal_cost\u001b[0;34m(pvec, ansatz, rho_prep_circ, rho, rp, u_qubits, udg_qubits, ghz_qubits, n, nb, device, hardware, shot_list, exact_list)\u001b[0m\n\u001b[1;32m     40\u001b[0m     circ_submissions\u001b[38;5;241m.\u001b[39mappend(cross_t_circ)\n\u001b[1;32m     41\u001b[0m job \u001b[38;5;241m=\u001b[39m device\u001b[38;5;241m.\u001b[39msubmit_job(circ_submissions, \u001b[38;5;124m'\u001b[39m\u001b[38;5;124mhardware\u001b[39m\u001b[38;5;124m'\u001b[39m, shots)\n\u001b[0;32m---> 42\u001b[0m result \u001b[38;5;241m=\u001b[39m \u001b[43mjob\u001b[49m\u001b[38;5;241;43m.\u001b[39;49m\u001b[43mresult\u001b[49m\u001b[43m(\u001b[49m\u001b[43m)\u001b[49m\n\u001b[1;32m     43\u001b[0m count_list \u001b[38;5;241m=\u001b[39m result\u001b[38;5;241m.\u001b[39mget_counts()\n\u001b[1;32m     44\u001b[0m \u001b[38;5;66;03m# compute rho purity cost term\u001b[39;00m\n",
      "File \u001b[0;32m~/opt/anaconda3/envs/vcg2/lib/python3.9/site-packages/qiskit/providers/ibmq/job/ibmqjob.py:276\u001b[0m, in \u001b[0;36mIBMQJob.result\u001b[0;34m(self, timeout, wait, partial, refresh)\u001b[0m\n\u001b[1;32m    226\u001b[0m \u001b[38;5;124;03m\"\"\"Return the result of the job.\u001b[39;00m\n\u001b[1;32m    227\u001b[0m \n\u001b[1;32m    228\u001b[0m \u001b[38;5;124;03mNote:\u001b[39;00m\n\u001b[0;32m   (...)\u001b[0m\n\u001b[1;32m    273\u001b[0m \u001b[38;5;124;03m        with the server.\u001b[39;00m\n\u001b[1;32m    274\u001b[0m \u001b[38;5;124;03m\"\"\"\u001b[39;00m\n\u001b[1;32m    275\u001b[0m \u001b[38;5;66;03m# pylint: disable=arguments-differ\u001b[39;00m\n\u001b[0;32m--> 276\u001b[0m \u001b[38;5;28;01mif\u001b[39;00m \u001b[38;5;129;01mnot\u001b[39;00m \u001b[38;5;28;43mself\u001b[39;49m\u001b[38;5;241;43m.\u001b[39;49m\u001b[43m_wait_for_completion\u001b[49m\u001b[43m(\u001b[49m\u001b[43mtimeout\u001b[49m\u001b[38;5;241;43m=\u001b[39;49m\u001b[43mtimeout\u001b[49m\u001b[43m,\u001b[49m\u001b[43m \u001b[49m\u001b[43mwait\u001b[49m\u001b[38;5;241;43m=\u001b[39;49m\u001b[43mwait\u001b[49m\u001b[43m,\u001b[49m\n\u001b[1;32m    277\u001b[0m \u001b[43m                                 \u001b[49m\u001b[43mrequired_status\u001b[49m\u001b[38;5;241;43m=\u001b[39;49m\u001b[43m(\u001b[49m\u001b[43mJobStatus\u001b[49m\u001b[38;5;241;43m.\u001b[39;49m\u001b[43mDONE\u001b[49m\u001b[43m,\u001b[49m\u001b[43m)\u001b[49m\u001b[43m)\u001b[49m:\n\u001b[1;32m    278\u001b[0m     \u001b[38;5;28;01mif\u001b[39;00m \u001b[38;5;28mself\u001b[39m\u001b[38;5;241m.\u001b[39m_status \u001b[38;5;129;01mis\u001b[39;00m JobStatus\u001b[38;5;241m.\u001b[39mCANCELLED:\n\u001b[1;32m    279\u001b[0m         \u001b[38;5;28;01mraise\u001b[39;00m IBMQJobInvalidStateError(\u001b[38;5;124m'\u001b[39m\u001b[38;5;124mUnable to retrieve result for job \u001b[39m\u001b[38;5;132;01m{}\u001b[39;00m\u001b[38;5;124m. \u001b[39m\u001b[38;5;124m'\u001b[39m\n\u001b[1;32m    280\u001b[0m                                        \u001b[38;5;124m'\u001b[39m\u001b[38;5;124mJob was cancelled.\u001b[39m\u001b[38;5;124m'\u001b[39m\u001b[38;5;241m.\u001b[39mformat(\u001b[38;5;28mself\u001b[39m\u001b[38;5;241m.\u001b[39mjob_id()))\n",
      "File \u001b[0;32m~/opt/anaconda3/envs/vcg2/lib/python3.9/site-packages/qiskit/providers/ibmq/job/ibmqjob.py:919\u001b[0m, in \u001b[0;36mIBMQJob._wait_for_completion\u001b[0;34m(self, timeout, wait, required_status, status_queue)\u001b[0m\n\u001b[1;32m    916\u001b[0m \u001b[38;5;28;01mexcept\u001b[39;00m ApiError \u001b[38;5;28;01mas\u001b[39;00m api_err:\n\u001b[1;32m    917\u001b[0m     logger\u001b[38;5;241m.\u001b[39merror(\u001b[38;5;124m'\u001b[39m\u001b[38;5;124mMaximum retries exceeded: \u001b[39m\u001b[38;5;124m'\u001b[39m\n\u001b[1;32m    918\u001b[0m                  \u001b[38;5;124m'\u001b[39m\u001b[38;5;124mError checking job status due to a network error.\u001b[39m\u001b[38;5;124m'\u001b[39m)\n\u001b[0;32m--> 919\u001b[0m     \u001b[38;5;28;01mraise\u001b[39;00m IBMQJobApiError(\u001b[38;5;124m'\u001b[39m\u001b[38;5;124mError checking job status due to a network \u001b[39m\u001b[38;5;124m'\u001b[39m\n\u001b[1;32m    920\u001b[0m                           \u001b[38;5;124m'\u001b[39m\u001b[38;5;124merror: \u001b[39m\u001b[38;5;132;01m{}\u001b[39;00m\u001b[38;5;124m'\u001b[39m\u001b[38;5;241m.\u001b[39mformat(\u001b[38;5;28mstr\u001b[39m(api_err))) \u001b[38;5;28;01mfrom\u001b[39;00m \u001b[38;5;21;01mapi_err\u001b[39;00m\n\u001b[1;32m    922\u001b[0m \u001b[38;5;28mself\u001b[39m\u001b[38;5;241m.\u001b[39m_api_status \u001b[38;5;241m=\u001b[39m status_response[\u001b[38;5;124m'\u001b[39m\u001b[38;5;124mstatus\u001b[39m\u001b[38;5;124m'\u001b[39m]\n\u001b[1;32m    923\u001b[0m \u001b[38;5;28mself\u001b[39m\u001b[38;5;241m.\u001b[39m_status, \u001b[38;5;28mself\u001b[39m\u001b[38;5;241m.\u001b[39m_queue_info \u001b[38;5;241m=\u001b[39m \u001b[38;5;28mself\u001b[39m\u001b[38;5;241m.\u001b[39m_get_status_position(\n\u001b[1;32m    924\u001b[0m     \u001b[38;5;28mself\u001b[39m\u001b[38;5;241m.\u001b[39m_api_status, status_response\u001b[38;5;241m.\u001b[39mget(\u001b[38;5;124m'\u001b[39m\u001b[38;5;124minfo_queue\u001b[39m\u001b[38;5;124m'\u001b[39m, \u001b[38;5;28;01mNone\u001b[39;00m))\n",
      "\u001b[0;31mIBMQJobApiError\u001b[0m: 'Error checking job status due to a network error: \"HTTPSConnectionPool(host=\\'api-qcon.quantum-computing.ibm.com\\', port=443): Max retries exceeded with url: /api/Network/ibm-q-research-2/Groups/uni-south-cali-1/Projects/main/Jobs/62725103d03f90005b684f51/status/v/1 (Caused by ConnectTimeoutError(<urllib3.connection.HTTPSConnection object at 0x7fcc81f57850>, \\'Connection to api-qcon.quantum-computing.ibm.com timed out. (connect timeout=5.0)\\'))\"'"
     ]
    }
   ],
   "source": [
    "shot_cost = []\n",
    "exact_cost = []\n",
    "cost = lambda angles: compute_msl_shot_and_ideal_cost(angles, ansatz, rho_prep_circ, rho, rp, u_qubits, udg_qubits, \n",
    "                                                      ghz_qubits, n, nb, backend, True, shot_cost, exact_cost)\n",
    "x0 = np.random.normal(size=4) % (2 * np.pi)\n",
    "result = scipy.optimize.minimize(cost, x0, method=\"Powell\")"
   ]
  },
  {
   "cell_type": "code",
   "execution_count": 740,
   "id": "e4d47a67-f709-44ba-88b0-1bf3361f0188",
   "metadata": {},
   "outputs": [
    {
     "data": {
      "text/plain": [
       "<matplotlib.legend.Legend at 0x7fccbda64f10>"
      ]
     },
     "execution_count": 740,
     "metadata": {},
     "output_type": "execute_result"
    },
    {
     "data": {
      "image/png": "[encoded data removed]",
      "text/plain": [
       "<Figure size 432x288 with 1 Axes>"
      ]
     },
     "metadata": {
      "needs_background": "light"
     },
     "output_type": "display_data"
    }
   ],
   "source": [
    "plt.plot(get_rolling_mins(sc) + 0.095, label=\"shot cost\")\n",
    "plt.plot(get_rolling_mins(ec), label=\"exact cost\")\n",
    "plt.axhline(compute_optimal_DHS(rho, 1), 0, 10, label=\"ideal\", color=\"g\", linestyle=\"--\")\n",
    "plt.yscale(\"log\")\n",
    "plt.xlabel(r\"$n_{f} / 10$\")\n",
    "plt.ylabel(\"Cost\")\n",
    "plt.legend()"
   ]
  },
  {
   "cell_type": "code",
   "execution_count": 691,
   "id": "99cc0770-701f-47ac-947a-fed170866dbb",
   "metadata": {},
   "outputs": [],
   "source": [
    "sigma = compute_sigma(ansatz.get_parameters(), ansatz, rho_prep_circ, rho, rp, u_qubits, udg_qubits,\n",
    "                      ghz_qubits, n, nb, backend)"
   ]
  },
  {
   "cell_type": "code",
   "execution_count": 710,
   "id": "2974d0c5-a5db-44fe-a2f8-3cdd5f6f5e2d",
   "metadata": {},
   "outputs": [
    {
     "data": {
      "text/plain": [
       "0.025387057141787572"
      ]
     },
     "execution_count": 710,
     "metadata": {},
     "output_type": "execute_result"
    }
   ],
   "source": [
    "np.real(rho.purity() + sigma.purity() - 2 * np.trace(np.matmul(rho, sigma)))"
   ]
  },
  {
   "cell_type": "code",
   "execution_count": 693,
   "id": "867cb0cf-e324-40e1-a9f0-729d9b4a5516",
   "metadata": {},
   "outputs": [
    {
     "data": {
      "text/plain": [
       "0.07281428870042239"
      ]
     },
     "execution_count": 693,
     "metadata": {},
     "output_type": "execute_result"
    }
   ],
   "source": [
    "exact_cost[-1]"
   ]
  },
  {
   "cell_type": "code",
   "execution_count": 728,
   "id": "e30d28de-3a1f-48b9-93ac-b6cc463fa1d4",
   "metadata": {},
   "outputs": [],
   "source": [
    "data_dict = {}\n",
    "data_dict[\"backend\"] = backend\n",
    "data_dict[\"backend_name\"] = backend.backend.name()\n",
    "data_dict[\"rho\"] = rho\n",
    "data_dict[\"rho_circ\"] = rho_prep_circ\n",
    "data_dict[\"sigma\"] = sigma\n",
    "data_dict[\"final_cost\"] = np.real(rho.purity() + sigma.purity() - 2 * np.trace(np.matmul(rho, sigma)))\n",
    "data_dict[\"sigma_ansatz\"] = ansatz\n",
    "data_dict[\"shot_costs\"] = sc\n",
    "data_dict[\"exact_costs\"] = ec\n",
    "data_dict[\"plot_offset\"] = 0.95\n",
    "data_dict[\"window\"] = 10\n",
    "data_dict[\"data\"] = \"4 May 2022\"\n",
    "data_dict[\"optimal_cost\"] = compute_optimal_DHS(rho, 1)\n",
    "\n",
    "fname = \"pickled_runs/belem_1q_hadamard_prep_run_rank1_approx.pkl\"\n",
    "with open(fname, 'wb') as f:\n",
    "    pickle.dump(data_dict, f)"
   ]
  },
  {
   "cell_type": "code",
   "execution_count": 716,
   "id": "4b8fe95c-0ec2-4fa2-b45c-63dd6afe857d",
   "metadata": {},
   "outputs": [],
   "source": [
    "with open(fname, 'rb') as f:\n",
    "    test = pickle.load(f)"
   ]
  },
  {
   "cell_type": "code",
   "execution_count": 697,
   "id": "c03e78d2-266f-42d1-804c-f868c65da0a0",
   "metadata": {},
   "outputs": [],
   "source": [
    "fname = \"csv_runs/belem_1q_hadamard_prep_run_rank1_approx.csv\"\n",
    "with open(fname, 'w') as f:\n",
    "    for j in range(len(exact_cost)):\n",
    "        if j == 0:\n",
    "            line = f\"{shot_cost[j]},{exact_cost[j]}\"\n",
    "        else:\n",
    "            line = f\"\\n{shot_cost[j]},{exact_cost[j]}\"\n",
    "        f.write(line)"
   ]
  },
  {
   "cell_type": "code",
   "execution_count": 726,
   "id": "ecdcd460-8167-4b2b-9415-e4eef5294dd1",
   "metadata": {},
   "outputs": [],
   "source": [
    "sc = []\n",
    "ec = []\n",
    "with open(\"csv_runs/belem_1q_hadamard_prep_run_rank1_approx.csv\", 'r') as f:\n",
    "    for line in f:\n",
    "        sline = line.split(',')\n",
    "        sc.append(float(sline[0]))\n",
    "        ec.append(float(sline[1]))"
   ]
  },
  {
   "cell_type": "code",
   "execution_count": 711,
   "id": "8d4966b2-7044-42da-af87-402154c06a39",
   "metadata": {},
   "outputs": [],
   "source": [
    "def compute_optimal_DHS(rho, R):\n",
    "    \"\"\"\n",
    "    Computes D^*_HS when learning [rho]\n",
    "    with a rank [R] approximation.\n",
    "    \"\"\"\n",
    "    # compute \\lambda's and sort them\n",
    "    lam = np.sort(np.real(np.linalg.eigvals(rho)))\n",
    "    d = len(lam)\n",
    "    # compute lowest d - R lowest and R highest\n",
    "    low_lam = np.array(lam[0:d-R])\n",
    "    high_lam = np.array(lam[d-R:])\n",
    "    N = (1 - np.sum(high_lam)) / R\n",
    "    # compute cost\n",
    "    #opt_DHS = np.sum(low_lam) + (1/R) * (1 - np.sum(high_lam))**2\n",
    "    opt_DHS = np.sum(low_lam**2) +  R * N**2\n",
    "    \n",
    "    return opt_DHS"
   ]
  },
  {
   "cell_type": "code",
   "execution_count": 698,
   "id": "352b5b46-49a7-4f21-be6c-6fdcb16d3ce9",
   "metadata": {},
   "outputs": [
    {
     "data": {
      "text/plain": [
       "0.004258835642402925"
      ]
     },
     "execution_count": 698,
     "metadata": {},
     "output_type": "execute_result"
    }
   ],
   "source": [
    "min(exact_cost)"
   ]
  },
  {
   "cell_type": "code",
   "execution_count": 712,
   "id": "b3ce038f-3dde-46d5-bf34-c4a9ca0cf1bb",
   "metadata": {},
   "outputs": [
    {
     "data": {
      "text/plain": [
       "0.004057495070829372"
      ]
     },
     "execution_count": 712,
     "metadata": {},
     "output_type": "execute_result"
    }
   ],
   "source": [
    "compute_optimal_DHS(rho, 1)"
   ]
  },
  {
   "cell_type": "code",
   "execution_count": null,
   "id": "a84fd96a-d8e0-4e34-9c7a-f73813ec337f",
   "metadata": {},
   "outputs": [],
   "source": []
  },
  {
   "cell_type": "code",
   "execution_count": 13,
   "id": "337a816c-ec08-4777-8253-6e741a858ee5",
   "metadata": {},
   "outputs": [
    {
     "name": "stdout",
     "output_type": "stream",
     "text": [
      "(0.9139742549999998+0j)\n"
     ]
    }
   ],
   "source": [
    "fname = \"pickled_runs/belem_1q_hadamard_prep_run_rank1_approx.pkl\"\n",
    "with open(fname, 'rb') as f:\n",
    "    data = pickle.load(f)\n",
    "print(data[\"rho\"].purity())"
   ]
  },
  {
   "cell_type": "code",
   "execution_count": 12,
   "id": "6245a97f-1071-4884-8f15-895bad9fdcf3",
   "metadata": {},
   "outputs": [
    {
     "name": "stdout",
     "output_type": "stream",
     "text": [
      "(0.9007216199999991+0j)\n"
     ]
    }
   ],
   "source": [
    "fname = \"pickled_runs/belem_1q_hadamard_prep_run.pkl\"\n",
    "with open(fname, 'rb') as f:\n",
    "    data = pickle.load(f)\n",
    "print(data[\"rho\"].purity())"
   ]
  },
  {
   "cell_type": "code",
   "execution_count": null,
   "id": "f8114733-2df8-471e-ace0-08626a7d752b",
   "metadata": {},
   "outputs": [],
   "source": []
  }
 ],
 "metadata": {
  "kernelspec": {
   "display_name": "Python 3 (ipykernel)",
   "language": "python",
   "name": "python3"
  },
  "language_info": {
   "codemirror_mode": {
    "name": "ipython",
    "version": 3
   },
   "file_extension": ".py",
   "mimetype": "text/x-python",
   "name": "python",
   "nbconvert_exporter": "python",
   "pygments_lexer": "ipython3",
   "version": "3.10.4"
  }
 },
 "nbformat": 4,
 "nbformat_minor": 5
}
