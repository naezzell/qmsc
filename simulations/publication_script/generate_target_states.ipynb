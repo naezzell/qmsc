{
 "cells": [
  {
   "cell_type": "code",
   "execution_count": 1,
   "id": "e84a02de-f565-41d2-bfa2-52c3f62d0c9a",
   "metadata": {},
   "outputs": [],
   "source": [
    "import numpy as np\n",
    "import qmsc.hamiltonian as ham\n",
    "import qmsc.qstate as qstate\n",
    "import qutip\n",
    "import pickle\n",
    "import scipy\n",
    "import matplotlib.pyplot as plt"
   ]
  },
  {
   "cell_type": "code",
   "execution_count": 2,
   "id": "ba136349-e37e-466b-a698-785fdce8ba00",
   "metadata": {},
   "outputs": [],
   "source": [
    "eps = 1 / 100\n",
    "num_states = 100\n",
    "\n",
    "def convert_to_qutip_op(np_array):\n",
    "    \"\"\"\n",
    "    Converts a numpy array to a Qutip object.\n",
    "    \"\"\"\n",
    "    shape = np_array.shape[0]\n",
    "    ket_dim = [2 for _ in range(int(np.log2(shape)))]\n",
    "    bra_dim = [2 for _ in range(int(np.log2(shape)))]\n",
    "    dims = [ket_dim, bra_dim]\n",
    "    \n",
    "    return qutip.Qobj(np_array, dims)"
   ]
  },
  {
   "cell_type": "markdown",
   "id": "018e6930-1e10-4f84-b012-7a9cf92c3284",
   "metadata": {},
   "source": [
    "## Generate the fixed ensemble of Bures random states"
   ]
  },
  {
   "cell_type": "code",
   "execution_count": 3,
   "id": "c817f6d3-3c0b-4686-909b-f40f47707cdf",
   "metadata": {},
   "outputs": [],
   "source": [
    "def gen_ginibre_matrix(m, n):\n",
    "    \"\"\"\n",
    "    Forms random Ginibre \n",
    "    (complex) matrix.\n",
    "    \"\"\"\n",
    "    real = np.random.normal(size=(m, n))\n",
    "    imag = np.random.normal(size=(m, n))\n",
    "    G = real + 1j * imag\n",
    "    \n",
    "    return G\n",
    "\n",
    "def gen_bures_rand_mixed_state(n):\n",
    "    \"\"\"\n",
    "    Generation of a random density matrix over [n] qubits\n",
    "    distributed according to the probability measure\n",
    "    induced by the Bures metric.\n",
    "    Note: Produces stats up to rank 2**n.\n",
    "    Note2: Generally, much lower rank, though. \n",
    "    \"\"\"\n",
    "    d = 2**n\n",
    "    G = gen_ginibre_matrix(d, d)\n",
    "    U = qstate.utils.gen_haar_random_unitary(n)\n",
    "    idn = np.identity(d)\n",
    "    a = np.matmul((idn + U), G)\n",
    "    b = np.matmul(G.conj().transpose(), (idn + U.conj().transpose()))\n",
    "    rho = np.matmul(a, b)\n",
    "    rho /= np.trace(rho)\n",
    "    \n",
    "    return convert_to_qutip_op(rho)"
   ]
  },
  {
   "cell_type": "code",
   "execution_count": 4,
   "id": "3a3e5055-d69c-4df6-a7c7-52b5e2290fb1",
   "metadata": {},
   "outputs": [],
   "source": [
    "bures_fname = \"random_bures_states.pkl\"\n",
    "bures_dict = {}\n",
    "for j in range(num_states):\n",
    "    for n in range(1, 6):\n",
    "        rho = gen_bures_rand_mixed_state(n)\n",
    "        energies = rho.eigenenergies()\n",
    "        re = sum(energies > eps)\n",
    "        bures_dict[(n, j)] = (rho, re)\n",
    "        \n",
    "with open(bures_fname, 'wb') as f:\n",
    "    pickle.dump(bures_dict, f)"
   ]
  },
  {
   "cell_type": "markdown",
   "id": "96f59a55-488e-4ddf-9b12-149a06567c3a",
   "metadata": {},
   "source": [
    "## Generate the fixed ensemble of Hilbert-Schmidt random states"
   ]
  },
  {
   "cell_type": "code",
   "execution_count": 5,
   "id": "eecb2688-673a-4cae-b54b-068d10835785",
   "metadata": {},
   "outputs": [],
   "source": [
    "def gen_hs_rand_mixed_state(n):\n",
    "    \"\"\"\n",
    "    Generation of a random density matrix on [n] qubits distributed according to \n",
    "    induced probability measure μ{2**n,k} obtained by tracing out an ancillary \n",
    "    system of dimension [k].\n",
    "    Note: Produces stats up to rank k. \n",
    "    Note2: When k = 2**n, we get uniform sampling over D_HS metric.\n",
    "    \"\"\"\n",
    "    d = 2**n\n",
    "    G = gen_ginibre_matrix(d, d)\n",
    "    rho = np.matmul(G, G.conj().transpose())\n",
    "    rho /= np.trace(rho)\n",
    "    \n",
    "    return convert_to_qutip_op(rho)"
   ]
  },
  {
   "cell_type": "code",
   "execution_count": 6,
   "id": "a50b95d4-0cb1-4214-94ee-2c054f00ff69",
   "metadata": {},
   "outputs": [],
   "source": [
    "hs_fname = \"random_hilbertschmidt_states.pkl\"\n",
    "hs_dict = {}\n",
    "for j in range(num_states):\n",
    "    for n in range(1, 6):\n",
    "        rho = gen_hs_rand_mixed_state(n)\n",
    "        energies = rho.eigenenergies()\n",
    "        re = sum(energies > eps)\n",
    "        hs_dict[(n, j)] = (rho, re)\n",
    "        \n",
    "with open(hs_fname, 'wb') as f:\n",
    "    pickle.dump(hs_dict, f)"
   ]
  },
  {
   "cell_type": "markdown",
   "id": "796f0156-4537-469e-bc09-d733a2e26312",
   "metadata": {},
   "source": [
    "## Generate random XY chains with open boundary conditions"
   ]
  },
  {
   "cell_type": "code",
   "execution_count": 7,
   "id": "bbf1f5e6-e61d-4f1b-91b6-4c59dba66e07",
   "metadata": {},
   "outputs": [],
   "source": [
    "def make_xy_chain_hamiltonian(n, rand=0):\n",
    "    \"\"\"\n",
    "    Makes [n] qubit XY model.\n",
    "    \"\"\"\n",
    "    qpairs = [(q, q + 1) for q in range(n - 1)]\n",
    "    if rand == 0:\n",
    "        Jx = [1 for _ in range(n - 1)]\n",
    "        Jy = Jx\n",
    "    else:\n",
    "        Jx = np.random.normal(size = n - 1)\n",
    "        Jy = np.random.normal(size = n - 1)\n",
    "    return ham.utils.make_xy_hamiltonian(qpairs, Jx, Jy, n)\n",
    "\n",
    "def form_xy_thermal_state(n, temp, rand=0):\n",
    "    \"\"\"\n",
    "    Forms rho^{(XY)}_{(thermal)} state.\n",
    "    \"\"\"\n",
    "    xy_ham = make_xy_hamiltonian(n, rand)\n",
    "    beta = 1 / temp\n",
    "    gibbs_op = scipy.linalg.expm(-beta * xy_ham)\n",
    "    norm = np.trace(gibbs_op)\n",
    "    \n",
    "    return convert_to_qutip_op(gibbs_op / norm)"
   ]
  },
  {
   "cell_type": "code",
   "execution_count": 8,
   "id": "a93245c1-84ee-45bf-b05f-4002801c9f26",
   "metadata": {},
   "outputs": [],
   "source": [
    "T = 0.05\n",
    "xy_fname = f\"random_xy_T_{T}_states.pkl\"\n",
    "xy_dict = {}\n",
    "for j in range(num_states // 4):\n",
    "    for n in range(2, 10):\n",
    "        rho = form_xy_thermal_state(n, T, 1)\n",
    "        energies = rho.eigenenergies()\n",
    "        re = sum(energies > eps)\n",
    "        xy_dict[(n, T, j)] = (rho, re)\n",
    "            \n",
    "with open(xy_fname, 'wb') as f:\n",
    "    pickle.dump(xy_dict, f)"
   ]
  },
  {
   "cell_type": "code",
   "execution_count": 7,
   "id": "2ecedf49-abe4-4c9b-af30-3fd032ec1036",
   "metadata": {},
   "outputs": [],
   "source": [
    "T = 10 * 0.05\n",
    "xy_fname = f\"random_xy_T_{T}_states.pkl\"\n",
    "xy_dict = {}\n",
    "for j in range(num_states // 4):\n",
    "    for n in range(2, 10):\n",
    "        rho = form_xy_thermal_state(n, T, 1)\n",
    "        energies = rho.eigenenergies()\n",
    "        re = sum(energies > eps)\n",
    "        xy_dict[(n, T, j)] = (rho, re)\n",
    "            \n",
    "with open(xy_fname, 'wb') as f:\n",
    "    pickle.dump(xy_dict, f)"
   ]
  },
  {
   "cell_type": "code",
   "execution_count": 8,
   "id": "5e566891-0955-4bb3-a879-d7d62b9ffa3c",
   "metadata": {},
   "outputs": [],
   "source": [
    "T = 100 * 0.05\n",
    "xy_fname = f\"random_xy_T_{T}_states.pkl\"\n",
    "xy_dict = {}\n",
    "for j in range(num_states // 4):\n",
    "    for n in range(2, 10):\n",
    "        rho = form_xy_thermal_state(n, T, 1)\n",
    "        energies = rho.eigenenergies()\n",
    "        re = sum(energies > eps)\n",
    "        xy_dict[(n, T, j)] = (rho, re)\n",
    "            \n",
    "with open(xy_fname, 'wb') as f:\n",
    "    pickle.dump(xy_dict, f)"
   ]
  },
  {
   "cell_type": "markdown",
   "id": "c06edf7d-2c4b-4ab3-893d-ca38360f9bf8",
   "metadata": {},
   "source": [
    "## Scratch of playing around with ranks and whatnot"
   ]
  },
  {
   "cell_type": "code",
   "execution_count": 10,
   "id": "ae93b8b0-f571-47b7-8d2f-27ff60437da3",
   "metadata": {},
   "outputs": [],
   "source": [
    "n = 9\n",
    "T = 0.05\n",
    "states = []\n",
    "eps_rank = []\n",
    "purity = []\n",
    "for _ in range(25):\n",
    "    rho = form_xy_thermal_state(n, T, 1)\n",
    "    states.append(rho)\n",
    "    purity.append(rho.purity())\n",
    "    energies = rho.eigenenergies()\n",
    "    re = sum(energies > eps)\n",
    "    eps_rank.append(re)"
   ]
  },
  {
   "cell_type": "code",
   "execution_count": 11,
   "id": "5b405e7b-7ff2-4cc9-9c84-f04e448f38a4",
   "metadata": {},
   "outputs": [
    {
     "data": {
      "text/plain": [
       "(array([18.,  0.,  0.,  0.,  0.,  0.,  0.,  0.,  0.,  7.]),\n",
       " array([2. , 2.2, 2.4, 2.6, 2.8, 3. , 3.2, 3.4, 3.6, 3.8, 4. ]),\n",
       " <BarContainer object of 10 artists>)"
      ]
     },
     "execution_count": 11,
     "metadata": {},
     "output_type": "execute_result"
    },
    {
     "data": {
      "image/png": "[encoded data removed]",
      "text/plain": [
       "<Figure size 432x288 with 1 Axes>"
      ]
     },
     "metadata": {
      "needs_background": "light"
     },
     "output_type": "display_data"
    }
   ],
   "source": [
    "plt.hist(eps_rank)"
   ]
  },
  {
   "cell_type": "code",
   "execution_count": 89,
   "id": "64145f8c-73b2-4a2a-bb6a-a894e399dd30",
   "metadata": {},
   "outputs": [
    {
     "data": {
      "text/plain": [
       "(array([ 1.,  0.,  0.,  1.,  0.,  0.,  1.,  1.,  3., 18.]),\n",
       " array([0.2850293 , 0.30652637, 0.32802344, 0.34952051, 0.37101758,\n",
       "        0.39251465, 0.41401172, 0.43550879, 0.45700586, 0.47850293,\n",
       "        0.5       ]),\n",
       " <BarContainer object of 10 artists>)"
      ]
     },
     "execution_count": 89,
     "metadata": {},
     "output_type": "execute_result"
    },
    {
     "data": {
      "image/png": "[encoded data removed]",
      "text/plain": [
       "<Figure size 432x288 with 1 Axes>"
      ]
     },
     "metadata": {
      "needs_background": "light"
     },
     "output_type": "display_data"
    }
   ],
   "source": [
    "plt.hist(purity)"
   ]
  },
  {
   "cell_type": "code",
   "execution_count": null,
   "id": "da92d9e1-2463-463c-8c6a-b93a4504b234",
   "metadata": {},
   "outputs": [],
   "source": []
  },
  {
   "cell_type": "code",
   "execution_count": 90,
   "id": "5f87b0d0-4c8e-4bdd-9e73-389668e128ef",
   "metadata": {},
   "outputs": [],
   "source": [
    "n = 9\n",
    "T = 10 * 0.05\n",
    "states = []\n",
    "eps_rank = []\n",
    "purity = []\n",
    "for _ in range(25):\n",
    "    rho = form_xy_thermal_state(n, T, 1)\n",
    "    states.append(rho)\n",
    "    purity.append(rho.purity())\n",
    "    energies = rho.eigenenergies()\n",
    "    re = sum(energies > eps)\n",
    "    eps_rank.append(re)"
   ]
  },
  {
   "cell_type": "code",
   "execution_count": 91,
   "id": "31554f86-f371-421a-836f-52518b94dd48",
   "metadata": {},
   "outputs": [
    {
     "data": {
      "text/plain": [
       "(array([2., 0., 7., 0., 3., 0., 4., 0., 7., 2.]),\n",
       " array([ 6.,  7.,  8.,  9., 10., 11., 12., 13., 14., 15., 16.]),\n",
       " <BarContainer object of 10 artists>)"
      ]
     },
     "execution_count": 91,
     "metadata": {},
     "output_type": "execute_result"
    },
    {
     "data": {
      "image/png": "[encoded data removed]",
      "text/plain": [
       "<Figure size 432x288 with 1 Axes>"
      ]
     },
     "metadata": {
      "needs_background": "light"
     },
     "output_type": "display_data"
    }
   ],
   "source": [
    "plt.hist(eps_rank)"
   ]
  },
  {
   "cell_type": "code",
   "execution_count": 92,
   "id": "425e4a31-90a5-45e2-a5bc-639c8daa79f8",
   "metadata": {},
   "outputs": [
    {
     "data": {
      "text/plain": [
       "(array([9., 4., 1., 2., 2., 1., 3., 1., 0., 2.]),\n",
       " array([0.09915882, 0.12153305, 0.14390728, 0.16628151, 0.18865574,\n",
       "        0.21102997, 0.2334042 , 0.25577843, 0.27815266, 0.30052689,\n",
       "        0.32290112]),\n",
       " <BarContainer object of 10 artists>)"
      ]
     },
     "execution_count": 92,
     "metadata": {},
     "output_type": "execute_result"
    },
    {
     "data": {
      "image/png": "[encoded data removed]",
      "text/plain": [
       "<Figure size 432x288 with 1 Axes>"
      ]
     },
     "metadata": {
      "needs_background": "light"
     },
     "output_type": "display_data"
    }
   ],
   "source": [
    "plt.hist(purity)"
   ]
  },
  {
   "cell_type": "code",
   "execution_count": 99,
   "id": "ba664ef3-6f29-4ffa-8c9b-103f36c30734",
   "metadata": {},
   "outputs": [],
   "source": [
    "n = 5\n",
    "T = 100 * 0.05\n",
    "states = []\n",
    "eps_rank = []\n",
    "purity = []\n",
    "for _ in range(25):\n",
    "    rho = form_xy_thermal_state(n, T, 1)\n",
    "    states.append(rho)\n",
    "    purity.append(rho.purity())\n",
    "    energies = rho.eigenenergies()\n",
    "    re = sum(energies > eps)\n",
    "    eps_rank.append(re)"
   ]
  },
  {
   "cell_type": "code",
   "execution_count": 100,
   "id": "1c817cfe-6be1-498c-aba4-22e438d02cdd",
   "metadata": {},
   "outputs": [
    {
     "data": {
      "text/plain": [
       "(array([ 1.,  0.,  0.,  0.,  3.,  0.,  1.,  0.,  7., 13.]),\n",
       " array([22., 23., 24., 25., 26., 27., 28., 29., 30., 31., 32.]),\n",
       " <BarContainer object of 10 artists>)"
      ]
     },
     "execution_count": 100,
     "metadata": {},
     "output_type": "execute_result"
    },
    {
     "data": {
      "image/png": "[encoded data removed]",
      "text/plain": [
       "<Figure size 432x288 with 1 Axes>"
      ]
     },
     "metadata": {
      "needs_background": "light"
     },
     "output_type": "display_data"
    }
   ],
   "source": [
    "plt.hist(eps_rank)"
   ]
  },
  {
   "cell_type": "code",
   "execution_count": 101,
   "id": "ddc57aba-87c9-479c-b69d-e35179dd33b3",
   "metadata": {},
   "outputs": [
    {
     "data": {
      "text/plain": [
       "(array([2., 6., 6., 3., 3., 1., 2., 0., 1., 1.]),\n",
       " array([0.03481993, 0.0368968 , 0.03897366, 0.04105053, 0.0431274 ,\n",
       "        0.04520427, 0.04728114, 0.049358  , 0.05143487, 0.05351174,\n",
       "        0.05558861]),\n",
       " <BarContainer object of 10 artists>)"
      ]
     },
     "execution_count": 101,
     "metadata": {},
     "output_type": "execute_result"
    },
    {
     "data": {
      "image/png": "[encoded data removed]",
      "text/plain": [
       "<Figure size 432x288 with 1 Axes>"
      ]
     },
     "metadata": {
      "needs_background": "light"
     },
     "output_type": "display_data"
    }
   ],
   "source": [
    "plt.hist(purity)"
   ]
  },
  {
   "cell_type": "code",
   "execution_count": null,
   "id": "56d27078-39b1-4d69-a770-f55818420fa2",
   "metadata": {},
   "outputs": [],
   "source": []
  },
  {
   "cell_type": "code",
   "execution_count": 118,
   "id": "47ac73f3-594d-4aec-81c3-178092bee160",
   "metadata": {},
   "outputs": [],
   "source": [
    "init_beta = 1e-3\n",
    "\n",
    "# small system sizes xy model inputs\n",
    "small_xy_input_list = []\n",
    "na_choices = 0\n",
    "max_perturbations = 0\n",
    "opt_tol = 1e-16\n",
    "diff_tol = 1e-8\n",
    "s_lidx = 0\n",
    "s_uidx = 24\n",
    "state_types = [\"xy_T_0.05\", \"xy_T_0.5\", \"xy_T_5.0\"]\n",
    "for ns in range(1, 3):\n",
    "    time = \"1:00:00\"\n",
    "    job_name = f\"xy_{ns}\"\n",
    "    for st in state_types:\n",
    "        inp = [st, ns, s_lidx, s_uidx, na_choices, max_perturbations, opt_tol,\n",
    "               diff_tol, init_beta, time, job_name]"
   ]
  },
  {
   "cell_type": "code",
   "execution_count": 120,
   "id": "c24ce852-8ded-4070-8a44-806b45220be4",
   "metadata": {},
   "outputs": [],
   "source": [
    "inp = [str(x) for x in inp]"
   ]
  },
  {
   "cell_type": "code",
   "execution_count": 124,
   "id": "344faf26-249f-4a15-b01e-3b82f0c2b7f7",
   "metadata": {},
   "outputs": [
    {
     "data": {
      "text/plain": [
       "1e-08"
      ]
     },
     "execution_count": 124,
     "metadata": {},
     "output_type": "execute_result"
    }
   ],
   "source": [
    "float(inp[-4])"
   ]
  },
  {
   "cell_type": "code",
   "execution_count": 25,
   "id": "6a22f4a9-0c91-414c-9421-52415acbaad8",
   "metadata": {},
   "outputs": [
    {
     "name": "stdout",
     "output_type": "stream",
     "text": [
      "9 4 16\n"
     ]
    }
   ],
   "source": [
    "re = 9\n",
    "na = int(np.ceil(np.log2(re)))\n",
    "if na == 0:\n",
    "    na += 1\n",
    "R = 2**na\n",
    "print(re, na, R)"
   ]
  },
  {
   "cell_type": "code",
   "execution_count": null,
   "id": "d50cfcf9-868c-4650-9857-23a8338c8c2e",
   "metadata": {},
   "outputs": [],
   "source": [
    "4"
   ]
  }
 ],
 "metadata": {
  "kernelspec": {
   "display_name": "Python 3 (ipykernel)",
   "language": "python",
   "name": "python3"
  },
  "language_info": {
   "codemirror_mode": {
    "name": "ipython",
    "version": 3
   },
   "file_extension": ".py",
   "mimetype": "text/x-python",
   "name": "python",
   "nbconvert_exporter": "python",
   "pygments_lexer": "ipython3",
   "version": "3.10.4"
  }
 },
 "nbformat": 4,
 "nbformat_minor": 5
}
